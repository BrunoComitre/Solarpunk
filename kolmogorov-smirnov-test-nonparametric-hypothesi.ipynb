{
 "cells": [
  {
   "cell_type": "markdown",
   "metadata": {
    "_uuid": "05bd4f385cc3bde07980c0865bfff19d00438fc2",
    "papermill": {
     "duration": 0.06174,
     "end_time": "2021-01-07T23:28:42.929361",
     "exception": false,
     "start_time": "2021-01-07T23:28:42.867621",
     "status": "completed"
    },
    "tags": []
   },
   "source": [
    "<p>&nbsp;</p>\n",
    "</p><h1 style=\"text-align: center;\"><strong>Kolmogorov–Smirnov Test</strong></h1>\n",
    "<h2 style=\"text-align: center;\"><strong>Nonparametric Hypothesis Testing for Data Science</strong></h2>\n",
    "<p>&nbsp;</p><p>&nbsp;</p><p>&nbsp;</p>"
   ]
  },
  {
   "cell_type": "markdown",
   "metadata": {
    "_uuid": "4d2c231c016bf65abef332ce542be7d422595c30",
    "heading_collapsed": true,
    "papermill": {
     "duration": 0.038378,
     "end_time": "2021-01-07T23:28:43.007213",
     "exception": false,
     "start_time": "2021-01-07T23:28:42.968835",
     "status": "completed"
    },
    "tags": []
   },
   "source": [
    "# Introduction"
   ]
  },
  {
   "cell_type": "markdown",
   "metadata": {
    "_uuid": "d6262d2db46c479efd9ad748049899754c50c617",
    "hidden": true,
    "papermill": {
     "duration": 0.037983,
     "end_time": "2021-01-07T23:28:43.085766",
     "exception": false,
     "start_time": "2021-01-07T23:28:43.047783",
     "status": "completed"
    },
    "tags": []
   },
   "source": [
    "The Kolmogorov-Smirnov test (KS test) allows detecting patterns that can not be detected with the Student t test.\n",
    "\n",
    "**According to Wikipedia:**\n",
    "\n",
    "> The Kolmogorov-Smirnov statistic quantifies the distance between\n",
    "> the empirical distribution function of the sample and the cumulative\n",
    "> distribution function of the reference distribution, or between the\n",
    "> empirical functions of two-sample distribution. The null distribution\n",
    "> of this statistic is calculated under the null hypothesis that the\n",
    "> sample is withdrawn from the reference distribution (in the case of a\n",
    "> sample) or that the samples are drawn from the same distribution (in\n",
    "> the case of two samples). In each case, the distributions considered\n",
    "> under the null hypothesis are continuous distributions, but are\n",
    "> unrestricted.\n",
    "\n",
    "The test is intended to ascertain whether a sample can be considered as coming from a population with a given distribution. The test is particularly suitable for continuous distributions and has the advantage of making no assumptions about the data distribution. \n",
    "\n",
    "In other words:\n",
    "\n",
    "- The Student T-Test says that there is a 79.3% chance that the two samples will be of the same distribution.\n",
    "- The KS test says that there is a 1.6% chance that the two samples will be of the same distribution."
   ]
  },
  {
   "cell_type": "markdown",
   "metadata": {
    "_uuid": "9fb49694be969a317fa8b1a81718b38d69460f58",
    "hidden": true,
    "papermill": {
     "duration": 0.03779,
     "end_time": "2021-01-07T23:28:43.162053",
     "exception": false,
     "start_time": "2021-01-07T23:28:43.124263",
     "status": "completed"
    },
    "tags": []
   },
   "source": [
    "**Imports and Parameters:**"
   ]
  },
  {
   "cell_type": "code",
   "execution_count": 1,
   "metadata": {
    "_uuid": "f3393451eb1b454aa2e436f36f00457f750b80f1",
    "execution": {
     "iopub.execute_input": "2021-01-07T23:28:43.244885Z",
     "iopub.status.busy": "2021-01-07T23:28:43.244144Z",
     "iopub.status.idle": "2021-01-07T23:28:43.247635Z",
     "shell.execute_reply": "2021-01-07T23:28:43.248295Z"
    },
    "hidden": true,
    "papermill": {
     "duration": 0.048309,
     "end_time": "2021-01-07T23:28:43.248493",
     "exception": false,
     "start_time": "2021-01-07T23:28:43.200184",
     "status": "completed"
    },
    "tags": []
   },
   "outputs": [],
   "source": [
    "import pandas as pd\n",
    "import numpy as np"
   ]
  },
  {
   "cell_type": "markdown",
   "metadata": {
    "_uuid": "17241c3ac71dd8071711df36e32fd81713dc779b",
    "hidden": true,
    "papermill": {
     "duration": 0.038871,
     "end_time": "2021-01-07T23:28:43.326044",
     "exception": false,
     "start_time": "2021-01-07T23:28:43.287173",
     "status": "completed"
    },
    "tags": []
   },
   "source": [
    "***"
   ]
  },
  {
   "cell_type": "markdown",
   "metadata": {
    "_uuid": "7af3ba0dbd45bb3a9e97165e25cbf83e3109bdfd",
    "heading_collapsed": true,
    "papermill": {
     "duration": 0.046502,
     "end_time": "2021-01-07T23:28:43.411509",
     "exception": false,
     "start_time": "2021-01-07T23:28:43.365007",
     "status": "completed"
    },
    "tags": []
   },
   "source": [
    "# scipy.stats.kstest"
   ]
  },
  {
   "cell_type": "markdown",
   "metadata": {
    "_uuid": "7bfee9a6bb24693ac5b8449d63fcfa0709cfbdcd",
    "hidden": true,
    "papermill": {
     "duration": 0.040833,
     "end_time": "2021-01-07T23:28:43.491042",
     "exception": false,
     "start_time": "2021-01-07T23:28:43.450209",
     "status": "completed"
    },
    "tags": []
   },
   "source": [
    "Kolmogorov-Smirnov test to improve fit. The KS test is valid only for continuous distributions."
   ]
  },
  {
   "cell_type": "markdown",
   "metadata": {
    "_uuid": "600aa4b990df299575d06989cb4f80e623776cdd",
    "hidden": true,
    "papermill": {
     "duration": 0.03829,
     "end_time": "2021-01-07T23:28:43.568904",
     "exception": false,
     "start_time": "2021-01-07T23:28:43.530614",
     "status": "completed"
    },
    "tags": []
   },
   "source": [
    "**Imports and Parameters:**"
   ]
  },
  {
   "cell_type": "code",
   "execution_count": 2,
   "metadata": {
    "_uuid": "7421cfffa93e01d6afe9d4b91b7b7cfd8d013594",
    "execution": {
     "iopub.execute_input": "2021-01-07T23:28:43.653746Z",
     "iopub.status.busy": "2021-01-07T23:28:43.652997Z",
     "iopub.status.idle": "2021-01-07T23:28:44.598757Z",
     "shell.execute_reply": "2021-01-07T23:28:44.597904Z"
    },
    "hidden": true,
    "papermill": {
     "duration": 0.990249,
     "end_time": "2021-01-07T23:28:44.598904",
     "exception": false,
     "start_time": "2021-01-07T23:28:43.608655",
     "status": "completed"
    },
    "tags": []
   },
   "outputs": [],
   "source": [
    "from scipy import stats # if you want to import everything\n",
    "from scipy.stats import kstest # specific import"
   ]
  },
  {
   "cell_type": "markdown",
   "metadata": {
    "_uuid": "3204e2c643fc4b1a6154472bfbccfcc489f7624a",
    "hidden": true,
    "papermill": {
     "duration": 0.038627,
     "end_time": "2021-01-07T23:28:44.676864",
     "exception": false,
     "start_time": "2021-01-07T23:28:44.638237",
     "status": "completed"
    },
    "tags": []
   },
   "source": [
    "**Examples:**"
   ]
  },
  {
   "cell_type": "code",
   "execution_count": 3,
   "metadata": {
    "_uuid": "72bfc6c65ff5c28d59285f62097ede711f44a3e3",
    "execution": {
     "iopub.execute_input": "2021-01-07T23:28:44.788394Z",
     "iopub.status.busy": "2021-01-07T23:28:44.787224Z",
     "iopub.status.idle": "2021-01-07T23:28:44.794663Z",
     "shell.execute_reply": "2021-01-07T23:28:44.795538Z"
    },
    "hidden": true,
    "papermill": {
     "duration": 0.072412,
     "end_time": "2021-01-07T23:28:44.795795",
     "exception": false,
     "start_time": "2021-01-07T23:28:44.723383",
     "status": "completed"
    },
    "tags": []
   },
   "outputs": [
    {
     "data": {
      "text/plain": [
       "KstestResult(statistic=0.4443560271592436, pvalue=0.03885014270517116)"
      ]
     },
     "execution_count": 3,
     "metadata": {},
     "output_type": "execute_result"
    }
   ],
   "source": [
    "x = np.linspace(-15, 15, 9)\n",
    "stats.kstest(x, 'norm')"
   ]
  },
  {
   "cell_type": "code",
   "execution_count": 4,
   "metadata": {
    "_uuid": "b6db95ed927ba311312c1825c1fdbe9bf6e2fd44",
    "execution": {
     "iopub.execute_input": "2021-01-07T23:28:44.879026Z",
     "iopub.status.busy": "2021-01-07T23:28:44.878312Z",
     "iopub.status.idle": "2021-01-07T23:28:44.886264Z",
     "shell.execute_reply": "2021-01-07T23:28:44.885641Z"
    },
    "hidden": true,
    "papermill": {
     "duration": 0.050275,
     "end_time": "2021-01-07T23:28:44.886388",
     "exception": false,
     "start_time": "2021-01-07T23:28:44.836113",
     "status": "completed"
    },
    "tags": []
   },
   "outputs": [
    {
     "data": {
      "text/plain": [
       "KstestResult(statistic=0.058352892479417884, pvalue=0.8853119094415125)"
      ]
     },
     "execution_count": 4,
     "metadata": {},
     "output_type": "execute_result"
    }
   ],
   "source": [
    "np.random.seed(987654321) # set random seed to get the same result\n",
    "stats.kstest('norm', False, N=100)"
   ]
  },
  {
   "cell_type": "markdown",
   "metadata": {
    "_uuid": "3f94939e794d15e5838a81e6df640b1ccbc22f00",
    "hidden": true,
    "papermill": {
     "duration": 0.039276,
     "end_time": "2021-01-07T23:28:44.966167",
     "exception": false,
     "start_time": "2021-01-07T23:28:44.926891",
     "status": "completed"
    },
    "tags": []
   },
   "source": [
    "The above lines are equivalent to:"
   ]
  },
  {
   "cell_type": "code",
   "execution_count": 5,
   "metadata": {
    "_uuid": "c20affb57b2d664face025268cdc7a101c021169",
    "execution": {
     "iopub.execute_input": "2021-01-07T23:28:45.054929Z",
     "iopub.status.busy": "2021-01-07T23:28:45.053876Z",
     "iopub.status.idle": "2021-01-07T23:28:45.057899Z",
     "shell.execute_reply": "2021-01-07T23:28:45.058451Z"
    },
    "hidden": true,
    "papermill": {
     "duration": 0.05261,
     "end_time": "2021-01-07T23:28:45.058614",
     "exception": false,
     "start_time": "2021-01-07T23:28:45.006004",
     "status": "completed"
    },
    "tags": []
   },
   "outputs": [
    {
     "data": {
      "text/plain": [
       "KstestResult(statistic=0.058352892479417884, pvalue=0.8853119094415125)"
      ]
     },
     "execution_count": 5,
     "metadata": {},
     "output_type": "execute_result"
    }
   ],
   "source": [
    "np.random.seed(987654321)\n",
    "stats.kstest(stats.norm.rvs(size=100), 'norm')"
   ]
  },
  {
   "cell_type": "markdown",
   "metadata": {
    "_uuid": "694c3a4d601ea280725046012b4125747e106c34",
    "hidden": true,
    "papermill": {
     "duration": 0.039901,
     "end_time": "2021-01-07T23:28:45.138898",
     "exception": false,
     "start_time": "2021-01-07T23:28:45.098997",
     "status": "completed"
    },
    "tags": []
   },
   "source": [
    "Test against one-sided alternative hypothesis"
   ]
  },
  {
   "cell_type": "markdown",
   "metadata": {
    "_uuid": "37040b3a9a803e6afa1dbf8a14f3809fb8f016cb",
    "hidden": true,
    "papermill": {
     "duration": 0.039827,
     "end_time": "2021-01-07T23:28:45.219267",
     "exception": false,
     "start_time": "2021-01-07T23:28:45.179440",
     "status": "completed"
    },
    "tags": []
   },
   "source": [
    "Shift distribution to larger values, so that cdf_dgp(x) < norm.cdf(x):"
   ]
  },
  {
   "cell_type": "code",
   "execution_count": 6,
   "metadata": {
    "_uuid": "a48bcb5065ed375deba8d8a830a6430e3e471895",
    "execution": {
     "iopub.execute_input": "2021-01-07T23:28:45.305565Z",
     "iopub.status.busy": "2021-01-07T23:28:45.304859Z",
     "iopub.status.idle": "2021-01-07T23:28:45.313563Z",
     "shell.execute_reply": "2021-01-07T23:28:45.313027Z"
    },
    "hidden": true,
    "papermill": {
     "duration": 0.052273,
     "end_time": "2021-01-07T23:28:45.313699",
     "exception": false,
     "start_time": "2021-01-07T23:28:45.261426",
     "status": "completed"
    },
    "tags": []
   },
   "outputs": [
    {
     "data": {
      "text/plain": [
       "KstestResult(statistic=0.12464329735846891, pvalue=0.04098916407764171)"
      ]
     },
     "execution_count": 6,
     "metadata": {},
     "output_type": "execute_result"
    }
   ],
   "source": [
    "np.random.seed(987654321)\n",
    "x = stats.norm.rvs(loc=0.2, size=100)\n",
    "stats.kstest(x,'norm', alternative = 'less')"
   ]
  },
  {
   "cell_type": "markdown",
   "metadata": {
    "_uuid": "a15b6199cc2e9f1590b4c82e05710dd4682b0fd0",
    "hidden": true,
    "papermill": {
     "duration": 0.040555,
     "end_time": "2021-01-07T23:28:45.394902",
     "exception": false,
     "start_time": "2021-01-07T23:28:45.354347",
     "status": "completed"
    },
    "tags": []
   },
   "source": [
    "Reject equal distribution against alternative hypothesis: less"
   ]
  },
  {
   "cell_type": "code",
   "execution_count": 7,
   "metadata": {
    "_uuid": "fb361173bf033800410fa5c873f6a53f0ce201db",
    "execution": {
     "iopub.execute_input": "2021-01-07T23:28:45.479893Z",
     "iopub.status.busy": "2021-01-07T23:28:45.479229Z",
     "iopub.status.idle": "2021-01-07T23:28:45.485429Z",
     "shell.execute_reply": "2021-01-07T23:28:45.486066Z"
    },
    "hidden": true,
    "papermill": {
     "duration": 0.051013,
     "end_time": "2021-01-07T23:28:45.486240",
     "exception": false,
     "start_time": "2021-01-07T23:28:45.435227",
     "status": "completed"
    },
    "tags": []
   },
   "outputs": [
    {
     "data": {
      "text/plain": [
       "KstestResult(statistic=0.007211523321631108, pvalue=0.9853115859039637)"
      ]
     },
     "execution_count": 7,
     "metadata": {},
     "output_type": "execute_result"
    }
   ],
   "source": [
    "stats.kstest(x,'norm', alternative = 'greater')"
   ]
  },
  {
   "cell_type": "markdown",
   "metadata": {
    "_uuid": "c7e959dcadaf11d9fc01009b75582086fe3018ce",
    "hidden": true,
    "papermill": {
     "duration": 0.040748,
     "end_time": "2021-01-07T23:28:45.567901",
     "exception": false,
     "start_time": "2021-01-07T23:28:45.527153",
     "status": "completed"
    },
    "tags": []
   },
   "source": [
    "Don’t reject equal distribution against alternative hypothesis: greater"
   ]
  },
  {
   "cell_type": "code",
   "execution_count": 8,
   "metadata": {
    "_uuid": "7c59c2b8be51378de294d6e3399fa18c2fd05a16",
    "execution": {
     "iopub.execute_input": "2021-01-07T23:28:45.656011Z",
     "iopub.status.busy": "2021-01-07T23:28:45.655329Z",
     "iopub.status.idle": "2021-01-07T23:28:45.661836Z",
     "shell.execute_reply": "2021-01-07T23:28:45.662395Z"
    },
    "hidden": true,
    "papermill": {
     "duration": 0.051891,
     "end_time": "2021-01-07T23:28:45.662578",
     "exception": false,
     "start_time": "2021-01-07T23:28:45.610687",
     "status": "completed"
    },
    "tags": []
   },
   "outputs": [
    {
     "data": {
      "text/plain": [
       "KstestResult(statistic=0.12464329735846891, pvalue=0.08944488871182082)"
      ]
     },
     "execution_count": 8,
     "metadata": {},
     "output_type": "execute_result"
    }
   ],
   "source": [
    "stats.kstest(x,'norm', mode='asymp')"
   ]
  },
  {
   "cell_type": "markdown",
   "metadata": {
    "_uuid": "43e3f2d76c38a2598b992d6284fbdd8d62460485",
    "hidden": true,
    "papermill": {
     "duration": 0.053335,
     "end_time": "2021-01-07T23:28:45.757542",
     "exception": false,
     "start_time": "2021-01-07T23:28:45.704207",
     "status": "completed"
    },
    "tags": []
   },
   "source": [
    "Testing t distributed random variables against normal distribution"
   ]
  },
  {
   "cell_type": "markdown",
   "metadata": {
    "_uuid": "676afe143f21f9147f3d32ddf53540405bd57c7f",
    "hidden": true,
    "papermill": {
     "duration": 0.0538,
     "end_time": "2021-01-07T23:28:45.860613",
     "exception": false,
     "start_time": "2021-01-07T23:28:45.806813",
     "status": "completed"
    },
    "tags": []
   },
   "source": [
    "With 100 degrees of freedom the t distribution looks close to the normal distribution, and the K-S test does not reject the hypothesis that the sample came from the normal distribution:"
   ]
  },
  {
   "cell_type": "code",
   "execution_count": 9,
   "metadata": {
    "_uuid": "9f6a51705e30c7fff863d3c3e189862186c23923",
    "execution": {
     "iopub.execute_input": "2021-01-07T23:28:45.956556Z",
     "iopub.status.busy": "2021-01-07T23:28:45.955795Z",
     "iopub.status.idle": "2021-01-07T23:28:45.963499Z",
     "shell.execute_reply": "2021-01-07T23:28:45.964048Z"
    },
    "hidden": true,
    "papermill": {
     "duration": 0.0537,
     "end_time": "2021-01-07T23:28:45.964215",
     "exception": false,
     "start_time": "2021-01-07T23:28:45.910515",
     "status": "completed"
    },
    "tags": []
   },
   "outputs": [
    {
     "data": {
      "text/plain": [
       "KstestResult(statistic=0.07201892916547126, pvalue=0.6763006286247913)"
      ]
     },
     "execution_count": 9,
     "metadata": {},
     "output_type": "execute_result"
    }
   ],
   "source": [
    "np.random.seed(987654321)\n",
    "stats.kstest(stats.t.rvs(100,size=100),'norm')"
   ]
  },
  {
   "cell_type": "markdown",
   "metadata": {
    "_uuid": "407657cf056c4205a1ad35eb0f017a97f92af46d",
    "hidden": true,
    "papermill": {
     "duration": 0.041993,
     "end_time": "2021-01-07T23:28:46.048696",
     "exception": false,
     "start_time": "2021-01-07T23:28:46.006703",
     "status": "completed"
    },
    "tags": []
   },
   "source": [
    "With 3 degrees of freedom the t distribution looks sufficiently different from the normal distribution, that we can reject the hypothesis that the sample came from the normal distribution at the 10% level:"
   ]
  },
  {
   "cell_type": "code",
   "execution_count": 10,
   "metadata": {
    "_uuid": "21ee91e292fd2161ace95720f18881fbcf88993f",
    "execution": {
     "iopub.execute_input": "2021-01-07T23:28:46.137341Z",
     "iopub.status.busy": "2021-01-07T23:28:46.136610Z",
     "iopub.status.idle": "2021-01-07T23:28:46.145290Z",
     "shell.execute_reply": "2021-01-07T23:28:46.144622Z"
    },
    "hidden": true,
    "papermill": {
     "duration": 0.054083,
     "end_time": "2021-01-07T23:28:46.145417",
     "exception": false,
     "start_time": "2021-01-07T23:28:46.091334",
     "status": "completed"
    },
    "tags": []
   },
   "outputs": [
    {
     "data": {
      "text/plain": [
       "KstestResult(statistic=0.131016895759829, pvalue=0.058826222555312356)"
      ]
     },
     "execution_count": 10,
     "metadata": {},
     "output_type": "execute_result"
    }
   ],
   "source": [
    "np.random.seed(987654321)\n",
    "stats.kstest(stats.t.rvs(3,size=100),'norm')"
   ]
  },
  {
   "cell_type": "markdown",
   "metadata": {
    "_uuid": "02d898cdaba4c72b3621f4b73b09f316f81098a7",
    "hidden": true,
    "papermill": {
     "duration": 0.042444,
     "end_time": "2021-01-07T23:28:46.230491",
     "exception": false,
     "start_time": "2021-01-07T23:28:46.188047",
     "status": "completed"
    },
    "tags": []
   },
   "source": [
    "***"
   ]
  },
  {
   "cell_type": "markdown",
   "metadata": {
    "_uuid": "c50008fe524cbbdd77903b06929b5bcee0abfa70",
    "heading_collapsed": true,
    "papermill": {
     "duration": 0.042618,
     "end_time": "2021-01-07T23:28:46.324858",
     "exception": false,
     "start_time": "2021-01-07T23:28:46.282240",
     "status": "completed"
    },
    "tags": []
   },
   "source": [
    "# scipy.stats.ks_2samp"
   ]
  },
  {
   "cell_type": "markdown",
   "metadata": {
    "_uuid": "7b495cd2e51d6a0efe4782a3d631cf9e34b63816",
    "hidden": true,
    "papermill": {
     "duration": 0.042693,
     "end_time": "2021-01-07T23:28:46.411565",
     "exception": false,
     "start_time": "2021-01-07T23:28:46.368872",
     "status": "completed"
    },
    "tags": []
   },
   "source": [
    "Calculating the bilateral KS test for the null hypothesis in 2 independent samples are extracted from the same continuous distribution."
   ]
  },
  {
   "cell_type": "markdown",
   "metadata": {
    "_uuid": "e70329c0eeb3d28f95d4081073ce279d6ca9e642",
    "hidden": true,
    "papermill": {
     "duration": 0.042705,
     "end_time": "2021-01-07T23:28:46.497098",
     "exception": false,
     "start_time": "2021-01-07T23:28:46.454393",
     "status": "completed"
    },
    "tags": []
   },
   "source": [
    "**Imports and Parameters:**"
   ]
  },
  {
   "cell_type": "code",
   "execution_count": 11,
   "metadata": {
    "_uuid": "0d94bc720ab3c21935cbec1b78656fee625ab6d8",
    "execution": {
     "iopub.execute_input": "2021-01-07T23:28:46.587716Z",
     "iopub.status.busy": "2021-01-07T23:28:46.586926Z",
     "iopub.status.idle": "2021-01-07T23:28:46.592027Z",
     "shell.execute_reply": "2021-01-07T23:28:46.591442Z"
    },
    "hidden": true,
    "papermill": {
     "duration": 0.051873,
     "end_time": "2021-01-07T23:28:46.592178",
     "exception": false,
     "start_time": "2021-01-07T23:28:46.540305",
     "status": "completed"
    },
    "tags": []
   },
   "outputs": [],
   "source": [
    "from scipy import stats # if you want to import everything\n",
    "from scipy.stats import ks_2samp # specific import"
   ]
  },
  {
   "cell_type": "markdown",
   "metadata": {
    "_uuid": "7ce0a55cef0a302b3e17a150e577751fb1562498",
    "hidden": true,
    "papermill": {
     "duration": 0.043862,
     "end_time": "2021-01-07T23:28:46.679545",
     "exception": false,
     "start_time": "2021-01-07T23:28:46.635683",
     "status": "completed"
    },
    "tags": []
   },
   "source": [
    "**Examples:**"
   ]
  },
  {
   "cell_type": "code",
   "execution_count": 12,
   "metadata": {
    "_uuid": "95b253db7aadbb7a4304e4de7bb929499738c6ac",
    "execution": {
     "iopub.execute_input": "2021-01-07T23:28:46.779965Z",
     "iopub.status.busy": "2021-01-07T23:28:46.778842Z",
     "iopub.status.idle": "2021-01-07T23:28:46.781116Z",
     "shell.execute_reply": "2021-01-07T23:28:46.781568Z"
    },
    "hidden": true,
    "papermill": {
     "duration": 0.055143,
     "end_time": "2021-01-07T23:28:46.781749",
     "exception": false,
     "start_time": "2021-01-07T23:28:46.726606",
     "status": "completed"
    },
    "tags": []
   },
   "outputs": [],
   "source": [
    "np.random.seed(12345678)  #fix random seed to get the same result"
   ]
  },
  {
   "cell_type": "code",
   "execution_count": 13,
   "metadata": {
    "_uuid": "073dce5e88b3a61b56fe2cc10433e3a9354c2aa4",
    "execution": {
     "iopub.execute_input": "2021-01-07T23:28:46.872779Z",
     "iopub.status.busy": "2021-01-07T23:28:46.871667Z",
     "iopub.status.idle": "2021-01-07T23:28:46.876008Z",
     "shell.execute_reply": "2021-01-07T23:28:46.876495Z"
    },
    "hidden": true,
    "papermill": {
     "duration": 0.0517,
     "end_time": "2021-01-07T23:28:46.876672",
     "exception": false,
     "start_time": "2021-01-07T23:28:46.824972",
     "status": "completed"
    },
    "tags": []
   },
   "outputs": [],
   "source": [
    "n1 = 200  # size of first sample"
   ]
  },
  {
   "cell_type": "code",
   "execution_count": 14,
   "metadata": {
    "_uuid": "f17b1aa29972a9bd81f8e5a0b49934643eafd046",
    "execution": {
     "iopub.execute_input": "2021-01-07T23:28:46.969694Z",
     "iopub.status.busy": "2021-01-07T23:28:46.968628Z",
     "iopub.status.idle": "2021-01-07T23:28:46.973125Z",
     "shell.execute_reply": "2021-01-07T23:28:46.973633Z"
    },
    "hidden": true,
    "papermill": {
     "duration": 0.052972,
     "end_time": "2021-01-07T23:28:46.973811",
     "exception": false,
     "start_time": "2021-01-07T23:28:46.920839",
     "status": "completed"
    },
    "tags": []
   },
   "outputs": [],
   "source": [
    "n2 = 300  # size of second sample"
   ]
  },
  {
   "cell_type": "markdown",
   "metadata": {
    "_uuid": "0ecb0859e16af455128ccfdf2f3c78bb6af1d3e7",
    "hidden": true,
    "papermill": {
     "duration": 0.043112,
     "end_time": "2021-01-07T23:28:47.060333",
     "exception": false,
     "start_time": "2021-01-07T23:28:47.017221",
     "status": "completed"
    },
    "tags": []
   },
   "source": [
    "For a different distribution, we can reject the null hypothesis since the pvalue is below 1%:"
   ]
  },
  {
   "cell_type": "code",
   "execution_count": 15,
   "metadata": {
    "_uuid": "2c13b38b0e7a1be55bbbadba41082c421101b40b",
    "execution": {
     "iopub.execute_input": "2021-01-07T23:28:47.153617Z",
     "iopub.status.busy": "2021-01-07T23:28:47.152903Z",
     "iopub.status.idle": "2021-01-07T23:28:47.155414Z",
     "shell.execute_reply": "2021-01-07T23:28:47.155985Z"
    },
    "hidden": true,
    "papermill": {
     "duration": 0.052632,
     "end_time": "2021-01-07T23:28:47.156156",
     "exception": false,
     "start_time": "2021-01-07T23:28:47.103524",
     "status": "completed"
    },
    "tags": []
   },
   "outputs": [],
   "source": [
    "rvs1 = stats.norm.rvs(size=n1, loc=0., scale=1)"
   ]
  },
  {
   "cell_type": "code",
   "execution_count": 16,
   "metadata": {
    "_uuid": "23390927aea6c1357addb89e4787c2eafe0e2019",
    "execution": {
     "iopub.execute_input": "2021-01-07T23:28:47.249841Z",
     "iopub.status.busy": "2021-01-07T23:28:47.246962Z",
     "iopub.status.idle": "2021-01-07T23:28:47.252484Z",
     "shell.execute_reply": "2021-01-07T23:28:47.253067Z"
    },
    "hidden": true,
    "papermill": {
     "duration": 0.05334,
     "end_time": "2021-01-07T23:28:47.253239",
     "exception": false,
     "start_time": "2021-01-07T23:28:47.199899",
     "status": "completed"
    },
    "tags": []
   },
   "outputs": [],
   "source": [
    "rvs2 = stats.norm.rvs(size=n2, loc=0.5, scale=1.5)"
   ]
  },
  {
   "cell_type": "code",
   "execution_count": 17,
   "metadata": {
    "_uuid": "254ea653412160f7b954cac87f352e7df46c9fa8",
    "execution": {
     "iopub.execute_input": "2021-01-07T23:28:47.345464Z",
     "iopub.status.busy": "2021-01-07T23:28:47.344402Z",
     "iopub.status.idle": "2021-01-07T23:28:47.356013Z",
     "shell.execute_reply": "2021-01-07T23:28:47.356528Z"
    },
    "hidden": true,
    "papermill": {
     "duration": 0.059296,
     "end_time": "2021-01-07T23:28:47.356696",
     "exception": false,
     "start_time": "2021-01-07T23:28:47.297400",
     "status": "completed"
    },
    "tags": []
   },
   "outputs": [
    {
     "data": {
      "text/plain": [
       "Ks_2sampResult(statistic=0.20833333333333334, pvalue=5.129279597815284e-05)"
      ]
     },
     "execution_count": 17,
     "metadata": {},
     "output_type": "execute_result"
    }
   ],
   "source": [
    "stats.ks_2samp(rvs1, rvs2)"
   ]
  },
  {
   "cell_type": "markdown",
   "metadata": {
    "_uuid": "a4e6aadc281fe6b21cf47f4bb5f4b24dd565ee40",
    "hidden": true,
    "papermill": {
     "duration": 0.043895,
     "end_time": "2021-01-07T23:28:47.444875",
     "exception": false,
     "start_time": "2021-01-07T23:28:47.400980",
     "status": "completed"
    },
    "tags": []
   },
   "source": [
    "For a slightly different distribution, we cannot reject the null hypothesis at a 10% or lower alpha since the p-value at 0.144 is higher than 10%"
   ]
  },
  {
   "cell_type": "code",
   "execution_count": 18,
   "metadata": {
    "_uuid": "b5aea2f98779091d284d743ced0768540db984de",
    "execution": {
     "iopub.execute_input": "2021-01-07T23:28:47.536913Z",
     "iopub.status.busy": "2021-01-07T23:28:47.536201Z",
     "iopub.status.idle": "2021-01-07T23:28:47.540826Z",
     "shell.execute_reply": "2021-01-07T23:28:47.541414Z"
    },
    "hidden": true,
    "papermill": {
     "duration": 0.052979,
     "end_time": "2021-01-07T23:28:47.541581",
     "exception": false,
     "start_time": "2021-01-07T23:28:47.488602",
     "status": "completed"
    },
    "tags": []
   },
   "outputs": [],
   "source": [
    "rvs3 = stats.norm.rvs(size=n2, loc=0.01, scale=1.0)"
   ]
  },
  {
   "cell_type": "markdown",
   "metadata": {
    "_uuid": "6b868b292323bedda5e10c4ad5c58daad107fd66",
    "hidden": true,
    "papermill": {
     "duration": 0.045678,
     "end_time": "2021-01-07T23:28:47.632361",
     "exception": false,
     "start_time": "2021-01-07T23:28:47.586683",
     "status": "completed"
    },
    "tags": []
   },
   "source": [
    "For an identical distribution, we cannot reject the null hypothesis since the p-value is high, 41%:"
   ]
  },
  {
   "cell_type": "code",
   "execution_count": 19,
   "metadata": {
    "_uuid": "0cee5da60fc18f3ea8ca1ae14ff7f93b9c455db0",
    "execution": {
     "iopub.execute_input": "2021-01-07T23:28:47.729763Z",
     "iopub.status.busy": "2021-01-07T23:28:47.728654Z",
     "iopub.status.idle": "2021-01-07T23:28:47.731321Z",
     "shell.execute_reply": "2021-01-07T23:28:47.731861Z"
    },
    "hidden": true,
    "papermill": {
     "duration": 0.055029,
     "end_time": "2021-01-07T23:28:47.732258",
     "exception": false,
     "start_time": "2021-01-07T23:28:47.677229",
     "status": "completed"
    },
    "tags": []
   },
   "outputs": [],
   "source": [
    "rvs4 = stats.norm.rvs(size=n2, loc=0.0, scale=1.0)"
   ]
  },
  {
   "cell_type": "code",
   "execution_count": 20,
   "metadata": {
    "_uuid": "d78f780736c89e034201e961b8a13dc6da049aa2",
    "execution": {
     "iopub.execute_input": "2021-01-07T23:28:47.826968Z",
     "iopub.status.busy": "2021-01-07T23:28:47.825816Z",
     "iopub.status.idle": "2021-01-07T23:28:47.838987Z",
     "shell.execute_reply": "2021-01-07T23:28:47.838348Z"
    },
    "hidden": true,
    "papermill": {
     "duration": 0.061663,
     "end_time": "2021-01-07T23:28:47.839131",
     "exception": false,
     "start_time": "2021-01-07T23:28:47.777468",
     "status": "completed"
    },
    "tags": []
   },
   "outputs": [
    {
     "data": {
      "text/plain": [
       "Ks_2sampResult(statistic=0.08, pvalue=0.41154320289159374)"
      ]
     },
     "execution_count": 20,
     "metadata": {},
     "output_type": "execute_result"
    }
   ],
   "source": [
    "stats.ks_2samp(rvs1, rvs4)"
   ]
  },
  {
   "cell_type": "markdown",
   "metadata": {
    "_uuid": "450adf7e20961dacfedeb551eca1c077fca8acea",
    "hidden": true,
    "papermill": {
     "duration": 0.04537,
     "end_time": "2021-01-07T23:28:47.930184",
     "exception": false,
     "start_time": "2021-01-07T23:28:47.884814",
     "status": "completed"
    },
    "tags": []
   },
   "source": [
    "***"
   ]
  },
  {
   "cell_type": "markdown",
   "metadata": {
    "_uuid": "05ca4ae6ad68e310860618b574dc85051d4207f2",
    "heading_collapsed": true,
    "papermill": {
     "duration": 0.04529,
     "end_time": "2021-01-07T23:28:48.021374",
     "exception": false,
     "start_time": "2021-01-07T23:28:47.976084",
     "status": "completed"
    },
    "tags": []
   },
   "source": [
    "# Example I"
   ]
  },
  {
   "cell_type": "markdown",
   "metadata": {
    "_uuid": "407cc93178fd20f156e8278089db90f36f8158a1",
    "hidden": true,
    "papermill": {
     "duration": 0.044691,
     "end_time": "2021-01-07T23:28:48.111602",
     "exception": false,
     "start_time": "2021-01-07T23:28:48.066911",
     "status": "completed"
    },
    "tags": []
   },
   "source": [
    "**Imports and Parameters:**"
   ]
  },
  {
   "cell_type": "code",
   "execution_count": 21,
   "metadata": {
    "_uuid": "7617218072e9bf77ff132733cabee55e3aa71af8",
    "execution": {
     "iopub.execute_input": "2021-01-07T23:28:48.209143Z",
     "iopub.status.busy": "2021-01-07T23:28:48.208417Z",
     "iopub.status.idle": "2021-01-07T23:28:51.012469Z",
     "shell.execute_reply": "2021-01-07T23:28:51.011278Z"
    },
    "hidden": true,
    "papermill": {
     "duration": 2.855843,
     "end_time": "2021-01-07T23:28:51.012620",
     "exception": false,
     "start_time": "2021-01-07T23:28:48.156777",
     "status": "completed"
    },
    "tags": []
   },
   "outputs": [
    {
     "ename": "ImportError",
     "evalue": "\nThe plotly.plotly module is deprecated,\nplease install the chart-studio package and use the\nchart_studio.plotly module instead. \n",
     "output_type": "error",
     "traceback": [
      "\u001b[0;31m---------------------------------------------------------------------------\u001b[0m",
      "\u001b[0;31mImportError\u001b[0m                               Traceback (most recent call last)",
      "\u001b[0;32m<ipython-input-21-037c1fad7ee9>\u001b[0m in \u001b[0;36m<module>\u001b[0;34m\u001b[0m\n\u001b[1;32m      4\u001b[0m \u001b[0;32mimport\u001b[0m \u001b[0mplotly\u001b[0m\u001b[0;34m.\u001b[0m\u001b[0mfigure_factory\u001b[0m \u001b[0;32mas\u001b[0m \u001b[0mff\u001b[0m\u001b[0;34m\u001b[0m\u001b[0;34m\u001b[0m\u001b[0m\n\u001b[1;32m      5\u001b[0m \u001b[0;32mimport\u001b[0m \u001b[0mplotly\u001b[0m\u001b[0;34m.\u001b[0m\u001b[0mgraph_objs\u001b[0m \u001b[0;32mas\u001b[0m \u001b[0mgo\u001b[0m\u001b[0;34m\u001b[0m\u001b[0;34m\u001b[0m\u001b[0m\n\u001b[0;32m----> 6\u001b[0;31m \u001b[0;32mimport\u001b[0m \u001b[0mplotly\u001b[0m\u001b[0;34m.\u001b[0m\u001b[0mplotly\u001b[0m \u001b[0;32mas\u001b[0m \u001b[0mpy\u001b[0m\u001b[0;34m\u001b[0m\u001b[0;34m\u001b[0m\u001b[0m\n\u001b[0m\u001b[1;32m      7\u001b[0m \u001b[0;34m\u001b[0m\u001b[0m\n\u001b[1;32m      8\u001b[0m \u001b[0minit_notebook_mode\u001b[0m\u001b[0;34m(\u001b[0m\u001b[0mconnected\u001b[0m\u001b[0;34m=\u001b[0m\u001b[0;32mTrue\u001b[0m\u001b[0;34m)\u001b[0m\u001b[0;34m\u001b[0m\u001b[0;34m\u001b[0m\u001b[0m\n",
      "\u001b[0;32m/opt/conda/lib/python3.7/site-packages/plotly/plotly/__init__.py\u001b[0m in \u001b[0;36m<module>\u001b[0;34m\u001b[0m\n\u001b[1;32m      2\u001b[0m \u001b[0;32mfrom\u001b[0m \u001b[0m_plotly_future_\u001b[0m \u001b[0;32mimport\u001b[0m \u001b[0m_chart_studio_error\u001b[0m\u001b[0;34m\u001b[0m\u001b[0;34m\u001b[0m\u001b[0m\n\u001b[1;32m      3\u001b[0m \u001b[0;34m\u001b[0m\u001b[0m\n\u001b[0;32m----> 4\u001b[0;31m \u001b[0m_chart_studio_error\u001b[0m\u001b[0;34m(\u001b[0m\u001b[0;34m\"plotly\"\u001b[0m\u001b[0;34m)\u001b[0m\u001b[0;34m\u001b[0m\u001b[0;34m\u001b[0m\u001b[0m\n\u001b[0m",
      "\u001b[0;32m/opt/conda/lib/python3.7/site-packages/_plotly_future_/__init__.py\u001b[0m in \u001b[0;36m_chart_studio_error\u001b[0;34m(submodule)\u001b[0m\n\u001b[1;32m     47\u001b[0m \u001b[0mchart_studio\u001b[0m\u001b[0;34m.\u001b[0m\u001b[0;34m{\u001b[0m\u001b[0msubmodule\u001b[0m\u001b[0;34m}\u001b[0m \u001b[0mmodule\u001b[0m \u001b[0minstead\u001b[0m\u001b[0;34m.\u001b[0m\u001b[0;34m\u001b[0m\u001b[0;34m\u001b[0m\u001b[0m\n\u001b[1;32m     48\u001b[0m \"\"\".format(\n\u001b[0;32m---> 49\u001b[0;31m             \u001b[0msubmodule\u001b[0m\u001b[0;34m=\u001b[0m\u001b[0msubmodule\u001b[0m\u001b[0;34m\u001b[0m\u001b[0;34m\u001b[0m\u001b[0m\n\u001b[0m\u001b[1;32m     50\u001b[0m         )\n\u001b[1;32m     51\u001b[0m     )\n",
      "\u001b[0;31mImportError\u001b[0m: \nThe plotly.plotly module is deprecated,\nplease install the chart-studio package and use the\nchart_studio.plotly module instead. \n"
     ]
    }
   ],
   "source": [
    "from scipy.stats import kstest\n",
    "\n",
    "from plotly.offline import download_plotlyjs, init_notebook_mode, plot, iplot\n",
    "import plotly.figure_factory as ff\n",
    "import plotly.graph_objs as go\n",
    "import plotly.plotly as py\n",
    "\n",
    "init_notebook_mode(connected=True)"
   ]
  },
  {
   "cell_type": "markdown",
   "metadata": {
    "_uuid": "6b0ee6cb5245e3f2dc229170ca056ab43a1f2bf0",
    "hidden": true,
    "papermill": {
     "duration": 0.04545,
     "end_time": "2021-01-07T23:28:51.103756",
     "exception": false,
     "start_time": "2021-01-07T23:28:51.058306",
     "status": "completed"
    },
    "tags": []
   },
   "source": [
    "**Import Data:**"
   ]
  },
  {
   "cell_type": "markdown",
   "metadata": {
    "_uuid": "fbd7b46c072e2ca0d8609d672504bfc87baf476c",
    "hidden": true,
    "papermill": {
     "duration": 0.045152,
     "end_time": "2021-01-07T23:28:51.194704",
     "exception": false,
     "start_time": "2021-01-07T23:28:51.149552",
     "status": "completed"
    },
    "tags": []
   },
   "source": [
    "Importing some data from the average wind speed sampled every 10 minutes:"
   ]
  },
  {
   "cell_type": "code",
   "execution_count": 22,
   "metadata": {
    "_uuid": "3ffdeb7fbe1639d007fd6e8dcedf4e2528f79013",
    "execution": {
     "iopub.execute_input": "2021-01-07T23:28:51.302328Z",
     "iopub.status.busy": "2021-01-07T23:28:51.301441Z",
     "iopub.status.idle": "2021-01-07T23:29:11.390976Z",
     "shell.execute_reply": "2021-01-07T23:29:11.391873Z"
    },
    "papermill": {
     "duration": 20.151464,
     "end_time": "2021-01-07T23:29:11.392107",
     "exception": false,
     "start_time": "2021-01-07T23:28:51.240643",
     "status": "completed"
    },
    "scrolled": true,
    "tags": []
   },
   "outputs": [
    {
     "ename": "URLError",
     "evalue": "<urlopen error [Errno -3] Temporary failure in name resolution>",
     "output_type": "error",
     "traceback": [
      "\u001b[0;31m---------------------------------------------------------------------------\u001b[0m",
      "\u001b[0;31mgaierror\u001b[0m                                  Traceback (most recent call last)",
      "\u001b[0;32m/opt/conda/lib/python3.7/urllib/request.py\u001b[0m in \u001b[0;36mdo_open\u001b[0;34m(self, http_class, req, **http_conn_args)\u001b[0m\n\u001b[1;32m   1318\u001b[0m                 h.request(req.get_method(), req.selector, req.data, headers,\n\u001b[0;32m-> 1319\u001b[0;31m                           encode_chunked=req.has_header('Transfer-encoding'))\n\u001b[0m\u001b[1;32m   1320\u001b[0m             \u001b[0;32mexcept\u001b[0m \u001b[0mOSError\u001b[0m \u001b[0;32mas\u001b[0m \u001b[0merr\u001b[0m\u001b[0;34m:\u001b[0m \u001b[0;31m# timeout error\u001b[0m\u001b[0;34m\u001b[0m\u001b[0;34m\u001b[0m\u001b[0m\n",
      "\u001b[0;32m/opt/conda/lib/python3.7/http/client.py\u001b[0m in \u001b[0;36mrequest\u001b[0;34m(self, method, url, body, headers, encode_chunked)\u001b[0m\n\u001b[1;32m   1251\u001b[0m         \u001b[0;34m\"\"\"Send a complete request to the server.\"\"\"\u001b[0m\u001b[0;34m\u001b[0m\u001b[0;34m\u001b[0m\u001b[0m\n\u001b[0;32m-> 1252\u001b[0;31m         \u001b[0mself\u001b[0m\u001b[0;34m.\u001b[0m\u001b[0m_send_request\u001b[0m\u001b[0;34m(\u001b[0m\u001b[0mmethod\u001b[0m\u001b[0;34m,\u001b[0m \u001b[0murl\u001b[0m\u001b[0;34m,\u001b[0m \u001b[0mbody\u001b[0m\u001b[0;34m,\u001b[0m \u001b[0mheaders\u001b[0m\u001b[0;34m,\u001b[0m \u001b[0mencode_chunked\u001b[0m\u001b[0;34m)\u001b[0m\u001b[0;34m\u001b[0m\u001b[0;34m\u001b[0m\u001b[0m\n\u001b[0m\u001b[1;32m   1253\u001b[0m \u001b[0;34m\u001b[0m\u001b[0m\n",
      "\u001b[0;32m/opt/conda/lib/python3.7/http/client.py\u001b[0m in \u001b[0;36m_send_request\u001b[0;34m(self, method, url, body, headers, encode_chunked)\u001b[0m\n\u001b[1;32m   1297\u001b[0m             \u001b[0mbody\u001b[0m \u001b[0;34m=\u001b[0m \u001b[0m_encode\u001b[0m\u001b[0;34m(\u001b[0m\u001b[0mbody\u001b[0m\u001b[0;34m,\u001b[0m \u001b[0;34m'body'\u001b[0m\u001b[0;34m)\u001b[0m\u001b[0;34m\u001b[0m\u001b[0;34m\u001b[0m\u001b[0m\n\u001b[0;32m-> 1298\u001b[0;31m         \u001b[0mself\u001b[0m\u001b[0;34m.\u001b[0m\u001b[0mendheaders\u001b[0m\u001b[0;34m(\u001b[0m\u001b[0mbody\u001b[0m\u001b[0;34m,\u001b[0m \u001b[0mencode_chunked\u001b[0m\u001b[0;34m=\u001b[0m\u001b[0mencode_chunked\u001b[0m\u001b[0;34m)\u001b[0m\u001b[0;34m\u001b[0m\u001b[0;34m\u001b[0m\u001b[0m\n\u001b[0m\u001b[1;32m   1299\u001b[0m \u001b[0;34m\u001b[0m\u001b[0m\n",
      "\u001b[0;32m/opt/conda/lib/python3.7/http/client.py\u001b[0m in \u001b[0;36mendheaders\u001b[0;34m(self, message_body, encode_chunked)\u001b[0m\n\u001b[1;32m   1246\u001b[0m             \u001b[0;32mraise\u001b[0m \u001b[0mCannotSendHeader\u001b[0m\u001b[0;34m(\u001b[0m\u001b[0;34m)\u001b[0m\u001b[0;34m\u001b[0m\u001b[0;34m\u001b[0m\u001b[0m\n\u001b[0;32m-> 1247\u001b[0;31m         \u001b[0mself\u001b[0m\u001b[0;34m.\u001b[0m\u001b[0m_send_output\u001b[0m\u001b[0;34m(\u001b[0m\u001b[0mmessage_body\u001b[0m\u001b[0;34m,\u001b[0m \u001b[0mencode_chunked\u001b[0m\u001b[0;34m=\u001b[0m\u001b[0mencode_chunked\u001b[0m\u001b[0;34m)\u001b[0m\u001b[0;34m\u001b[0m\u001b[0;34m\u001b[0m\u001b[0m\n\u001b[0m\u001b[1;32m   1248\u001b[0m \u001b[0;34m\u001b[0m\u001b[0m\n",
      "\u001b[0;32m/opt/conda/lib/python3.7/http/client.py\u001b[0m in \u001b[0;36m_send_output\u001b[0;34m(self, message_body, encode_chunked)\u001b[0m\n\u001b[1;32m   1025\u001b[0m         \u001b[0;32mdel\u001b[0m \u001b[0mself\u001b[0m\u001b[0;34m.\u001b[0m\u001b[0m_buffer\u001b[0m\u001b[0;34m[\u001b[0m\u001b[0;34m:\u001b[0m\u001b[0;34m]\u001b[0m\u001b[0;34m\u001b[0m\u001b[0;34m\u001b[0m\u001b[0m\n\u001b[0;32m-> 1026\u001b[0;31m         \u001b[0mself\u001b[0m\u001b[0;34m.\u001b[0m\u001b[0msend\u001b[0m\u001b[0;34m(\u001b[0m\u001b[0mmsg\u001b[0m\u001b[0;34m)\u001b[0m\u001b[0;34m\u001b[0m\u001b[0;34m\u001b[0m\u001b[0m\n\u001b[0m\u001b[1;32m   1027\u001b[0m \u001b[0;34m\u001b[0m\u001b[0m\n",
      "\u001b[0;32m/opt/conda/lib/python3.7/http/client.py\u001b[0m in \u001b[0;36msend\u001b[0;34m(self, data)\u001b[0m\n\u001b[1;32m    965\u001b[0m             \u001b[0;32mif\u001b[0m \u001b[0mself\u001b[0m\u001b[0;34m.\u001b[0m\u001b[0mauto_open\u001b[0m\u001b[0;34m:\u001b[0m\u001b[0;34m\u001b[0m\u001b[0;34m\u001b[0m\u001b[0m\n\u001b[0;32m--> 966\u001b[0;31m                 \u001b[0mself\u001b[0m\u001b[0;34m.\u001b[0m\u001b[0mconnect\u001b[0m\u001b[0;34m(\u001b[0m\u001b[0;34m)\u001b[0m\u001b[0;34m\u001b[0m\u001b[0;34m\u001b[0m\u001b[0m\n\u001b[0m\u001b[1;32m    967\u001b[0m             \u001b[0;32melse\u001b[0m\u001b[0;34m:\u001b[0m\u001b[0;34m\u001b[0m\u001b[0;34m\u001b[0m\u001b[0m\n",
      "\u001b[0;32m/opt/conda/lib/python3.7/http/client.py\u001b[0m in \u001b[0;36mconnect\u001b[0;34m(self)\u001b[0m\n\u001b[1;32m   1413\u001b[0m \u001b[0;34m\u001b[0m\u001b[0m\n\u001b[0;32m-> 1414\u001b[0;31m             \u001b[0msuper\u001b[0m\u001b[0;34m(\u001b[0m\u001b[0;34m)\u001b[0m\u001b[0;34m.\u001b[0m\u001b[0mconnect\u001b[0m\u001b[0;34m(\u001b[0m\u001b[0;34m)\u001b[0m\u001b[0;34m\u001b[0m\u001b[0;34m\u001b[0m\u001b[0m\n\u001b[0m\u001b[1;32m   1415\u001b[0m \u001b[0;34m\u001b[0m\u001b[0m\n",
      "\u001b[0;32m/opt/conda/lib/python3.7/http/client.py\u001b[0m in \u001b[0;36mconnect\u001b[0;34m(self)\u001b[0m\n\u001b[1;32m    937\u001b[0m         self.sock = self._create_connection(\n\u001b[0;32m--> 938\u001b[0;31m             (self.host,self.port), self.timeout, self.source_address)\n\u001b[0m\u001b[1;32m    939\u001b[0m         \u001b[0mself\u001b[0m\u001b[0;34m.\u001b[0m\u001b[0msock\u001b[0m\u001b[0;34m.\u001b[0m\u001b[0msetsockopt\u001b[0m\u001b[0;34m(\u001b[0m\u001b[0msocket\u001b[0m\u001b[0;34m.\u001b[0m\u001b[0mIPPROTO_TCP\u001b[0m\u001b[0;34m,\u001b[0m \u001b[0msocket\u001b[0m\u001b[0;34m.\u001b[0m\u001b[0mTCP_NODELAY\u001b[0m\u001b[0;34m,\u001b[0m \u001b[0;36m1\u001b[0m\u001b[0;34m)\u001b[0m\u001b[0;34m\u001b[0m\u001b[0;34m\u001b[0m\u001b[0m\n",
      "\u001b[0;32m/opt/conda/lib/python3.7/socket.py\u001b[0m in \u001b[0;36mcreate_connection\u001b[0;34m(address, timeout, source_address)\u001b[0m\n\u001b[1;32m    706\u001b[0m     \u001b[0merr\u001b[0m \u001b[0;34m=\u001b[0m \u001b[0;32mNone\u001b[0m\u001b[0;34m\u001b[0m\u001b[0;34m\u001b[0m\u001b[0m\n\u001b[0;32m--> 707\u001b[0;31m     \u001b[0;32mfor\u001b[0m \u001b[0mres\u001b[0m \u001b[0;32min\u001b[0m \u001b[0mgetaddrinfo\u001b[0m\u001b[0;34m(\u001b[0m\u001b[0mhost\u001b[0m\u001b[0;34m,\u001b[0m \u001b[0mport\u001b[0m\u001b[0;34m,\u001b[0m \u001b[0;36m0\u001b[0m\u001b[0;34m,\u001b[0m \u001b[0mSOCK_STREAM\u001b[0m\u001b[0;34m)\u001b[0m\u001b[0;34m:\u001b[0m\u001b[0;34m\u001b[0m\u001b[0;34m\u001b[0m\u001b[0m\n\u001b[0m\u001b[1;32m    708\u001b[0m         \u001b[0maf\u001b[0m\u001b[0;34m,\u001b[0m \u001b[0msocktype\u001b[0m\u001b[0;34m,\u001b[0m \u001b[0mproto\u001b[0m\u001b[0;34m,\u001b[0m \u001b[0mcanonname\u001b[0m\u001b[0;34m,\u001b[0m \u001b[0msa\u001b[0m \u001b[0;34m=\u001b[0m \u001b[0mres\u001b[0m\u001b[0;34m\u001b[0m\u001b[0;34m\u001b[0m\u001b[0m\n",
      "\u001b[0;32m/opt/conda/lib/python3.7/socket.py\u001b[0m in \u001b[0;36mgetaddrinfo\u001b[0;34m(host, port, family, type, proto, flags)\u001b[0m\n\u001b[1;32m    751\u001b[0m     \u001b[0maddrlist\u001b[0m \u001b[0;34m=\u001b[0m \u001b[0;34m[\u001b[0m\u001b[0;34m]\u001b[0m\u001b[0;34m\u001b[0m\u001b[0;34m\u001b[0m\u001b[0m\n\u001b[0;32m--> 752\u001b[0;31m     \u001b[0;32mfor\u001b[0m \u001b[0mres\u001b[0m \u001b[0;32min\u001b[0m \u001b[0m_socket\u001b[0m\u001b[0;34m.\u001b[0m\u001b[0mgetaddrinfo\u001b[0m\u001b[0;34m(\u001b[0m\u001b[0mhost\u001b[0m\u001b[0;34m,\u001b[0m \u001b[0mport\u001b[0m\u001b[0;34m,\u001b[0m \u001b[0mfamily\u001b[0m\u001b[0;34m,\u001b[0m \u001b[0mtype\u001b[0m\u001b[0;34m,\u001b[0m \u001b[0mproto\u001b[0m\u001b[0;34m,\u001b[0m \u001b[0mflags\u001b[0m\u001b[0;34m)\u001b[0m\u001b[0;34m:\u001b[0m\u001b[0;34m\u001b[0m\u001b[0;34m\u001b[0m\u001b[0m\n\u001b[0m\u001b[1;32m    753\u001b[0m         \u001b[0maf\u001b[0m\u001b[0;34m,\u001b[0m \u001b[0msocktype\u001b[0m\u001b[0;34m,\u001b[0m \u001b[0mproto\u001b[0m\u001b[0;34m,\u001b[0m \u001b[0mcanonname\u001b[0m\u001b[0;34m,\u001b[0m \u001b[0msa\u001b[0m \u001b[0;34m=\u001b[0m \u001b[0mres\u001b[0m\u001b[0;34m\u001b[0m\u001b[0;34m\u001b[0m\u001b[0m\n",
      "\u001b[0;31mgaierror\u001b[0m: [Errno -3] Temporary failure in name resolution",
      "\nDuring handling of the above exception, another exception occurred:\n",
      "\u001b[0;31mURLError\u001b[0m                                  Traceback (most recent call last)",
      "\u001b[0;32m<ipython-input-22-e193044e0b3e>\u001b[0m in \u001b[0;36m<module>\u001b[0;34m\u001b[0m\n\u001b[1;32m      2\u001b[0m \u001b[0;34m\u001b[0m\u001b[0m\n\u001b[1;32m      3\u001b[0m \u001b[0murl\u001b[0m \u001b[0;34m=\u001b[0m\u001b[0;34m\"https://raw.githubusercontent.com/plotly/datasets/master/wind_speed_laurel_nebraska.csv\"\u001b[0m\u001b[0;34m\u001b[0m\u001b[0;34m\u001b[0m\u001b[0m\n\u001b[0;32m----> 4\u001b[0;31m \u001b[0mdata\u001b[0m \u001b[0;34m=\u001b[0m \u001b[0mpd\u001b[0m\u001b[0;34m.\u001b[0m\u001b[0mread_csv\u001b[0m\u001b[0;34m(\u001b[0m\u001b[0murl\u001b[0m\u001b[0;34m,\u001b[0m \u001b[0msep\u001b[0m\u001b[0;34m=\u001b[0m\u001b[0;34m','\u001b[0m\u001b[0;34m)\u001b[0m\u001b[0;34m\u001b[0m\u001b[0;34m\u001b[0m\u001b[0m\n\u001b[0m\u001b[1;32m      5\u001b[0m \u001b[0mdata\u001b[0m\u001b[0;34m.\u001b[0m\u001b[0mhead\u001b[0m\u001b[0;34m(\u001b[0m\u001b[0;34m)\u001b[0m\u001b[0;34m\u001b[0m\u001b[0;34m\u001b[0m\u001b[0m\n",
      "\u001b[0;32m/opt/conda/lib/python3.7/site-packages/pandas/io/parsers.py\u001b[0m in \u001b[0;36mread_csv\u001b[0;34m(filepath_or_buffer, sep, delimiter, header, names, index_col, usecols, squeeze, prefix, mangle_dupe_cols, dtype, engine, converters, true_values, false_values, skipinitialspace, skiprows, skipfooter, nrows, na_values, keep_default_na, na_filter, verbose, skip_blank_lines, parse_dates, infer_datetime_format, keep_date_col, date_parser, dayfirst, cache_dates, iterator, chunksize, compression, thousands, decimal, lineterminator, quotechar, quoting, doublequote, escapechar, comment, encoding, dialect, error_bad_lines, warn_bad_lines, delim_whitespace, low_memory, memory_map, float_precision)\u001b[0m\n\u001b[1;32m    686\u001b[0m     )\n\u001b[1;32m    687\u001b[0m \u001b[0;34m\u001b[0m\u001b[0m\n\u001b[0;32m--> 688\u001b[0;31m     \u001b[0;32mreturn\u001b[0m \u001b[0m_read\u001b[0m\u001b[0;34m(\u001b[0m\u001b[0mfilepath_or_buffer\u001b[0m\u001b[0;34m,\u001b[0m \u001b[0mkwds\u001b[0m\u001b[0;34m)\u001b[0m\u001b[0;34m\u001b[0m\u001b[0;34m\u001b[0m\u001b[0m\n\u001b[0m\u001b[1;32m    689\u001b[0m \u001b[0;34m\u001b[0m\u001b[0m\n\u001b[1;32m    690\u001b[0m \u001b[0;34m\u001b[0m\u001b[0m\n",
      "\u001b[0;32m/opt/conda/lib/python3.7/site-packages/pandas/io/parsers.py\u001b[0m in \u001b[0;36m_read\u001b[0;34m(filepath_or_buffer, kwds)\u001b[0m\n\u001b[1;32m    435\u001b[0m     \u001b[0;31m# See https://github.com/python/mypy/issues/1297\u001b[0m\u001b[0;34m\u001b[0m\u001b[0;34m\u001b[0m\u001b[0;34m\u001b[0m\u001b[0m\n\u001b[1;32m    436\u001b[0m     fp_or_buf, _, compression, should_close = get_filepath_or_buffer(\n\u001b[0;32m--> 437\u001b[0;31m         \u001b[0mfilepath_or_buffer\u001b[0m\u001b[0;34m,\u001b[0m \u001b[0mencoding\u001b[0m\u001b[0;34m,\u001b[0m \u001b[0mcompression\u001b[0m\u001b[0;34m\u001b[0m\u001b[0;34m\u001b[0m\u001b[0m\n\u001b[0m\u001b[1;32m    438\u001b[0m     )\n\u001b[1;32m    439\u001b[0m     \u001b[0mkwds\u001b[0m\u001b[0;34m[\u001b[0m\u001b[0;34m\"compression\"\u001b[0m\u001b[0;34m]\u001b[0m \u001b[0;34m=\u001b[0m \u001b[0mcompression\u001b[0m\u001b[0;34m\u001b[0m\u001b[0;34m\u001b[0m\u001b[0m\n",
      "\u001b[0;32m/opt/conda/lib/python3.7/site-packages/pandas/io/common.py\u001b[0m in \u001b[0;36mget_filepath_or_buffer\u001b[0;34m(filepath_or_buffer, encoding, compression, mode, storage_options)\u001b[0m\n\u001b[1;32m    181\u001b[0m     \u001b[0;32mif\u001b[0m \u001b[0misinstance\u001b[0m\u001b[0;34m(\u001b[0m\u001b[0mfilepath_or_buffer\u001b[0m\u001b[0;34m,\u001b[0m \u001b[0mstr\u001b[0m\u001b[0;34m)\u001b[0m \u001b[0;32mand\u001b[0m \u001b[0mis_url\u001b[0m\u001b[0;34m(\u001b[0m\u001b[0mfilepath_or_buffer\u001b[0m\u001b[0;34m)\u001b[0m\u001b[0;34m:\u001b[0m\u001b[0;34m\u001b[0m\u001b[0;34m\u001b[0m\u001b[0m\n\u001b[1;32m    182\u001b[0m         \u001b[0;31m# TODO: fsspec can also handle HTTP via requests, but leaving this unchanged\u001b[0m\u001b[0;34m\u001b[0m\u001b[0;34m\u001b[0m\u001b[0;34m\u001b[0m\u001b[0m\n\u001b[0;32m--> 183\u001b[0;31m         \u001b[0mreq\u001b[0m \u001b[0;34m=\u001b[0m \u001b[0murlopen\u001b[0m\u001b[0;34m(\u001b[0m\u001b[0mfilepath_or_buffer\u001b[0m\u001b[0;34m)\u001b[0m\u001b[0;34m\u001b[0m\u001b[0;34m\u001b[0m\u001b[0m\n\u001b[0m\u001b[1;32m    184\u001b[0m         \u001b[0mcontent_encoding\u001b[0m \u001b[0;34m=\u001b[0m \u001b[0mreq\u001b[0m\u001b[0;34m.\u001b[0m\u001b[0mheaders\u001b[0m\u001b[0;34m.\u001b[0m\u001b[0mget\u001b[0m\u001b[0;34m(\u001b[0m\u001b[0;34m\"Content-Encoding\"\u001b[0m\u001b[0;34m,\u001b[0m \u001b[0;32mNone\u001b[0m\u001b[0;34m)\u001b[0m\u001b[0;34m\u001b[0m\u001b[0;34m\u001b[0m\u001b[0m\n\u001b[1;32m    185\u001b[0m         \u001b[0;32mif\u001b[0m \u001b[0mcontent_encoding\u001b[0m \u001b[0;34m==\u001b[0m \u001b[0;34m\"gzip\"\u001b[0m\u001b[0;34m:\u001b[0m\u001b[0;34m\u001b[0m\u001b[0;34m\u001b[0m\u001b[0m\n",
      "\u001b[0;32m/opt/conda/lib/python3.7/site-packages/pandas/io/common.py\u001b[0m in \u001b[0;36murlopen\u001b[0;34m(*args, **kwargs)\u001b[0m\n\u001b[1;32m    135\u001b[0m     \u001b[0;32mimport\u001b[0m \u001b[0murllib\u001b[0m\u001b[0;34m.\u001b[0m\u001b[0mrequest\u001b[0m\u001b[0;34m\u001b[0m\u001b[0;34m\u001b[0m\u001b[0m\n\u001b[1;32m    136\u001b[0m \u001b[0;34m\u001b[0m\u001b[0m\n\u001b[0;32m--> 137\u001b[0;31m     \u001b[0;32mreturn\u001b[0m \u001b[0murllib\u001b[0m\u001b[0;34m.\u001b[0m\u001b[0mrequest\u001b[0m\u001b[0;34m.\u001b[0m\u001b[0murlopen\u001b[0m\u001b[0;34m(\u001b[0m\u001b[0;34m*\u001b[0m\u001b[0margs\u001b[0m\u001b[0;34m,\u001b[0m \u001b[0;34m**\u001b[0m\u001b[0mkwargs\u001b[0m\u001b[0;34m)\u001b[0m\u001b[0;34m\u001b[0m\u001b[0;34m\u001b[0m\u001b[0m\n\u001b[0m\u001b[1;32m    138\u001b[0m \u001b[0;34m\u001b[0m\u001b[0m\n\u001b[1;32m    139\u001b[0m \u001b[0;34m\u001b[0m\u001b[0m\n",
      "\u001b[0;32m/opt/conda/lib/python3.7/urllib/request.py\u001b[0m in \u001b[0;36murlopen\u001b[0;34m(url, data, timeout, cafile, capath, cadefault, context)\u001b[0m\n\u001b[1;32m    220\u001b[0m     \u001b[0;32melse\u001b[0m\u001b[0;34m:\u001b[0m\u001b[0;34m\u001b[0m\u001b[0;34m\u001b[0m\u001b[0m\n\u001b[1;32m    221\u001b[0m         \u001b[0mopener\u001b[0m \u001b[0;34m=\u001b[0m \u001b[0m_opener\u001b[0m\u001b[0;34m\u001b[0m\u001b[0;34m\u001b[0m\u001b[0m\n\u001b[0;32m--> 222\u001b[0;31m     \u001b[0;32mreturn\u001b[0m \u001b[0mopener\u001b[0m\u001b[0;34m.\u001b[0m\u001b[0mopen\u001b[0m\u001b[0;34m(\u001b[0m\u001b[0murl\u001b[0m\u001b[0;34m,\u001b[0m \u001b[0mdata\u001b[0m\u001b[0;34m,\u001b[0m \u001b[0mtimeout\u001b[0m\u001b[0;34m)\u001b[0m\u001b[0;34m\u001b[0m\u001b[0;34m\u001b[0m\u001b[0m\n\u001b[0m\u001b[1;32m    223\u001b[0m \u001b[0;34m\u001b[0m\u001b[0m\n\u001b[1;32m    224\u001b[0m \u001b[0;32mdef\u001b[0m \u001b[0minstall_opener\u001b[0m\u001b[0;34m(\u001b[0m\u001b[0mopener\u001b[0m\u001b[0;34m)\u001b[0m\u001b[0;34m:\u001b[0m\u001b[0;34m\u001b[0m\u001b[0;34m\u001b[0m\u001b[0m\n",
      "\u001b[0;32m/opt/conda/lib/python3.7/urllib/request.py\u001b[0m in \u001b[0;36mopen\u001b[0;34m(self, fullurl, data, timeout)\u001b[0m\n\u001b[1;32m    523\u001b[0m             \u001b[0mreq\u001b[0m \u001b[0;34m=\u001b[0m \u001b[0mmeth\u001b[0m\u001b[0;34m(\u001b[0m\u001b[0mreq\u001b[0m\u001b[0;34m)\u001b[0m\u001b[0;34m\u001b[0m\u001b[0;34m\u001b[0m\u001b[0m\n\u001b[1;32m    524\u001b[0m \u001b[0;34m\u001b[0m\u001b[0m\n\u001b[0;32m--> 525\u001b[0;31m         \u001b[0mresponse\u001b[0m \u001b[0;34m=\u001b[0m \u001b[0mself\u001b[0m\u001b[0;34m.\u001b[0m\u001b[0m_open\u001b[0m\u001b[0;34m(\u001b[0m\u001b[0mreq\u001b[0m\u001b[0;34m,\u001b[0m \u001b[0mdata\u001b[0m\u001b[0;34m)\u001b[0m\u001b[0;34m\u001b[0m\u001b[0;34m\u001b[0m\u001b[0m\n\u001b[0m\u001b[1;32m    526\u001b[0m \u001b[0;34m\u001b[0m\u001b[0m\n\u001b[1;32m    527\u001b[0m         \u001b[0;31m# post-process response\u001b[0m\u001b[0;34m\u001b[0m\u001b[0;34m\u001b[0m\u001b[0;34m\u001b[0m\u001b[0m\n",
      "\u001b[0;32m/opt/conda/lib/python3.7/urllib/request.py\u001b[0m in \u001b[0;36m_open\u001b[0;34m(self, req, data)\u001b[0m\n\u001b[1;32m    541\u001b[0m         \u001b[0mprotocol\u001b[0m \u001b[0;34m=\u001b[0m \u001b[0mreq\u001b[0m\u001b[0;34m.\u001b[0m\u001b[0mtype\u001b[0m\u001b[0;34m\u001b[0m\u001b[0;34m\u001b[0m\u001b[0m\n\u001b[1;32m    542\u001b[0m         result = self._call_chain(self.handle_open, protocol, protocol +\n\u001b[0;32m--> 543\u001b[0;31m                                   '_open', req)\n\u001b[0m\u001b[1;32m    544\u001b[0m         \u001b[0;32mif\u001b[0m \u001b[0mresult\u001b[0m\u001b[0;34m:\u001b[0m\u001b[0;34m\u001b[0m\u001b[0;34m\u001b[0m\u001b[0m\n\u001b[1;32m    545\u001b[0m             \u001b[0;32mreturn\u001b[0m \u001b[0mresult\u001b[0m\u001b[0;34m\u001b[0m\u001b[0;34m\u001b[0m\u001b[0m\n",
      "\u001b[0;32m/opt/conda/lib/python3.7/urllib/request.py\u001b[0m in \u001b[0;36m_call_chain\u001b[0;34m(self, chain, kind, meth_name, *args)\u001b[0m\n\u001b[1;32m    501\u001b[0m         \u001b[0;32mfor\u001b[0m \u001b[0mhandler\u001b[0m \u001b[0;32min\u001b[0m \u001b[0mhandlers\u001b[0m\u001b[0;34m:\u001b[0m\u001b[0;34m\u001b[0m\u001b[0;34m\u001b[0m\u001b[0m\n\u001b[1;32m    502\u001b[0m             \u001b[0mfunc\u001b[0m \u001b[0;34m=\u001b[0m \u001b[0mgetattr\u001b[0m\u001b[0;34m(\u001b[0m\u001b[0mhandler\u001b[0m\u001b[0;34m,\u001b[0m \u001b[0mmeth_name\u001b[0m\u001b[0;34m)\u001b[0m\u001b[0;34m\u001b[0m\u001b[0;34m\u001b[0m\u001b[0m\n\u001b[0;32m--> 503\u001b[0;31m             \u001b[0mresult\u001b[0m \u001b[0;34m=\u001b[0m \u001b[0mfunc\u001b[0m\u001b[0;34m(\u001b[0m\u001b[0;34m*\u001b[0m\u001b[0margs\u001b[0m\u001b[0;34m)\u001b[0m\u001b[0;34m\u001b[0m\u001b[0;34m\u001b[0m\u001b[0m\n\u001b[0m\u001b[1;32m    504\u001b[0m             \u001b[0;32mif\u001b[0m \u001b[0mresult\u001b[0m \u001b[0;32mis\u001b[0m \u001b[0;32mnot\u001b[0m \u001b[0;32mNone\u001b[0m\u001b[0;34m:\u001b[0m\u001b[0;34m\u001b[0m\u001b[0;34m\u001b[0m\u001b[0m\n\u001b[1;32m    505\u001b[0m                 \u001b[0;32mreturn\u001b[0m \u001b[0mresult\u001b[0m\u001b[0;34m\u001b[0m\u001b[0;34m\u001b[0m\u001b[0m\n",
      "\u001b[0;32m/opt/conda/lib/python3.7/urllib/request.py\u001b[0m in \u001b[0;36mhttps_open\u001b[0;34m(self, req)\u001b[0m\n\u001b[1;32m   1360\u001b[0m         \u001b[0;32mdef\u001b[0m \u001b[0mhttps_open\u001b[0m\u001b[0;34m(\u001b[0m\u001b[0mself\u001b[0m\u001b[0;34m,\u001b[0m \u001b[0mreq\u001b[0m\u001b[0;34m)\u001b[0m\u001b[0;34m:\u001b[0m\u001b[0;34m\u001b[0m\u001b[0;34m\u001b[0m\u001b[0m\n\u001b[1;32m   1361\u001b[0m             return self.do_open(http.client.HTTPSConnection, req,\n\u001b[0;32m-> 1362\u001b[0;31m                 context=self._context, check_hostname=self._check_hostname)\n\u001b[0m\u001b[1;32m   1363\u001b[0m \u001b[0;34m\u001b[0m\u001b[0m\n\u001b[1;32m   1364\u001b[0m         \u001b[0mhttps_request\u001b[0m \u001b[0;34m=\u001b[0m \u001b[0mAbstractHTTPHandler\u001b[0m\u001b[0;34m.\u001b[0m\u001b[0mdo_request_\u001b[0m\u001b[0;34m\u001b[0m\u001b[0;34m\u001b[0m\u001b[0m\n",
      "\u001b[0;32m/opt/conda/lib/python3.7/urllib/request.py\u001b[0m in \u001b[0;36mdo_open\u001b[0;34m(self, http_class, req, **http_conn_args)\u001b[0m\n\u001b[1;32m   1319\u001b[0m                           encode_chunked=req.has_header('Transfer-encoding'))\n\u001b[1;32m   1320\u001b[0m             \u001b[0;32mexcept\u001b[0m \u001b[0mOSError\u001b[0m \u001b[0;32mas\u001b[0m \u001b[0merr\u001b[0m\u001b[0;34m:\u001b[0m \u001b[0;31m# timeout error\u001b[0m\u001b[0;34m\u001b[0m\u001b[0;34m\u001b[0m\u001b[0m\n\u001b[0;32m-> 1321\u001b[0;31m                 \u001b[0;32mraise\u001b[0m \u001b[0mURLError\u001b[0m\u001b[0;34m(\u001b[0m\u001b[0merr\u001b[0m\u001b[0;34m)\u001b[0m\u001b[0;34m\u001b[0m\u001b[0;34m\u001b[0m\u001b[0m\n\u001b[0m\u001b[1;32m   1322\u001b[0m             \u001b[0mr\u001b[0m \u001b[0;34m=\u001b[0m \u001b[0mh\u001b[0m\u001b[0;34m.\u001b[0m\u001b[0mgetresponse\u001b[0m\u001b[0;34m(\u001b[0m\u001b[0;34m)\u001b[0m\u001b[0;34m\u001b[0m\u001b[0;34m\u001b[0m\u001b[0m\n\u001b[1;32m   1323\u001b[0m         \u001b[0;32mexcept\u001b[0m\u001b[0;34m:\u001b[0m\u001b[0;34m\u001b[0m\u001b[0;34m\u001b[0m\u001b[0m\n",
      "\u001b[0;31mURLError\u001b[0m: <urlopen error [Errno -3] Temporary failure in name resolution>"
     ]
    }
   ],
   "source": [
    "# Importing GitHub file\n",
    "\n",
    "url =\"https://raw.githubusercontent.com/plotly/datasets/master/wind_speed_laurel_nebraska.csv\"\n",
    "data = pd.read_csv(url, sep=',')\n",
    "data.head()"
   ]
  },
  {
   "cell_type": "code",
   "execution_count": 23,
   "metadata": {
    "_uuid": "a21e648fa8aaa5bb09cc713515145ee3257d88dc",
    "execution": {
     "iopub.execute_input": "2021-01-07T23:29:11.501814Z",
     "iopub.status.busy": "2021-01-07T23:29:11.497877Z",
     "iopub.status.idle": "2021-01-07T23:29:11.514208Z",
     "shell.execute_reply": "2021-01-07T23:29:11.514729Z"
    },
    "hidden": true,
    "papermill": {
     "duration": 0.075867,
     "end_time": "2021-01-07T23:29:11.514908",
     "exception": false,
     "start_time": "2021-01-07T23:29:11.439041",
     "status": "completed"
    },
    "tags": []
   },
   "outputs": [
    {
     "ename": "NameError",
     "evalue": "name 'data' is not defined",
     "output_type": "error",
     "traceback": [
      "\u001b[0;31m---------------------------------------------------------------------------\u001b[0m",
      "\u001b[0;31mNameError\u001b[0m                                 Traceback (most recent call last)",
      "\u001b[0;32m<ipython-input-23-8f84d8dc6b21>\u001b[0m in \u001b[0;36m<module>\u001b[0;34m\u001b[0m\n\u001b[0;32m----> 1\u001b[0;31m \u001b[0mdf\u001b[0m \u001b[0;34m=\u001b[0m \u001b[0mdata\u001b[0m\u001b[0;34m[\u001b[0m\u001b[0;36m0\u001b[0m\u001b[0;34m:\u001b[0m\u001b[0;36m10\u001b[0m\u001b[0;34m]\u001b[0m\u001b[0;34m\u001b[0m\u001b[0;34m\u001b[0m\u001b[0m\n\u001b[0m\u001b[1;32m      2\u001b[0m \u001b[0;34m\u001b[0m\u001b[0m\n\u001b[1;32m      3\u001b[0m \u001b[0mtable\u001b[0m \u001b[0;34m=\u001b[0m \u001b[0mff\u001b[0m\u001b[0;34m.\u001b[0m\u001b[0mcreate_table\u001b[0m\u001b[0;34m(\u001b[0m\u001b[0mdf\u001b[0m\u001b[0;34m)\u001b[0m\u001b[0;34m\u001b[0m\u001b[0;34m\u001b[0m\u001b[0m\n\u001b[1;32m      4\u001b[0m \u001b[0miplot\u001b[0m\u001b[0;34m(\u001b[0m\u001b[0mtable\u001b[0m\u001b[0;34m)\u001b[0m\u001b[0;34m\u001b[0m\u001b[0;34m\u001b[0m\u001b[0m\n",
      "\u001b[0;31mNameError\u001b[0m: name 'data' is not defined"
     ]
    }
   ],
   "source": [
    "df = data[0:10]\n",
    "\n",
    "table = ff.create_table(df)\n",
    "iplot(table)"
   ]
  },
  {
   "cell_type": "markdown",
   "metadata": {
    "_uuid": "33fe6897834ed4e349298f25b34bdc2b6358d2f0",
    "hidden": true,
    "papermill": {
     "duration": 0.047982,
     "end_time": "2021-01-07T23:29:11.610974",
     "exception": false,
     "start_time": "2021-01-07T23:29:11.562992",
     "status": "completed"
    },
    "tags": []
   },
   "source": [
    "**Testing Normality:**"
   ]
  },
  {
   "cell_type": "markdown",
   "metadata": {
    "_uuid": "784b87785efb54d05c60400267ad06b1d32d65cb",
    "hidden": true,
    "papermill": {
     "duration": 0.047064,
     "end_time": "2021-01-07T23:29:11.707444",
     "exception": false,
     "start_time": "2021-01-07T23:29:11.660380",
     "status": "completed"
    },
    "tags": []
   },
   "source": [
    "The Kolmogorov-Smirnov test is comparing any two distributions to each other, not necessarily a distribution to a normal distribution. These tests may be unilateral or on both sides, but the latter applies only if the two distributions are continuous."
   ]
  },
  {
   "cell_type": "code",
   "execution_count": 24,
   "metadata": {
    "_uuid": "00539b204834be1376ab40d50bd2f82191e2338d",
    "execution": {
     "iopub.execute_input": "2021-01-07T23:29:11.808338Z",
     "iopub.status.busy": "2021-01-07T23:29:11.807128Z",
     "iopub.status.idle": "2021-01-07T23:29:11.834049Z",
     "shell.execute_reply": "2021-01-07T23:29:11.833291Z"
    },
    "hidden": true,
    "papermill": {
     "duration": 0.078641,
     "end_time": "2021-01-07T23:29:11.834184",
     "exception": false,
     "start_time": "2021-01-07T23:29:11.755543",
     "status": "completed"
    },
    "tags": []
   },
   "outputs": [
    {
     "ename": "NameError",
     "evalue": "name 'data' is not defined",
     "output_type": "error",
     "traceback": [
      "\u001b[0;31m---------------------------------------------------------------------------\u001b[0m",
      "\u001b[0;31mNameError\u001b[0m                                 Traceback (most recent call last)",
      "\u001b[0;32m<ipython-input-24-683d41fc0f44>\u001b[0m in \u001b[0;36m<module>\u001b[0;34m\u001b[0m\n\u001b[0;32m----> 1\u001b[0;31m \u001b[0mx\u001b[0m \u001b[0;34m=\u001b[0m \u001b[0mdata\u001b[0m\u001b[0;34m[\u001b[0m\u001b[0;34m'10 Min Sampled Avg'\u001b[0m\u001b[0;34m]\u001b[0m\u001b[0;34m\u001b[0m\u001b[0;34m\u001b[0m\u001b[0m\n\u001b[0m\u001b[1;32m      2\u001b[0m \u001b[0;34m\u001b[0m\u001b[0m\n\u001b[1;32m      3\u001b[0m \u001b[0mks_results\u001b[0m \u001b[0;34m=\u001b[0m \u001b[0mkstest\u001b[0m\u001b[0;34m(\u001b[0m\u001b[0mx\u001b[0m\u001b[0;34m,\u001b[0m \u001b[0mcdf\u001b[0m\u001b[0;34m=\u001b[0m\u001b[0;34m'norm'\u001b[0m\u001b[0;34m)\u001b[0m\u001b[0;34m\u001b[0m\u001b[0;34m\u001b[0m\u001b[0m\n\u001b[1;32m      4\u001b[0m \u001b[0;34m\u001b[0m\u001b[0m\n\u001b[1;32m      5\u001b[0m matrix_ks = [['', 'DF', 'Test Statistic', 'p-value'],\n",
      "\u001b[0;31mNameError\u001b[0m: name 'data' is not defined"
     ]
    }
   ],
   "source": [
    "x = data['10 Min Sampled Avg']\n",
    "\n",
    "ks_results = kstest(x, cdf='norm')\n",
    "\n",
    "matrix_ks = [['', 'DF', 'Test Statistic', 'p-value'],\n",
    "             ['Sample Data', len(x) - 1, ks_results[0], ks_results[1]]]\n",
    "\n",
    "ks_table = ff.create_table(matrix_ks, index=True)\n",
    "iplot(ks_table, filename='ks-table')"
   ]
  },
  {
   "cell_type": "markdown",
   "metadata": {
    "_uuid": "7b549edca90686ca49c53952e59b901923e86c1f",
    "hidden": true,
    "papermill": {
     "duration": 0.048626,
     "end_time": "2021-01-07T23:29:11.931988",
     "exception": false,
     "start_time": "2021-01-07T23:29:11.883362",
     "status": "completed"
    },
    "tags": []
   },
   "source": [
    "Since our p-value is read as 0.0, we have strong evidence for not rejecting the null hypothesis"
   ]
  },
  {
   "cell_type": "markdown",
   "metadata": {
    "_uuid": "4ac244d237dabd0e4dbe9308f91099015b57b9cb",
    "hidden": true,
    "papermill": {
     "duration": 0.048471,
     "end_time": "2021-01-07T23:29:12.029043",
     "exception": false,
     "start_time": "2021-01-07T23:29:11.980572",
     "status": "completed"
    },
    "tags": []
   },
   "source": [
    "***"
   ]
  },
  {
   "cell_type": "markdown",
   "metadata": {
    "_uuid": "877d7e945e5a9db7923033de51709fbb649ea5bb",
    "heading_collapsed": true,
    "papermill": {
     "duration": 0.048923,
     "end_time": "2021-01-07T23:29:12.126496",
     "exception": false,
     "start_time": "2021-01-07T23:29:12.077573",
     "status": "completed"
    },
    "tags": []
   },
   "source": [
    "# Example II"
   ]
  },
  {
   "cell_type": "markdown",
   "metadata": {
    "_uuid": "766c468b8db9a055d720190620391209b53207e5",
    "hidden": true,
    "papermill": {
     "duration": 0.047861,
     "end_time": "2021-01-07T23:29:12.222701",
     "exception": false,
     "start_time": "2021-01-07T23:29:12.174840",
     "status": "completed"
    },
    "tags": []
   },
   "source": [
    "Example using the two-sample KS test with ks_2samp:"
   ]
  },
  {
   "cell_type": "code",
   "execution_count": 25,
   "metadata": {
    "_uuid": "24fe04154632fb7edc6fb10a07a4815005bfde90",
    "execution": {
     "iopub.execute_input": "2021-01-07T23:29:12.327651Z",
     "iopub.status.busy": "2021-01-07T23:29:12.326924Z",
     "iopub.status.idle": "2021-01-07T23:29:12.328993Z",
     "shell.execute_reply": "2021-01-07T23:29:12.329508Z"
    },
    "hidden": true,
    "papermill": {
     "duration": 0.057846,
     "end_time": "2021-01-07T23:29:12.329680",
     "exception": false,
     "start_time": "2021-01-07T23:29:12.271834",
     "status": "completed"
    },
    "tags": []
   },
   "outputs": [],
   "source": [
    "np.random.seed(12345678)"
   ]
  },
  {
   "cell_type": "code",
   "execution_count": 26,
   "metadata": {
    "_uuid": "1d4df99de85ea0d3f968f4829678f67b83765c0a",
    "execution": {
     "iopub.execute_input": "2021-01-07T23:29:12.431138Z",
     "iopub.status.busy": "2021-01-07T23:29:12.430385Z",
     "iopub.status.idle": "2021-01-07T23:29:12.434921Z",
     "shell.execute_reply": "2021-01-07T23:29:12.435514Z"
    },
    "hidden": true,
    "papermill": {
     "duration": 0.057206,
     "end_time": "2021-01-07T23:29:12.435767",
     "exception": false,
     "start_time": "2021-01-07T23:29:12.378561",
     "status": "completed"
    },
    "tags": []
   },
   "outputs": [],
   "source": [
    "x = np.random.normal(0, 1, 1000)"
   ]
  },
  {
   "cell_type": "code",
   "execution_count": 27,
   "metadata": {
    "_uuid": "28f288be94b8c330e8f50762b0efdce6007767a1",
    "execution": {
     "iopub.execute_input": "2021-01-07T23:29:12.539170Z",
     "iopub.status.busy": "2021-01-07T23:29:12.538399Z",
     "iopub.status.idle": "2021-01-07T23:29:12.542918Z",
     "shell.execute_reply": "2021-01-07T23:29:12.543516Z"
    },
    "hidden": true,
    "papermill": {
     "duration": 0.059041,
     "end_time": "2021-01-07T23:29:12.543798",
     "exception": false,
     "start_time": "2021-01-07T23:29:12.484757",
     "status": "completed"
    },
    "tags": []
   },
   "outputs": [],
   "source": [
    "y = np.random.normal(0, 1, 1000)"
   ]
  },
  {
   "cell_type": "code",
   "execution_count": 28,
   "metadata": {
    "_uuid": "d86be2fb4b994f111adce660ef8dc9398e43d51b",
    "execution": {
     "iopub.execute_input": "2021-01-07T23:29:12.650811Z",
     "iopub.status.busy": "2021-01-07T23:29:12.650108Z",
     "iopub.status.idle": "2021-01-07T23:29:12.653250Z",
     "shell.execute_reply": "2021-01-07T23:29:12.653774Z"
    },
    "hidden": true,
    "papermill": {
     "duration": 0.061441,
     "end_time": "2021-01-07T23:29:12.653956",
     "exception": false,
     "start_time": "2021-01-07T23:29:12.592515",
     "status": "completed"
    },
    "tags": []
   },
   "outputs": [],
   "source": [
    "z = np.random.normal(1.1, 0.9, 1000)"
   ]
  },
  {
   "cell_type": "code",
   "execution_count": 29,
   "metadata": {
    "_uuid": "c084aadf25a46f2d0a096e1190b6cae64c15c2d0",
    "execution": {
     "iopub.execute_input": "2021-01-07T23:29:12.759145Z",
     "iopub.status.busy": "2021-01-07T23:29:12.758030Z",
     "iopub.status.idle": "2021-01-07T23:29:12.763914Z",
     "shell.execute_reply": "2021-01-07T23:29:12.764403Z"
    },
    "hidden": true,
    "papermill": {
     "duration": 0.061226,
     "end_time": "2021-01-07T23:29:12.764576",
     "exception": false,
     "start_time": "2021-01-07T23:29:12.703350",
     "status": "completed"
    },
    "tags": []
   },
   "outputs": [
    {
     "data": {
      "text/plain": [
       "Ks_2sampResult(statistic=0.023, pvalue=0.9542189106778983)"
      ]
     },
     "execution_count": 29,
     "metadata": {},
     "output_type": "execute_result"
    }
   ],
   "source": [
    "ks_2samp(x, y)"
   ]
  },
  {
   "cell_type": "code",
   "execution_count": 30,
   "metadata": {
    "_uuid": "b7e6f9e94958fc2c42c8e9c1d5679862094a87d2",
    "execution": {
     "iopub.execute_input": "2021-01-07T23:29:12.870173Z",
     "iopub.status.busy": "2021-01-07T23:29:12.869292Z",
     "iopub.status.idle": "2021-01-07T23:29:12.875689Z",
     "shell.execute_reply": "2021-01-07T23:29:12.876217Z"
    },
    "hidden": true,
    "papermill": {
     "duration": 0.062512,
     "end_time": "2021-01-07T23:29:12.876381",
     "exception": false,
     "start_time": "2021-01-07T23:29:12.813869",
     "status": "completed"
    },
    "tags": []
   },
   "outputs": [
    {
     "data": {
      "text/plain": [
       "Ks_2sampResult(statistic=0.418, pvalue=1.2040448267583641e-78)"
      ]
     },
     "execution_count": 30,
     "metadata": {},
     "output_type": "execute_result"
    }
   ],
   "source": [
    "ks_2samp(x, z)"
   ]
  },
  {
   "cell_type": "markdown",
   "metadata": {
    "_uuid": "76b88123cd3c879d026e4928caca7f1038ae64a3",
    "hidden": true,
    "papermill": {
     "duration": 0.049264,
     "end_time": "2021-01-07T23:29:12.977461",
     "exception": false,
     "start_time": "2021-01-07T23:29:12.928197",
     "status": "completed"
    },
    "tags": []
   },
   "source": [
    "***"
   ]
  },
  {
   "cell_type": "markdown",
   "metadata": {
    "_uuid": "b6ef074ad4be54b5765413f2b5bc1ef2f8e82fd9",
    "papermill": {
     "duration": 0.049598,
     "end_time": "2021-01-07T23:29:13.077287",
     "exception": false,
     "start_time": "2021-01-07T23:29:13.027689",
     "status": "completed"
    },
    "tags": []
   },
   "source": [
    "# <p>&nbsp;</p>\n",
    "<h1 style=\"text-align: center;\"><strong><span lang=\"pt\">CONCLUSION</strong></span></h1>\n",
    "<p>&nbsp;</p><p>&nbsp;</p><p>&nbsp;</p>"
   ]
  },
  {
   "cell_type": "markdown",
   "metadata": {
    "_uuid": "7523fb435f7a5da07cce2d96c00064f30fd0c247",
    "papermill": {
     "duration": 0.048749,
     "end_time": "2021-01-07T23:29:13.175747",
     "exception": false,
     "start_time": "2021-01-07T23:29:13.126998",
     "status": "completed"
    },
    "tags": []
   },
   "source": [
    "In this Study Kernel, through the reference readings, I noticed that the KS Test is a very efficient way of automatically differentiating samples from different distributions. In reading the links, it is noticed that Test T Student provides a very high p-value, and when the sample mean and standard deviation are highly similar, it does not detect such a variation. The KS Test can detect the variation. This served as study for future use of the KS Test, it showed that it can be easily used in Data Science contexts.\n",
    "\n",
    "**References:**\n",
    "\n",
    "- [Kolmogorov–Smirnov Test](https://en.wikipedia.org/wiki/Kolmogorov%E2%80%93Smirnov_test)\n",
    "- [scipy.stats.kstest](https://docs.scipy.org/doc/scipy-0.14.0/reference/generated/scipy.stats.kstest.html)\n",
    "- [scipy.stats.ks_2samp](https://docs.scipy.org/doc/scipy/reference/generated/scipy.stats.ks_2samp.html)\n",
    "- [KOLMOGOROV–SMIRNOV TEST](https://towardsdatascience.com/kolmogorov-smirnov-test-84c92fb4158d)\n",
    "- [Kolmogorov-Smirnov Test](http://www.physics.csbsju.edu/stats/KS-test.html)\n",
    "- [6.2 - TESTE DE KOLMOGOROV-SMIRNOV](http://www.portalaction.com.br/inferencia/62-teste-de-kolmogorov-smirnov)\n",
    "- [Normality Test in Python](https://plot.ly/python/normality-test/)\n",
    "- [Kolmogorov-Smirnov train/test - Porto Seguro](https://www.kaggle.com/rspadim/kolmogorov-smirnov-train-test-porto-seguro)\n",
    "- [Two-sample Kolmogorov-Smirnov Test in Python Scipy](https://stackoverflow.com/questions/10884668/two-sample-kolmogorov-smirnov-test-in-python-scipy)"
   ]
  },
  {
   "cell_type": "markdown",
   "metadata": {
    "_uuid": "182efeeb6fb8fd39435a9417e54d572bb3059473",
    "papermill": {
     "duration": 0.049466,
     "end_time": "2021-01-07T23:29:13.275026",
     "exception": false,
     "start_time": "2021-01-07T23:29:13.225560",
     "status": "completed"
    },
    "tags": []
   },
   "source": [
    "***"
   ]
  },
  {
   "cell_type": "markdown",
   "metadata": {
    "_uuid": "ea98dbe45180eded52bc1f78e11579ad5a2d4a0c",
    "papermill": {
     "duration": 0.049705,
     "end_time": "2021-01-07T23:29:13.374551",
     "exception": false,
     "start_time": "2021-01-07T23:29:13.324846",
     "status": "completed"
    },
    "tags": []
   },
   "source": [
    "##### INSTALLED VERSIONS"
   ]
  },
  {
   "cell_type": "code",
   "execution_count": 31,
   "metadata": {
    "_uuid": "9ad657ca5d6fad5b7775de968a9498241b8a0d5d",
    "execution": {
     "iopub.execute_input": "2021-01-07T23:29:13.483654Z",
     "iopub.status.busy": "2021-01-07T23:29:13.482788Z",
     "iopub.status.idle": "2021-01-07T23:29:16.529548Z",
     "shell.execute_reply": "2021-01-07T23:29:16.528507Z"
    },
    "papermill": {
     "duration": 3.105283,
     "end_time": "2021-01-07T23:29:16.529788",
     "exception": false,
     "start_time": "2021-01-07T23:29:13.424505",
     "status": "completed"
    },
    "tags": []
   },
   "outputs": [
    {
     "name": "stdout",
     "output_type": "stream",
     "text": [
      "\n",
      "INSTALLED VERSIONS\n",
      "------------------\n",
      "commit           : b5958ee1999e9aead1938c0bba2b674378807b3d\n",
      "python           : 3.7.6.final.0\n",
      "python-bits      : 64\n",
      "OS               : Linux\n",
      "OS-release       : 5.4.49+\n",
      "Version          : #1 SMP Mon Nov 30 19:42:49 PST 2020\n",
      "machine          : x86_64\n",
      "processor        : x86_64\n",
      "byteorder        : little\n",
      "LC_ALL           : C.UTF-8\n",
      "LANG             : C.UTF-8\n",
      "LOCALE           : en_US.UTF-8\n",
      "\n",
      "pandas           : 1.1.5\n",
      "numpy            : 1.18.5\n",
      "pytz             : 2019.3\n",
      "dateutil         : 2.8.1\n",
      "pip              : 20.3.1\n",
      "setuptools       : 46.1.3.post20200325\n",
      "Cython           : 0.29.21\n",
      "pytest           : 5.4.1\n",
      "hypothesis       : 5.10.0\n",
      "sphinx           : 3.0.2\n",
      "blosc            : None\n",
      "feather          : 0.4.1\n",
      "xlsxwriter       : 1.2.8\n",
      "lxml.etree       : 4.5.0\n",
      "html5lib         : 1.0.1\n",
      "pymysql          : None\n",
      "psycopg2         : None\n",
      "jinja2           : 2.11.2\n",
      "IPython          : 7.13.0\n",
      "pandas_datareader: 0.9.0\n",
      "bs4              : 4.9.0\n",
      "bottleneck       : 1.3.2\n",
      "fsspec           : 0.8.4\n",
      "fastparquet      : None\n",
      "gcsfs            : 0.6.1\n",
      "matplotlib       : 3.2.1\n",
      "numexpr          : 2.7.1\n",
      "odfpy            : None\n",
      "openpyxl         : 3.0.3\n",
      "pandas_gbq       : None\n",
      "pyarrow          : 0.16.0\n",
      "pytables         : None\n",
      "pyxlsb           : None\n",
      "s3fs             : 0.5.1\n",
      "scipy            : 1.4.1\n",
      "sqlalchemy       : 1.3.16\n",
      "tables           : 3.6.1\n",
      "tabulate         : 0.8.7\n",
      "xarray           : 0.16.2\n",
      "xlrd             : 1.2.0\n",
      "xlwt             : 1.3.0\n",
      "numba            : 0.48.0\n"
     ]
    }
   ],
   "source": [
    "pd.show_versions()"
   ]
  },
  {
   "cell_type": "markdown",
   "metadata": {
    "_uuid": "69d3e8e40d6b47b7cc9485984c7f46f3ac8afcec",
    "papermill": {
     "duration": 0.053683,
     "end_time": "2021-01-07T23:29:16.638596",
     "exception": false,
     "start_time": "2021-01-07T23:29:16.584913",
     "status": "completed"
    },
    "tags": []
   },
   "source": [
    "***"
   ]
  }
 ],
 "metadata": {
  "kernelspec": {
   "display_name": "Python 3",
   "language": "python",
   "name": "python3"
  },
  "language_info": {
   "codemirror_mode": {
    "name": "ipython",
    "version": 3
   },
   "file_extension": ".py",
   "mimetype": "text/x-python",
   "name": "python",
   "nbconvert_exporter": "python",
   "pygments_lexer": "ipython3",
   "version": "3.7.6"
  },
  "papermill": {
   "duration": 39.36088,
   "end_time": "2021-01-07T23:29:16.798251",
   "environment_variables": {},
   "exception": null,
   "input_path": "__notebook__.ipynb",
   "output_path": "__notebook__.ipynb",
   "parameters": {},
   "start_time": "2021-01-07T23:28:37.437371",
   "version": "2.1.0"
  }
 },
 "nbformat": 4,
 "nbformat_minor": 4
}
