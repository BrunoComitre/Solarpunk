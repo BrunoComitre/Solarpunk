{
 "cells": [
  {
   "cell_type": "markdown",
   "metadata": {
    "_uuid": "df39ae7ca8450cb2ced8f78104ce562074891ecf",
    "papermill": {
     "duration": 0.036396,
     "end_time": "2021-01-07T23:28:59.329957",
     "exception": false,
     "start_time": "2021-01-07T23:28:59.293561",
     "status": "completed"
    },
    "tags": []
   },
   "source": [
    "# Especialização em Ciência de Dados - Turma 2018.1 - Facens\n",
    "## Aula1 | Exercício 1 (valendo nota)\n",
    "\n",
    "* **Data de entrega:** 06/nov/2018 07:59\n",
    "* **Professor:**  Matheus Mota\n",
    "* **Aluno:** Bruno Alves Comitre\n",
    "* **RA:** 183141"
   ]
  },
  {
   "cell_type": "markdown",
   "metadata": {
    "_uuid": "1d5a911ebf40fb7c2ad909ff461289ef98a7ab60",
    "papermill": {
     "duration": 0.03444,
     "end_time": "2021-01-07T23:28:59.399504",
     "exception": false,
     "start_time": "2021-01-07T23:28:59.365064",
     "status": "completed"
    },
    "tags": []
   },
   "source": [
    "## Questão 1\n",
    "**Enunciado:**  Este notebook está associado ao *Kaggle Dataset* chamado \"Aula1 | Exercício1\". Este *Kaggle Dataset* possui dois arquivos em formato CSV (anv.csv e BR_eleitorado_2016_municipio ). Escolha um dos datasets disponíveis e já conhecidos, a seu critério. Uma vez definido o csv, escolha no mínimo 7 e no máximo 12 variáveis (colunas) que você avalia como sendo relevantes. Para cada uma das suas variáveis escolhidas, forneça:\n",
    "\n",
    "\n",
    "### Questão 1 - Item A - Classificação das variáveis\n",
    "\n",
    "Classifique todas as variáveis escolhidas, e construa um dataframe com sua resposta.\n",
    "Exemplo:"
   ]
  },
  {
   "cell_type": "markdown",
   "metadata": {
    "_uuid": "1d5545ffa5ab35da8eee6398ea8213a289f365e0",
    "papermill": {
     "duration": 0.03429,
     "end_time": "2021-01-07T23:28:59.468716",
     "exception": false,
     "start_time": "2021-01-07T23:28:59.434426",
     "status": "completed"
    },
    "tags": []
   },
   "source": [
    "```import pandas as pd\n",
    "resposta = [[\"idade\", \"Quantitativa Discreta\"],[\"sexo\",\"Qualitativa Nominal\"]] #variáveis relacionadas a tempo são contínuas, mas podem ser discretas pois não há perdas -- (discretização)\n",
    "resposta = pd.DataFrame(resposta, columns=[\"Variavel\", \"Classificação\"])\n",
    "resposta\n",
    "```"
   ]
  },
  {
   "cell_type": "markdown",
   "metadata": {
    "_uuid": "1989b39f076b334cd33a322271606a951c2f81ad",
    "papermill": {
     "duration": 0.034376,
     "end_time": "2021-01-07T23:28:59.538162",
     "exception": false,
     "start_time": "2021-01-07T23:28:59.503786",
     "status": "completed"
    },
    "tags": []
   },
   "source": [
    "### Questão 1 - Item B - Tabela de frequência\n",
    "\n",
    "Construa uma tabela de frequência para cada uma das **variáveis qualitativas** que você escolheu (caso não tenha escolhido nenhuma, deixe esta questão em branco). Uma dica: a função *value_counts()* do Pandas pode ser muito útil. =)\n"
   ]
  },
  {
   "cell_type": "markdown",
   "metadata": {
    "_uuid": "8e37baddfa9bd56448ae49518a79016217ae7806",
    "papermill": {
     "duration": 0.034415,
     "end_time": "2021-01-07T23:28:59.607409",
     "exception": false,
     "start_time": "2021-01-07T23:28:59.572994",
     "status": "completed"
    },
    "tags": []
   },
   "source": [
    "### Questão 1 - Item C - Representação Gráfica\n",
    "Para cada uma das variáveis, produza um ou mais gráficos, usando matplotlib, que descreva seu comportamento / caracteristica. Lembre-se que estes gráficos precisam ser compatíveis com a classificação da variável. "
   ]
  },
  {
   "cell_type": "markdown",
   "metadata": {
    "_uuid": "b00d8ea458788bb5e3fe07c5ded0bc4d152f8caf",
    "papermill": {
     "duration": 0.03451,
     "end_time": "2021-01-07T23:28:59.676997",
     "exception": false,
     "start_time": "2021-01-07T23:28:59.642487",
     "status": "completed"
    },
    "tags": []
   },
   "source": [
    "# Dicas\n",
    "\n",
    "- Exemplo de acesso aos CSVs disponíveis no dataset\n",
    "> df = pd.read_csv('../input/anv.csv', delimiter=',')"
   ]
  },
  {
   "cell_type": "markdown",
   "metadata": {
    "_uuid": "a4a323f5078ec040af05f3f4ce556de63334e7bf",
    "papermill": {
     "duration": 0.03428,
     "end_time": "2021-01-07T23:28:59.746293",
     "exception": false,
     "start_time": "2021-01-07T23:28:59.712013",
     "status": "completed"
    },
    "tags": []
   },
   "source": [
    "***"
   ]
  },
  {
   "cell_type": "markdown",
   "metadata": {
    "_uuid": "2bfb47ca25b6af006b84a2da8c1029349255151b",
    "papermill": {
     "duration": 0.034395,
     "end_time": "2021-01-07T23:28:59.815402",
     "exception": false,
     "start_time": "2021-01-07T23:28:59.781007",
     "status": "completed"
    },
    "tags": []
   },
   "source": [
    "# Inicio do Exercício\n",
    "\n",
    "##### Setup + Import Data"
   ]
  },
  {
   "cell_type": "code",
   "execution_count": 1,
   "metadata": {
    "_uuid": "02a6b5b5c23f6c2788bddae86d50f4c9cf715a10",
    "execution": {
     "iopub.execute_input": "2021-01-07T23:28:59.899275Z",
     "iopub.status.busy": "2021-01-07T23:28:59.898554Z",
     "iopub.status.idle": "2021-01-07T23:28:59.901955Z",
     "shell.execute_reply": "2021-01-07T23:28:59.901413Z"
    },
    "papermill": {
     "duration": 0.051927,
     "end_time": "2021-01-07T23:28:59.902074",
     "exception": false,
     "start_time": "2021-01-07T23:28:59.850147",
     "status": "completed"
    },
    "tags": []
   },
   "outputs": [],
   "source": [
    "# Realizando as importações e definindo o corte das casas decimais, e outros valores:\n",
    "import numpy as np\n",
    "import pandas as pd\n",
    "import matplotlib.pyplot as plt\n",
    "\n",
    "pd.options.display.float_format = '{:.2%}'.format\n",
    "pd.set_option('display.max_row', 800)# set jupyter's max row display\n",
    "pd.set_option('display.max_columns', 50)# set jupyter's max column width to 50\n",
    "\n",
    "plt.style.use('ggplot')\n",
    "%matplotlib inline"
   ]
  },
  {
   "cell_type": "code",
   "execution_count": 2,
   "metadata": {
    "_uuid": "76952834660fcf5bc7337f04213b4fe785698828",
    "execution": {
     "iopub.execute_input": "2021-01-07T23:28:59.979209Z",
     "iopub.status.busy": "2021-01-07T23:28:59.978052Z",
     "iopub.status.idle": "2021-01-07T23:29:00.029869Z",
     "shell.execute_reply": "2021-01-07T23:29:00.030510Z"
    },
    "papermill": {
     "duration": 0.093317,
     "end_time": "2021-01-07T23:29:00.030666",
     "exception": false,
     "start_time": "2021-01-07T23:28:59.937349",
     "status": "completed"
    },
    "tags": []
   },
   "outputs": [
    {
     "ename": "FileNotFoundError",
     "evalue": "[Errno 2] No such file or directory: '../input/anv.csv'",
     "output_type": "error",
     "traceback": [
      "\u001b[0;31m---------------------------------------------------------------------------\u001b[0m",
      "\u001b[0;31mFileNotFoundError\u001b[0m                         Traceback (most recent call last)",
      "\u001b[0;32m<ipython-input-2-48735cf74f25>\u001b[0m in \u001b[0;36m<module>\u001b[0;34m\u001b[0m\n\u001b[1;32m      1\u001b[0m \u001b[0;31m# Checkando as 5 primeiras linhas do arquivo:\u001b[0m\u001b[0;34m\u001b[0m\u001b[0;34m\u001b[0m\u001b[0;34m\u001b[0m\u001b[0m\n\u001b[0;32m----> 2\u001b[0;31m \u001b[0mdataset\u001b[0m \u001b[0;34m=\u001b[0m \u001b[0mpd\u001b[0m\u001b[0;34m.\u001b[0m\u001b[0mread_csv\u001b[0m\u001b[0;34m(\u001b[0m\u001b[0;34m'../input/anv.csv'\u001b[0m\u001b[0;34m,\u001b[0m \u001b[0mdelimiter\u001b[0m\u001b[0;34m=\u001b[0m\u001b[0;34m','\u001b[0m\u001b[0;34m)\u001b[0m\u001b[0;34m\u001b[0m\u001b[0;34m\u001b[0m\u001b[0m\n\u001b[0m\u001b[1;32m      3\u001b[0m \u001b[0mdataset\u001b[0m\u001b[0;34m.\u001b[0m\u001b[0mhead\u001b[0m\u001b[0;34m(\u001b[0m\u001b[0;34m)\u001b[0m\u001b[0;34m\u001b[0m\u001b[0;34m\u001b[0m\u001b[0m\n",
      "\u001b[0;32m/opt/conda/lib/python3.7/site-packages/pandas/io/parsers.py\u001b[0m in \u001b[0;36mread_csv\u001b[0;34m(filepath_or_buffer, sep, delimiter, header, names, index_col, usecols, squeeze, prefix, mangle_dupe_cols, dtype, engine, converters, true_values, false_values, skipinitialspace, skiprows, skipfooter, nrows, na_values, keep_default_na, na_filter, verbose, skip_blank_lines, parse_dates, infer_datetime_format, keep_date_col, date_parser, dayfirst, cache_dates, iterator, chunksize, compression, thousands, decimal, lineterminator, quotechar, quoting, doublequote, escapechar, comment, encoding, dialect, error_bad_lines, warn_bad_lines, delim_whitespace, low_memory, memory_map, float_precision)\u001b[0m\n\u001b[1;32m    686\u001b[0m     )\n\u001b[1;32m    687\u001b[0m \u001b[0;34m\u001b[0m\u001b[0m\n\u001b[0;32m--> 688\u001b[0;31m     \u001b[0;32mreturn\u001b[0m \u001b[0m_read\u001b[0m\u001b[0;34m(\u001b[0m\u001b[0mfilepath_or_buffer\u001b[0m\u001b[0;34m,\u001b[0m \u001b[0mkwds\u001b[0m\u001b[0;34m)\u001b[0m\u001b[0;34m\u001b[0m\u001b[0;34m\u001b[0m\u001b[0m\n\u001b[0m\u001b[1;32m    689\u001b[0m \u001b[0;34m\u001b[0m\u001b[0m\n\u001b[1;32m    690\u001b[0m \u001b[0;34m\u001b[0m\u001b[0m\n",
      "\u001b[0;32m/opt/conda/lib/python3.7/site-packages/pandas/io/parsers.py\u001b[0m in \u001b[0;36m_read\u001b[0;34m(filepath_or_buffer, kwds)\u001b[0m\n\u001b[1;32m    452\u001b[0m \u001b[0;34m\u001b[0m\u001b[0m\n\u001b[1;32m    453\u001b[0m     \u001b[0;31m# Create the parser.\u001b[0m\u001b[0;34m\u001b[0m\u001b[0;34m\u001b[0m\u001b[0;34m\u001b[0m\u001b[0m\n\u001b[0;32m--> 454\u001b[0;31m     \u001b[0mparser\u001b[0m \u001b[0;34m=\u001b[0m \u001b[0mTextFileReader\u001b[0m\u001b[0;34m(\u001b[0m\u001b[0mfp_or_buf\u001b[0m\u001b[0;34m,\u001b[0m \u001b[0;34m**\u001b[0m\u001b[0mkwds\u001b[0m\u001b[0;34m)\u001b[0m\u001b[0;34m\u001b[0m\u001b[0;34m\u001b[0m\u001b[0m\n\u001b[0m\u001b[1;32m    455\u001b[0m \u001b[0;34m\u001b[0m\u001b[0m\n\u001b[1;32m    456\u001b[0m     \u001b[0;32mif\u001b[0m \u001b[0mchunksize\u001b[0m \u001b[0;32mor\u001b[0m \u001b[0miterator\u001b[0m\u001b[0;34m:\u001b[0m\u001b[0;34m\u001b[0m\u001b[0;34m\u001b[0m\u001b[0m\n",
      "\u001b[0;32m/opt/conda/lib/python3.7/site-packages/pandas/io/parsers.py\u001b[0m in \u001b[0;36m__init__\u001b[0;34m(self, f, engine, **kwds)\u001b[0m\n\u001b[1;32m    946\u001b[0m             \u001b[0mself\u001b[0m\u001b[0;34m.\u001b[0m\u001b[0moptions\u001b[0m\u001b[0;34m[\u001b[0m\u001b[0;34m\"has_index_names\"\u001b[0m\u001b[0;34m]\u001b[0m \u001b[0;34m=\u001b[0m \u001b[0mkwds\u001b[0m\u001b[0;34m[\u001b[0m\u001b[0;34m\"has_index_names\"\u001b[0m\u001b[0;34m]\u001b[0m\u001b[0;34m\u001b[0m\u001b[0;34m\u001b[0m\u001b[0m\n\u001b[1;32m    947\u001b[0m \u001b[0;34m\u001b[0m\u001b[0m\n\u001b[0;32m--> 948\u001b[0;31m         \u001b[0mself\u001b[0m\u001b[0;34m.\u001b[0m\u001b[0m_make_engine\u001b[0m\u001b[0;34m(\u001b[0m\u001b[0mself\u001b[0m\u001b[0;34m.\u001b[0m\u001b[0mengine\u001b[0m\u001b[0;34m)\u001b[0m\u001b[0;34m\u001b[0m\u001b[0;34m\u001b[0m\u001b[0m\n\u001b[0m\u001b[1;32m    949\u001b[0m \u001b[0;34m\u001b[0m\u001b[0m\n\u001b[1;32m    950\u001b[0m     \u001b[0;32mdef\u001b[0m \u001b[0mclose\u001b[0m\u001b[0;34m(\u001b[0m\u001b[0mself\u001b[0m\u001b[0;34m)\u001b[0m\u001b[0;34m:\u001b[0m\u001b[0;34m\u001b[0m\u001b[0;34m\u001b[0m\u001b[0m\n",
      "\u001b[0;32m/opt/conda/lib/python3.7/site-packages/pandas/io/parsers.py\u001b[0m in \u001b[0;36m_make_engine\u001b[0;34m(self, engine)\u001b[0m\n\u001b[1;32m   1178\u001b[0m     \u001b[0;32mdef\u001b[0m \u001b[0m_make_engine\u001b[0m\u001b[0;34m(\u001b[0m\u001b[0mself\u001b[0m\u001b[0;34m,\u001b[0m \u001b[0mengine\u001b[0m\u001b[0;34m=\u001b[0m\u001b[0;34m\"c\"\u001b[0m\u001b[0;34m)\u001b[0m\u001b[0;34m:\u001b[0m\u001b[0;34m\u001b[0m\u001b[0;34m\u001b[0m\u001b[0m\n\u001b[1;32m   1179\u001b[0m         \u001b[0;32mif\u001b[0m \u001b[0mengine\u001b[0m \u001b[0;34m==\u001b[0m \u001b[0;34m\"c\"\u001b[0m\u001b[0;34m:\u001b[0m\u001b[0;34m\u001b[0m\u001b[0;34m\u001b[0m\u001b[0m\n\u001b[0;32m-> 1180\u001b[0;31m             \u001b[0mself\u001b[0m\u001b[0;34m.\u001b[0m\u001b[0m_engine\u001b[0m \u001b[0;34m=\u001b[0m \u001b[0mCParserWrapper\u001b[0m\u001b[0;34m(\u001b[0m\u001b[0mself\u001b[0m\u001b[0;34m.\u001b[0m\u001b[0mf\u001b[0m\u001b[0;34m,\u001b[0m \u001b[0;34m**\u001b[0m\u001b[0mself\u001b[0m\u001b[0;34m.\u001b[0m\u001b[0moptions\u001b[0m\u001b[0;34m)\u001b[0m\u001b[0;34m\u001b[0m\u001b[0;34m\u001b[0m\u001b[0m\n\u001b[0m\u001b[1;32m   1181\u001b[0m         \u001b[0;32melse\u001b[0m\u001b[0;34m:\u001b[0m\u001b[0;34m\u001b[0m\u001b[0;34m\u001b[0m\u001b[0m\n\u001b[1;32m   1182\u001b[0m             \u001b[0;32mif\u001b[0m \u001b[0mengine\u001b[0m \u001b[0;34m==\u001b[0m \u001b[0;34m\"python\"\u001b[0m\u001b[0;34m:\u001b[0m\u001b[0;34m\u001b[0m\u001b[0;34m\u001b[0m\u001b[0m\n",
      "\u001b[0;32m/opt/conda/lib/python3.7/site-packages/pandas/io/parsers.py\u001b[0m in \u001b[0;36m__init__\u001b[0;34m(self, src, **kwds)\u001b[0m\n\u001b[1;32m   2008\u001b[0m         \u001b[0mkwds\u001b[0m\u001b[0;34m[\u001b[0m\u001b[0;34m\"usecols\"\u001b[0m\u001b[0;34m]\u001b[0m \u001b[0;34m=\u001b[0m \u001b[0mself\u001b[0m\u001b[0;34m.\u001b[0m\u001b[0musecols\u001b[0m\u001b[0;34m\u001b[0m\u001b[0;34m\u001b[0m\u001b[0m\n\u001b[1;32m   2009\u001b[0m \u001b[0;34m\u001b[0m\u001b[0m\n\u001b[0;32m-> 2010\u001b[0;31m         \u001b[0mself\u001b[0m\u001b[0;34m.\u001b[0m\u001b[0m_reader\u001b[0m \u001b[0;34m=\u001b[0m \u001b[0mparsers\u001b[0m\u001b[0;34m.\u001b[0m\u001b[0mTextReader\u001b[0m\u001b[0;34m(\u001b[0m\u001b[0msrc\u001b[0m\u001b[0;34m,\u001b[0m \u001b[0;34m**\u001b[0m\u001b[0mkwds\u001b[0m\u001b[0;34m)\u001b[0m\u001b[0;34m\u001b[0m\u001b[0;34m\u001b[0m\u001b[0m\n\u001b[0m\u001b[1;32m   2011\u001b[0m         \u001b[0mself\u001b[0m\u001b[0;34m.\u001b[0m\u001b[0munnamed_cols\u001b[0m \u001b[0;34m=\u001b[0m \u001b[0mself\u001b[0m\u001b[0;34m.\u001b[0m\u001b[0m_reader\u001b[0m\u001b[0;34m.\u001b[0m\u001b[0munnamed_cols\u001b[0m\u001b[0;34m\u001b[0m\u001b[0;34m\u001b[0m\u001b[0m\n\u001b[1;32m   2012\u001b[0m \u001b[0;34m\u001b[0m\u001b[0m\n",
      "\u001b[0;32mpandas/_libs/parsers.pyx\u001b[0m in \u001b[0;36mpandas._libs.parsers.TextReader.__cinit__\u001b[0;34m()\u001b[0m\n",
      "\u001b[0;32mpandas/_libs/parsers.pyx\u001b[0m in \u001b[0;36mpandas._libs.parsers.TextReader._setup_parser_source\u001b[0;34m()\u001b[0m\n",
      "\u001b[0;31mFileNotFoundError\u001b[0m: [Errno 2] No such file or directory: '../input/anv.csv'"
     ]
    }
   ],
   "source": [
    "# Checkando as 5 primeiras linhas do arquivo:\n",
    "dataset = pd.read_csv('../input/anv.csv', delimiter=',')\n",
    "dataset.head()"
   ]
  },
  {
   "cell_type": "code",
   "execution_count": 3,
   "metadata": {
    "_uuid": "9c314245237c5c36aa2012b607de233e20408016",
    "execution": {
     "iopub.execute_input": "2021-01-07T23:29:00.116897Z",
     "iopub.status.busy": "2021-01-07T23:29:00.115821Z",
     "iopub.status.idle": "2021-01-07T23:29:00.119852Z",
     "shell.execute_reply": "2021-01-07T23:29:00.120412Z"
    },
    "papermill": {
     "duration": 0.05391,
     "end_time": "2021-01-07T23:29:00.120552",
     "exception": false,
     "start_time": "2021-01-07T23:29:00.066642",
     "status": "completed"
    },
    "tags": []
   },
   "outputs": [
    {
     "ename": "NameError",
     "evalue": "name 'dataset' is not defined",
     "output_type": "error",
     "traceback": [
      "\u001b[0;31m---------------------------------------------------------------------------\u001b[0m",
      "\u001b[0;31mNameError\u001b[0m                                 Traceback (most recent call last)",
      "\u001b[0;32m<ipython-input-3-4e7d40ccf2a7>\u001b[0m in \u001b[0;36m<module>\u001b[0;34m\u001b[0m\n\u001b[1;32m      1\u001b[0m \u001b[0;31m# Analisando as dimensões do dataset:\u001b[0m\u001b[0;34m\u001b[0m\u001b[0;34m\u001b[0m\u001b[0;34m\u001b[0m\u001b[0m\n\u001b[0;32m----> 2\u001b[0;31m \u001b[0mprint\u001b[0m\u001b[0;34m(\u001b[0m\u001b[0;34m'Este DataSet possui linhas:'\u001b[0m\u001b[0;34m,\u001b[0m \u001b[0mdataset\u001b[0m\u001b[0;34m.\u001b[0m\u001b[0mshape\u001b[0m\u001b[0;34m[\u001b[0m\u001b[0;36m0\u001b[0m\u001b[0;34m]\u001b[0m\u001b[0;34m)\u001b[0m\u001b[0;34m\u001b[0m\u001b[0;34m\u001b[0m\u001b[0m\n\u001b[0m\u001b[1;32m      3\u001b[0m \u001b[0mprint\u001b[0m\u001b[0;34m(\u001b[0m\u001b[0;34m'Este DataSet possui colunas:'\u001b[0m\u001b[0;34m,\u001b[0m \u001b[0mdataset\u001b[0m\u001b[0;34m.\u001b[0m\u001b[0mshape\u001b[0m\u001b[0;34m[\u001b[0m\u001b[0;36m1\u001b[0m\u001b[0;34m]\u001b[0m\u001b[0;34m)\u001b[0m\u001b[0;34m\u001b[0m\u001b[0;34m\u001b[0m\u001b[0m\n",
      "\u001b[0;31mNameError\u001b[0m: name 'dataset' is not defined"
     ]
    }
   ],
   "source": [
    "# Analisando as dimensões do dataset:\n",
    "print('Este DataSet possui linhas:', dataset.shape[0])\n",
    "print('Este DataSet possui colunas:', dataset.shape[1])"
   ]
  },
  {
   "cell_type": "code",
   "execution_count": 4,
   "metadata": {
    "_uuid": "06f21675a7b7a035981f40d28573fa4fd78157d0",
    "execution": {
     "iopub.execute_input": "2021-01-07T23:29:00.196410Z",
     "iopub.status.busy": "2021-01-07T23:29:00.195739Z",
     "iopub.status.idle": "2021-01-07T23:29:00.207374Z",
     "shell.execute_reply": "2021-01-07T23:29:00.207950Z"
    },
    "papermill": {
     "duration": 0.051198,
     "end_time": "2021-01-07T23:29:00.208088",
     "exception": false,
     "start_time": "2021-01-07T23:29:00.156890",
     "status": "completed"
    },
    "tags": []
   },
   "outputs": [
    {
     "ename": "NameError",
     "evalue": "name 'dataset' is not defined",
     "output_type": "error",
     "traceback": [
      "\u001b[0;31m---------------------------------------------------------------------------\u001b[0m",
      "\u001b[0;31mNameError\u001b[0m                                 Traceback (most recent call last)",
      "\u001b[0;32m<ipython-input-4-263c18dfcced>\u001b[0m in \u001b[0;36m<module>\u001b[0;34m\u001b[0m\n\u001b[1;32m      1\u001b[0m \u001b[0;31m# Verificando se existem dados nulos:\u001b[0m\u001b[0;34m\u001b[0m\u001b[0;34m\u001b[0m\u001b[0;34m\u001b[0m\u001b[0m\n\u001b[0;32m----> 2\u001b[0;31m \u001b[0mdataset\u001b[0m\u001b[0;34m.\u001b[0m\u001b[0misnull\u001b[0m\u001b[0;34m(\u001b[0m\u001b[0;34m)\u001b[0m\u001b[0;34m.\u001b[0m\u001b[0msum\u001b[0m\u001b[0;34m(\u001b[0m\u001b[0;34m)\u001b[0m\u001b[0;34m\u001b[0m\u001b[0;34m\u001b[0m\u001b[0m\n\u001b[0m",
      "\u001b[0;31mNameError\u001b[0m: name 'dataset' is not defined"
     ]
    }
   ],
   "source": [
    "# Verificando se existem dados nulos:\n",
    "dataset.isnull().sum()"
   ]
  },
  {
   "cell_type": "markdown",
   "metadata": {
    "_uuid": "0dc7750b13d0884d83f2a23e93c5fcf656cbf384",
    "papermill": {
     "duration": 0.037028,
     "end_time": "2021-01-07T23:29:00.282043",
     "exception": false,
     "start_time": "2021-01-07T23:29:00.245015",
     "status": "completed"
    },
    "tags": []
   },
   "source": [
    "##### OBS: Como estarei usando colunas que não tem dados Nan, não farei alteração eu excluirei as colunas que não irei utilizar."
   ]
  },
  {
   "cell_type": "code",
   "execution_count": 5,
   "metadata": {
    "_uuid": "1d55a24c84fb9aca3af489f7969429c9991ef521",
    "execution": {
     "iopub.execute_input": "2021-01-07T23:29:00.359472Z",
     "iopub.status.busy": "2021-01-07T23:29:00.358679Z",
     "iopub.status.idle": "2021-01-07T23:29:00.372842Z",
     "shell.execute_reply": "2021-01-07T23:29:00.373503Z"
    },
    "papermill": {
     "duration": 0.054727,
     "end_time": "2021-01-07T23:29:00.373642",
     "exception": false,
     "start_time": "2021-01-07T23:29:00.318915",
     "status": "completed"
    },
    "tags": []
   },
   "outputs": [
    {
     "ename": "NameError",
     "evalue": "name 'dataset' is not defined",
     "output_type": "error",
     "traceback": [
      "\u001b[0;31m---------------------------------------------------------------------------\u001b[0m",
      "\u001b[0;31mNameError\u001b[0m                                 Traceback (most recent call last)",
      "\u001b[0;32m<ipython-input-5-815a50894f8d>\u001b[0m in \u001b[0;36m<module>\u001b[0;34m\u001b[0m\n\u001b[0;32m----> 1\u001b[0;31m dataset.drop(['codigo_ocorrencia','aeronave_tipo_icao','aeronave_pmd','aeronave_pmd_categoria','aeronave_assentos',\n\u001b[0m\u001b[1;32m      2\u001b[0m               \u001b[0;34m'aeronave_ano_fabricacao'\u001b[0m\u001b[0;34m,\u001b[0m\u001b[0;34m'aeronave_pais_fabricante'\u001b[0m\u001b[0;34m,\u001b[0m\u001b[0;34m'aeronave_registro_categoria'\u001b[0m\u001b[0;34m,\u001b[0m\u001b[0;34m'aeronave_registro_segmento'\u001b[0m\u001b[0;34m,\u001b[0m\u001b[0;34m\u001b[0m\u001b[0;34m\u001b[0m\u001b[0m\n\u001b[1;32m      3\u001b[0m               \u001b[0;34m'aeronave_voo_origem'\u001b[0m\u001b[0;34m,\u001b[0m\u001b[0;34m'aeronave_voo_destino'\u001b[0m\u001b[0;34m,\u001b[0m\u001b[0;34m'aeronave_fase_operacao'\u001b[0m\u001b[0;34m,\u001b[0m\u001b[0;34m'aeronave_fase_operacao_icao'\u001b[0m\u001b[0;34m,\u001b[0m\u001b[0;34m\u001b[0m\u001b[0;34m\u001b[0m\u001b[0m\n\u001b[1;32m      4\u001b[0m               'aeronave_tipo_operacao','aeronave_nivel_dano','aeronave_dia_extracao'],axis=1, inplace = True)\n\u001b[1;32m      5\u001b[0m \u001b[0mdataset\u001b[0m\u001b[0;34m.\u001b[0m\u001b[0mhead\u001b[0m\u001b[0;34m(\u001b[0m\u001b[0;34m)\u001b[0m\u001b[0;34m\u001b[0m\u001b[0;34m\u001b[0m\u001b[0m\n",
      "\u001b[0;31mNameError\u001b[0m: name 'dataset' is not defined"
     ]
    }
   ],
   "source": [
    "dataset.drop(['codigo_ocorrencia','aeronave_tipo_icao','aeronave_pmd','aeronave_pmd_categoria','aeronave_assentos',\n",
    "              'aeronave_ano_fabricacao','aeronave_pais_fabricante','aeronave_registro_categoria','aeronave_registro_segmento',\n",
    "              'aeronave_voo_origem','aeronave_voo_destino','aeronave_fase_operacao','aeronave_fase_operacao_icao',\n",
    "              'aeronave_tipo_operacao','aeronave_nivel_dano','aeronave_dia_extracao'],axis=1, inplace = True)\n",
    "dataset.head()"
   ]
  },
  {
   "cell_type": "code",
   "execution_count": 6,
   "metadata": {
    "_uuid": "24220e717573172c52cc9e8acb17433b4cfe8542",
    "execution": {
     "iopub.execute_input": "2021-01-07T23:29:00.451986Z",
     "iopub.status.busy": "2021-01-07T23:29:00.451375Z",
     "iopub.status.idle": "2021-01-07T23:29:00.463578Z",
     "shell.execute_reply": "2021-01-07T23:29:00.464137Z"
    },
    "papermill": {
     "duration": 0.053288,
     "end_time": "2021-01-07T23:29:00.464297",
     "exception": false,
     "start_time": "2021-01-07T23:29:00.411009",
     "status": "completed"
    },
    "tags": []
   },
   "outputs": [
    {
     "ename": "NameError",
     "evalue": "name 'dataset' is not defined",
     "output_type": "error",
     "traceback": [
      "\u001b[0;31m---------------------------------------------------------------------------\u001b[0m",
      "\u001b[0;31mNameError\u001b[0m                                 Traceback (most recent call last)",
      "\u001b[0;32m<ipython-input-6-4102f79469ee>\u001b[0m in \u001b[0;36m<module>\u001b[0;34m\u001b[0m\n\u001b[1;32m      1\u001b[0m \u001b[0;31m# Verificando quantidade de dados nulos:\u001b[0m\u001b[0;34m\u001b[0m\u001b[0;34m\u001b[0m\u001b[0;34m\u001b[0m\u001b[0m\n\u001b[0;32m----> 2\u001b[0;31m \u001b[0mdataset\u001b[0m\u001b[0;34m.\u001b[0m\u001b[0misnull\u001b[0m\u001b[0;34m(\u001b[0m\u001b[0;34m)\u001b[0m\u001b[0;34m.\u001b[0m\u001b[0msum\u001b[0m\u001b[0;34m(\u001b[0m\u001b[0;34m)\u001b[0m\u001b[0;34m\u001b[0m\u001b[0;34m\u001b[0m\u001b[0m\n\u001b[0m",
      "\u001b[0;31mNameError\u001b[0m: name 'dataset' is not defined"
     ]
    }
   ],
   "source": [
    "# Verificando quantidade de dados nulos:\n",
    "dataset.isnull().sum()"
   ]
  },
  {
   "cell_type": "markdown",
   "metadata": {
    "_uuid": "62f7719351584cb4db626a46d064876c303584a4",
    "papermill": {
     "duration": 0.03812,
     "end_time": "2021-01-07T23:29:00.540379",
     "exception": false,
     "start_time": "2021-01-07T23:29:00.502259",
     "status": "completed"
    },
    "tags": []
   },
   "source": [
    "#### Questão 1 - Item A - Classificação das variáveis"
   ]
  },
  {
   "cell_type": "code",
   "execution_count": 7,
   "metadata": {
    "_uuid": "74c2cfe4056e8af1e3b36e88f6757bd490e7c34b",
    "execution": {
     "iopub.execute_input": "2021-01-07T23:29:00.618661Z",
     "iopub.status.busy": "2021-01-07T23:29:00.617990Z",
     "iopub.status.idle": "2021-01-07T23:29:00.649301Z",
     "shell.execute_reply": "2021-01-07T23:29:00.649838Z"
    },
    "papermill": {
     "duration": 0.072067,
     "end_time": "2021-01-07T23:29:00.649977",
     "exception": false,
     "start_time": "2021-01-07T23:29:00.577910",
     "status": "completed"
    },
    "tags": []
   },
   "outputs": [
    {
     "data": {
      "text/html": [
       "<div>\n",
       "<style scoped>\n",
       "    .dataframe tbody tr th:only-of-type {\n",
       "        vertical-align: middle;\n",
       "    }\n",
       "\n",
       "    .dataframe tbody tr th {\n",
       "        vertical-align: top;\n",
       "    }\n",
       "\n",
       "    .dataframe thead th {\n",
       "        text-align: right;\n",
       "    }\n",
       "</style>\n",
       "<table border=\"1\" class=\"dataframe\">\n",
       "  <thead>\n",
       "    <tr style=\"text-align: right;\">\n",
       "      <th></th>\n",
       "      <th>Variavel</th>\n",
       "      <th>Classificação</th>\n",
       "    </tr>\n",
       "  </thead>\n",
       "  <tbody>\n",
       "    <tr>\n",
       "      <th>0</th>\n",
       "      <td>aeronave_fabricante</td>\n",
       "      <td>Qualitativa Nominal</td>\n",
       "    </tr>\n",
       "    <tr>\n",
       "      <th>1</th>\n",
       "      <td>aeronave_matricula</td>\n",
       "      <td>Qualitativa Nominal</td>\n",
       "    </tr>\n",
       "    <tr>\n",
       "      <th>2</th>\n",
       "      <td>aeronave_operador_categoria</td>\n",
       "      <td>Qualitativa Ordinal</td>\n",
       "    </tr>\n",
       "    <tr>\n",
       "      <th>3</th>\n",
       "      <td>aeronave_tipo_veiculo</td>\n",
       "      <td>Qualitativa Nominal</td>\n",
       "    </tr>\n",
       "    <tr>\n",
       "      <th>4</th>\n",
       "      <td>aeronave_modelo</td>\n",
       "      <td>Qualitativa Ordinal</td>\n",
       "    </tr>\n",
       "    <tr>\n",
       "      <th>5</th>\n",
       "      <td>aeronave_motor_tipo</td>\n",
       "      <td>Qualitativa Nominal</td>\n",
       "    </tr>\n",
       "    <tr>\n",
       "      <th>6</th>\n",
       "      <td>aeronave_motor_quantidade</td>\n",
       "      <td>Qualitativa Ordinal</td>\n",
       "    </tr>\n",
       "    <tr>\n",
       "      <th>7</th>\n",
       "      <td>aeronave_pais_registro</td>\n",
       "      <td>Qualitativa Nominal</td>\n",
       "    </tr>\n",
       "    <tr>\n",
       "      <th>8</th>\n",
       "      <td>total_fatalidades</td>\n",
       "      <td>Quantitativa Discreta</td>\n",
       "    </tr>\n",
       "  </tbody>\n",
       "</table>\n",
       "</div>"
      ],
      "text/plain": [
       "                      Variavel          Classificação\n",
       "0          aeronave_fabricante    Qualitativa Nominal\n",
       "1           aeronave_matricula    Qualitativa Nominal\n",
       "2  aeronave_operador_categoria    Qualitativa Ordinal\n",
       "3        aeronave_tipo_veiculo    Qualitativa Nominal\n",
       "4              aeronave_modelo    Qualitativa Ordinal\n",
       "5          aeronave_motor_tipo    Qualitativa Nominal\n",
       "6    aeronave_motor_quantidade    Qualitativa Ordinal\n",
       "7       aeronave_pais_registro    Qualitativa Nominal\n",
       "8            total_fatalidades  Quantitativa Discreta"
      ]
     },
     "execution_count": 7,
     "metadata": {},
     "output_type": "execute_result"
    }
   ],
   "source": [
    "classification = [['aeronave_fabricante' , 'Qualitativa Nominal'],['aeronave_matricula' , 'Qualitativa Nominal'],\n",
    "            ['aeronave_operador_categoria' , 'Qualitativa Ordinal'],['aeronave_tipo_veiculo' , 'Qualitativa Nominal'],\n",
    "            ['aeronave_modelo' , 'Qualitativa Ordinal'],['aeronave_motor_tipo' , 'Qualitativa Nominal'],\n",
    "            ['aeronave_motor_quantidade' , 'Qualitativa Ordinal'],['aeronave_pais_registro' , 'Qualitativa Nominal'],\n",
    "            ['total_fatalidades' , 'Quantitativa Discreta']]\n",
    "classification = pd.DataFrame(classification, columns=['Variavel' , 'Classificação'])\n",
    "classification"
   ]
  },
  {
   "cell_type": "markdown",
   "metadata": {
    "_uuid": "76718f7971d7c4fa6888b707993711e21c368051",
    "papermill": {
     "duration": 0.037956,
     "end_time": "2021-01-07T23:29:00.726716",
     "exception": false,
     "start_time": "2021-01-07T23:29:00.688760",
     "status": "completed"
    },
    "tags": []
   },
   "source": [
    "- aeronave_fabricante         : Variavel Qualitativa Nominal - o index pos decidi separar por empresa.\n",
    "- aeronave_operador_categoria : Variavel Qualitativa Ordinal - A categoria de uma aeronave depende de seu uso.\n",
    "- aeronave_tipo_veiculo       : Variavel Qualitativa Nominal - Por haver um veiculo de determinada categoria.\n",
    "- aeronave_modelo             : Variavel Qualitativa Ordinal - Uma vez que existem modelos diferenes para a mesma categoria.\n",
    "- aeronave_motor_tipo         : Variavel Qualitativa Nominal - Cada aeronave possui apenas um tipo de motor.\n",
    "- aeronave_motor_quantidade   : Variavel Qualitativa Ordinal - Modelo de motor por Aeronave.\n",
    "- aeronave_pais_registro      : Variavel Qualitativa Nominal - Uma vez que cada aeronave possui um registro.\n",
    "- total_fatalidades           : Variavel Quantitativa Discreta - Valores Numeráveis.\n",
    "- aeronave_matricula          : Variavel Qualitativa Nominal - Cada aeronave tem uma única matrícula própria e cada combinação de marcas pode ser atribuída apenas a uma única aeronave.\n",
    "\n",
    "#### REFERÊNCIAS:\n",
    "\n",
    "- [Matrícula](http://www.anac.gov.br/assuntos/setor-regulado/aeronaves/rab/servico/matricula)\n",
    "- [Mudança de Categoria](http://www.anac.gov.br/assuntos/setor-regulado/aeronaves/rab/servico/mudanca-de-categoria)    \n",
    "- [Aeronaves](http://www.anac.gov.br/assuntos/dados-e-estatisticas/aeronaves)\n",
    "- [Descrição de Variáveis](http://www.anac.gov.br/assuntos/dados-e-estatisticas/descricao-de-variaveis)"
   ]
  },
  {
   "cell_type": "markdown",
   "metadata": {
    "_uuid": "4cd14c9be90e5d51a577addc4517e91f43421125",
    "papermill": {
     "duration": 0.039072,
     "end_time": "2021-01-07T23:29:00.803836",
     "exception": false,
     "start_time": "2021-01-07T23:29:00.764764",
     "status": "completed"
    },
    "tags": []
   },
   "source": [
    "***"
   ]
  },
  {
   "cell_type": "markdown",
   "metadata": {
    "_uuid": "5b21c3b2502800bc48d91386f93132427869710d",
    "papermill": {
     "duration": 0.039018,
     "end_time": "2021-01-07T23:29:00.881745",
     "exception": false,
     "start_time": "2021-01-07T23:29:00.842727",
     "status": "completed"
    },
    "tags": []
   },
   "source": [
    "#### Questão 1 - Item B - Tabela de frequência"
   ]
  },
  {
   "cell_type": "code",
   "execution_count": 8,
   "metadata": {
    "_uuid": "4a4cb84c54ed5f8bfa6e18e241d8c52e120c7d5d",
    "execution": {
     "iopub.execute_input": "2021-01-07T23:29:00.967498Z",
     "iopub.status.busy": "2021-01-07T23:29:00.966848Z",
     "iopub.status.idle": "2021-01-07T23:29:00.981793Z",
     "shell.execute_reply": "2021-01-07T23:29:00.982396Z"
    },
    "papermill": {
     "duration": 0.057894,
     "end_time": "2021-01-07T23:29:00.982539",
     "exception": false,
     "start_time": "2021-01-07T23:29:00.924645",
     "status": "completed"
    },
    "tags": []
   },
   "outputs": [
    {
     "ename": "NameError",
     "evalue": "name 'dataset' is not defined",
     "output_type": "error",
     "traceback": [
      "\u001b[0;31m---------------------------------------------------------------------------\u001b[0m",
      "\u001b[0;31mNameError\u001b[0m                                 Traceback (most recent call last)",
      "\u001b[0;32m<ipython-input-8-baa62bb641f7>\u001b[0m in \u001b[0;36m<module>\u001b[0;34m\u001b[0m\n\u001b[0;32m----> 1\u001b[0;31m \u001b[0mmanufacturer\u001b[0m \u001b[0;34m=\u001b[0m \u001b[0mdataset\u001b[0m\u001b[0;34m[\u001b[0m\u001b[0;34m'aeronave_fabricante'\u001b[0m\u001b[0;34m]\u001b[0m\u001b[0;34m.\u001b[0m\u001b[0mvalue_counts\u001b[0m\u001b[0;34m(\u001b[0m\u001b[0;34m)\u001b[0m\u001b[0;34m\u001b[0m\u001b[0;34m\u001b[0m\u001b[0m\n\u001b[0m\u001b[1;32m      2\u001b[0m \u001b[0mp_manufacturer\u001b[0m \u001b[0;34m=\u001b[0m \u001b[0mdataset\u001b[0m\u001b[0;34m[\u001b[0m\u001b[0;34m'aeronave_fabricante'\u001b[0m\u001b[0;34m]\u001b[0m\u001b[0;34m.\u001b[0m\u001b[0mvalue_counts\u001b[0m\u001b[0;34m(\u001b[0m\u001b[0mnormalize\u001b[0m\u001b[0;34m=\u001b[0m\u001b[0;32mTrue\u001b[0m\u001b[0;34m)\u001b[0m\u001b[0;34m\u001b[0m\u001b[0;34m\u001b[0m\u001b[0m\n\u001b[1;32m      3\u001b[0m \u001b[0mgf1\u001b[0m \u001b[0;34m=\u001b[0m \u001b[0mpd\u001b[0m\u001b[0;34m.\u001b[0m\u001b[0mconcat\u001b[0m\u001b[0;34m(\u001b[0m\u001b[0;34m[\u001b[0m\u001b[0mmanufacturer\u001b[0m\u001b[0;34m,\u001b[0m \u001b[0mp_manufacturer\u001b[0m\u001b[0;34m]\u001b[0m\u001b[0;34m,\u001b[0m \u001b[0maxis\u001b[0m\u001b[0;34m=\u001b[0m\u001b[0;36m1\u001b[0m\u001b[0;34m,\u001b[0m \u001b[0mkeys\u001b[0m\u001b[0;34m=\u001b[0m\u001b[0;34m[\u001b[0m\u001b[0;34m'Frequência Absoluta'\u001b[0m\u001b[0;34m,\u001b[0m \u001b[0;34m'Frequência Relativa %'\u001b[0m\u001b[0;34m]\u001b[0m\u001b[0;34m)\u001b[0m\u001b[0;34m\u001b[0m\u001b[0;34m\u001b[0m\u001b[0m\n\u001b[1;32m      4\u001b[0m \u001b[0mgf1\u001b[0m\u001b[0;34m.\u001b[0m\u001b[0mhead\u001b[0m\u001b[0;34m(\u001b[0m\u001b[0;34m)\u001b[0m\u001b[0;34m\u001b[0m\u001b[0;34m\u001b[0m\u001b[0m\n\u001b[1;32m      5\u001b[0m \u001b[0;31m#.head() para mostrar os 5 primeiros valores, caso deseje ver a lista completa delete-o (utilizado para facilitar vizualização)\u001b[0m\u001b[0;34m\u001b[0m\u001b[0;34m\u001b[0m\u001b[0;34m\u001b[0m\u001b[0m\n",
      "\u001b[0;31mNameError\u001b[0m: name 'dataset' is not defined"
     ]
    }
   ],
   "source": [
    "manufacturer = dataset['aeronave_fabricante'].value_counts()\n",
    "p_manufacturer = dataset['aeronave_fabricante'].value_counts(normalize=True)\n",
    "gf1 = pd.concat([manufacturer, p_manufacturer], axis=1, keys=['Frequência Absoluta', 'Frequência Relativa %'])\n",
    "gf1.head()\n",
    "#.head() para mostrar os 5 primeiros valores, caso deseje ver a lista completa delete-o (utilizado para facilitar vizualização)"
   ]
  },
  {
   "cell_type": "code",
   "execution_count": 9,
   "metadata": {
    "_uuid": "d2d6ff28a8750751d479ce54f6d72cb655c87313",
    "execution": {
     "iopub.execute_input": "2021-01-07T23:29:01.064566Z",
     "iopub.status.busy": "2021-01-07T23:29:01.063917Z",
     "iopub.status.idle": "2021-01-07T23:29:01.078683Z",
     "shell.execute_reply": "2021-01-07T23:29:01.079275Z"
    },
    "papermill": {
     "duration": 0.057239,
     "end_time": "2021-01-07T23:29:01.079415",
     "exception": false,
     "start_time": "2021-01-07T23:29:01.022176",
     "status": "completed"
    },
    "tags": []
   },
   "outputs": [
    {
     "ename": "NameError",
     "evalue": "name 'dataset' is not defined",
     "output_type": "error",
     "traceback": [
      "\u001b[0;31m---------------------------------------------------------------------------\u001b[0m",
      "\u001b[0;31mNameError\u001b[0m                                 Traceback (most recent call last)",
      "\u001b[0;32m<ipython-input-9-4b646d7fcbab>\u001b[0m in \u001b[0;36m<module>\u001b[0;34m\u001b[0m\n\u001b[0;32m----> 1\u001b[0;31m \u001b[0mregistration\u001b[0m \u001b[0;34m=\u001b[0m \u001b[0mdataset\u001b[0m\u001b[0;34m[\u001b[0m\u001b[0;34m'aeronave_matricula'\u001b[0m\u001b[0;34m]\u001b[0m\u001b[0;34m.\u001b[0m\u001b[0mvalue_counts\u001b[0m\u001b[0;34m(\u001b[0m\u001b[0;34m)\u001b[0m\u001b[0;34m\u001b[0m\u001b[0;34m\u001b[0m\u001b[0m\n\u001b[0m\u001b[1;32m      2\u001b[0m \u001b[0mp_registration\u001b[0m \u001b[0;34m=\u001b[0m \u001b[0mdataset\u001b[0m\u001b[0;34m[\u001b[0m\u001b[0;34m'aeronave_matricula'\u001b[0m\u001b[0;34m]\u001b[0m\u001b[0;34m.\u001b[0m\u001b[0mvalue_counts\u001b[0m\u001b[0;34m(\u001b[0m\u001b[0mnormalize\u001b[0m\u001b[0;34m=\u001b[0m\u001b[0;32mTrue\u001b[0m\u001b[0;34m)\u001b[0m\u001b[0;34m\u001b[0m\u001b[0;34m\u001b[0m\u001b[0m\n\u001b[1;32m      3\u001b[0m \u001b[0mgf2\u001b[0m \u001b[0;34m=\u001b[0m \u001b[0mpd\u001b[0m\u001b[0;34m.\u001b[0m\u001b[0mconcat\u001b[0m\u001b[0;34m(\u001b[0m\u001b[0;34m[\u001b[0m\u001b[0mregistration\u001b[0m\u001b[0;34m,\u001b[0m \u001b[0mp_registration\u001b[0m\u001b[0;34m]\u001b[0m\u001b[0;34m,\u001b[0m \u001b[0maxis\u001b[0m\u001b[0;34m=\u001b[0m\u001b[0;36m1\u001b[0m\u001b[0;34m,\u001b[0m \u001b[0mkeys\u001b[0m\u001b[0;34m=\u001b[0m\u001b[0;34m[\u001b[0m\u001b[0;34m'Frequência Absoluta'\u001b[0m\u001b[0;34m,\u001b[0m \u001b[0;34m'Frequência Relativa %'\u001b[0m\u001b[0;34m]\u001b[0m\u001b[0;34m)\u001b[0m\u001b[0;34m\u001b[0m\u001b[0;34m\u001b[0m\u001b[0m\n\u001b[1;32m      4\u001b[0m \u001b[0mgf2\u001b[0m\u001b[0;34m.\u001b[0m\u001b[0mhead\u001b[0m\u001b[0;34m(\u001b[0m\u001b[0;34m)\u001b[0m\u001b[0;34m\u001b[0m\u001b[0;34m\u001b[0m\u001b[0m\n\u001b[1;32m      5\u001b[0m \u001b[0;31m#.head() para mostrar os 5 primeiros valores, caso deseje ver a lista completa delete-o (utilizado para facilitar vizualização)\u001b[0m\u001b[0;34m\u001b[0m\u001b[0;34m\u001b[0m\u001b[0;34m\u001b[0m\u001b[0m\n",
      "\u001b[0;31mNameError\u001b[0m: name 'dataset' is not defined"
     ]
    }
   ],
   "source": [
    "registration = dataset['aeronave_matricula'].value_counts()\n",
    "p_registration = dataset['aeronave_matricula'].value_counts(normalize=True)\n",
    "gf2 = pd.concat([registration, p_registration], axis=1, keys=['Frequência Absoluta', 'Frequência Relativa %'])\n",
    "gf2.head()\n",
    "#.head() para mostrar os 5 primeiros valores, caso deseje ver a lista completa delete-o (utilizado para facilitar vizualização)"
   ]
  },
  {
   "cell_type": "code",
   "execution_count": 10,
   "metadata": {
    "_uuid": "8e6850d3e597951d1146ba22673e9583627fd107",
    "execution": {
     "iopub.execute_input": "2021-01-07T23:29:01.162339Z",
     "iopub.status.busy": "2021-01-07T23:29:01.161657Z",
     "iopub.status.idle": "2021-01-07T23:29:01.175918Z",
     "shell.execute_reply": "2021-01-07T23:29:01.176517Z"
    },
    "papermill": {
     "duration": 0.057375,
     "end_time": "2021-01-07T23:29:01.176672",
     "exception": false,
     "start_time": "2021-01-07T23:29:01.119297",
     "status": "completed"
    },
    "tags": []
   },
   "outputs": [
    {
     "ename": "NameError",
     "evalue": "name 'dataset' is not defined",
     "output_type": "error",
     "traceback": [
      "\u001b[0;31m---------------------------------------------------------------------------\u001b[0m",
      "\u001b[0;31mNameError\u001b[0m                                 Traceback (most recent call last)",
      "\u001b[0;32m<ipython-input-10-cd143d1283f7>\u001b[0m in \u001b[0;36m<module>\u001b[0;34m\u001b[0m\n\u001b[0;32m----> 1\u001b[0;31m \u001b[0moperator_category\u001b[0m \u001b[0;34m=\u001b[0m \u001b[0mdataset\u001b[0m\u001b[0;34m[\u001b[0m\u001b[0;34m'aeronave_operador_categoria'\u001b[0m\u001b[0;34m]\u001b[0m\u001b[0;34m.\u001b[0m\u001b[0mvalue_counts\u001b[0m\u001b[0;34m(\u001b[0m\u001b[0;34m)\u001b[0m\u001b[0;34m\u001b[0m\u001b[0;34m\u001b[0m\u001b[0m\n\u001b[0m\u001b[1;32m      2\u001b[0m \u001b[0mp_operator_category\u001b[0m \u001b[0;34m=\u001b[0m \u001b[0mdataset\u001b[0m\u001b[0;34m[\u001b[0m\u001b[0;34m'aeronave_operador_categoria'\u001b[0m\u001b[0;34m]\u001b[0m\u001b[0;34m.\u001b[0m\u001b[0mvalue_counts\u001b[0m\u001b[0;34m(\u001b[0m\u001b[0mnormalize\u001b[0m\u001b[0;34m=\u001b[0m\u001b[0;32mTrue\u001b[0m\u001b[0;34m)\u001b[0m\u001b[0;34m\u001b[0m\u001b[0;34m\u001b[0m\u001b[0m\n\u001b[1;32m      3\u001b[0m \u001b[0mgf3\u001b[0m \u001b[0;34m=\u001b[0m \u001b[0mpd\u001b[0m\u001b[0;34m.\u001b[0m\u001b[0mconcat\u001b[0m\u001b[0;34m(\u001b[0m\u001b[0;34m[\u001b[0m\u001b[0moperator_category\u001b[0m\u001b[0;34m,\u001b[0m \u001b[0mp_operator_category\u001b[0m\u001b[0;34m]\u001b[0m\u001b[0;34m,\u001b[0m \u001b[0maxis\u001b[0m\u001b[0;34m=\u001b[0m\u001b[0;36m1\u001b[0m\u001b[0;34m,\u001b[0m \u001b[0mkeys\u001b[0m\u001b[0;34m=\u001b[0m\u001b[0;34m[\u001b[0m\u001b[0;34m'Frequência Absoluta'\u001b[0m\u001b[0;34m,\u001b[0m \u001b[0;34m'Frequência Relativa %'\u001b[0m\u001b[0;34m]\u001b[0m\u001b[0;34m)\u001b[0m\u001b[0;34m\u001b[0m\u001b[0;34m\u001b[0m\u001b[0m\n\u001b[1;32m      4\u001b[0m \u001b[0mgf3\u001b[0m\u001b[0;34m.\u001b[0m\u001b[0mhead\u001b[0m\u001b[0;34m(\u001b[0m\u001b[0;34m)\u001b[0m\u001b[0;34m\u001b[0m\u001b[0;34m\u001b[0m\u001b[0m\n\u001b[1;32m      5\u001b[0m \u001b[0;31m#.head() para mostrar os 5 primeiros valores, caso deseje ver a lista completa delete-o (utilizado para facilitar vizualização)\u001b[0m\u001b[0;34m\u001b[0m\u001b[0;34m\u001b[0m\u001b[0;34m\u001b[0m\u001b[0m\n",
      "\u001b[0;31mNameError\u001b[0m: name 'dataset' is not defined"
     ]
    }
   ],
   "source": [
    "operator_category = dataset['aeronave_operador_categoria'].value_counts()\n",
    "p_operator_category = dataset['aeronave_operador_categoria'].value_counts(normalize=True)\n",
    "gf3 = pd.concat([operator_category, p_operator_category], axis=1, keys=['Frequência Absoluta', 'Frequência Relativa %'])\n",
    "gf3.head()\n",
    "#.head() para mostrar os 5 primeiros valores, caso deseje ver a lista completa delete-o (utilizado para facilitar vizualização)"
   ]
  },
  {
   "cell_type": "code",
   "execution_count": 11,
   "metadata": {
    "_uuid": "42af0632076e70f664e37bcb4155d921ea55b6f9",
    "execution": {
     "iopub.execute_input": "2021-01-07T23:29:01.260205Z",
     "iopub.status.busy": "2021-01-07T23:29:01.259499Z",
     "iopub.status.idle": "2021-01-07T23:29:01.273945Z",
     "shell.execute_reply": "2021-01-07T23:29:01.274538Z"
    },
    "papermill": {
     "duration": 0.057854,
     "end_time": "2021-01-07T23:29:01.274684",
     "exception": false,
     "start_time": "2021-01-07T23:29:01.216830",
     "status": "completed"
    },
    "tags": []
   },
   "outputs": [
    {
     "ename": "NameError",
     "evalue": "name 'dataset' is not defined",
     "output_type": "error",
     "traceback": [
      "\u001b[0;31m---------------------------------------------------------------------------\u001b[0m",
      "\u001b[0;31mNameError\u001b[0m                                 Traceback (most recent call last)",
      "\u001b[0;32m<ipython-input-11-e3de36c94678>\u001b[0m in \u001b[0;36m<module>\u001b[0;34m\u001b[0m\n\u001b[0;32m----> 1\u001b[0;31m \u001b[0mvehicle\u001b[0m \u001b[0;34m=\u001b[0m \u001b[0mdataset\u001b[0m\u001b[0;34m[\u001b[0m\u001b[0;34m'aeronave_tipo_veiculo'\u001b[0m\u001b[0;34m]\u001b[0m\u001b[0;34m.\u001b[0m\u001b[0mvalue_counts\u001b[0m\u001b[0;34m(\u001b[0m\u001b[0;34m)\u001b[0m\u001b[0;34m\u001b[0m\u001b[0;34m\u001b[0m\u001b[0m\n\u001b[0m\u001b[1;32m      2\u001b[0m \u001b[0mp_vehicle\u001b[0m \u001b[0;34m=\u001b[0m \u001b[0mdataset\u001b[0m\u001b[0;34m[\u001b[0m\u001b[0;34m'aeronave_tipo_veiculo'\u001b[0m\u001b[0;34m]\u001b[0m\u001b[0;34m.\u001b[0m\u001b[0mvalue_counts\u001b[0m\u001b[0;34m(\u001b[0m\u001b[0mnormalize\u001b[0m\u001b[0;34m=\u001b[0m\u001b[0;32mTrue\u001b[0m\u001b[0;34m)\u001b[0m\u001b[0;34m\u001b[0m\u001b[0;34m\u001b[0m\u001b[0m\n\u001b[1;32m      3\u001b[0m \u001b[0mgf4\u001b[0m \u001b[0;34m=\u001b[0m \u001b[0mpd\u001b[0m\u001b[0;34m.\u001b[0m\u001b[0mconcat\u001b[0m\u001b[0;34m(\u001b[0m\u001b[0;34m[\u001b[0m\u001b[0mvehicle\u001b[0m\u001b[0;34m,\u001b[0m \u001b[0mp_vehicle\u001b[0m\u001b[0;34m]\u001b[0m\u001b[0;34m,\u001b[0m \u001b[0maxis\u001b[0m\u001b[0;34m=\u001b[0m\u001b[0;36m1\u001b[0m\u001b[0;34m,\u001b[0m \u001b[0mkeys\u001b[0m\u001b[0;34m=\u001b[0m\u001b[0;34m[\u001b[0m\u001b[0;34m'Frequência Absoluta'\u001b[0m\u001b[0;34m,\u001b[0m \u001b[0;34m'Frequência Relativa %'\u001b[0m\u001b[0;34m]\u001b[0m\u001b[0;34m)\u001b[0m\u001b[0;34m\u001b[0m\u001b[0;34m\u001b[0m\u001b[0m\n\u001b[1;32m      4\u001b[0m \u001b[0mgf4\u001b[0m\u001b[0;34m.\u001b[0m\u001b[0mhead\u001b[0m\u001b[0;34m(\u001b[0m\u001b[0;34m)\u001b[0m\u001b[0;34m\u001b[0m\u001b[0;34m\u001b[0m\u001b[0m\n\u001b[1;32m      5\u001b[0m \u001b[0;31m#.head() para mostrar os 5 primeiros valores, caso deseje ver a lista completa delete-o (utilizado para facilitar vizualização)\u001b[0m\u001b[0;34m\u001b[0m\u001b[0;34m\u001b[0m\u001b[0;34m\u001b[0m\u001b[0m\n",
      "\u001b[0;31mNameError\u001b[0m: name 'dataset' is not defined"
     ]
    }
   ],
   "source": [
    "vehicle = dataset['aeronave_tipo_veiculo'].value_counts()\n",
    "p_vehicle = dataset['aeronave_tipo_veiculo'].value_counts(normalize=True)\n",
    "gf4 = pd.concat([vehicle, p_vehicle], axis=1, keys=['Frequência Absoluta', 'Frequência Relativa %'])\n",
    "gf4.head()\n",
    "#.head() para mostrar os 5 primeiros valores, caso deseje ver a lista completa delete-o (utilizado para facilitar vizualização)"
   ]
  },
  {
   "cell_type": "code",
   "execution_count": 12,
   "metadata": {
    "_uuid": "3d90e81678671e150842290ddeff54312d1c782f",
    "execution": {
     "iopub.execute_input": "2021-01-07T23:29:01.369097Z",
     "iopub.status.busy": "2021-01-07T23:29:01.366150Z",
     "iopub.status.idle": "2021-01-07T23:29:01.376045Z",
     "shell.execute_reply": "2021-01-07T23:29:01.375426Z"
    },
    "papermill": {
     "duration": 0.06069,
     "end_time": "2021-01-07T23:29:01.376148",
     "exception": false,
     "start_time": "2021-01-07T23:29:01.315458",
     "status": "completed"
    },
    "tags": []
   },
   "outputs": [
    {
     "ename": "NameError",
     "evalue": "name 'dataset' is not defined",
     "output_type": "error",
     "traceback": [
      "\u001b[0;31m---------------------------------------------------------------------------\u001b[0m",
      "\u001b[0;31mNameError\u001b[0m                                 Traceback (most recent call last)",
      "\u001b[0;32m<ipython-input-12-1cf0be1da7ed>\u001b[0m in \u001b[0;36m<module>\u001b[0;34m\u001b[0m\n\u001b[0;32m----> 1\u001b[0;31m \u001b[0mmodel\u001b[0m \u001b[0;34m=\u001b[0m \u001b[0mdataset\u001b[0m\u001b[0;34m[\u001b[0m\u001b[0;34m'aeronave_modelo'\u001b[0m\u001b[0;34m]\u001b[0m\u001b[0;34m.\u001b[0m\u001b[0mvalue_counts\u001b[0m\u001b[0;34m(\u001b[0m\u001b[0;34m)\u001b[0m\u001b[0;34m\u001b[0m\u001b[0;34m\u001b[0m\u001b[0m\n\u001b[0m\u001b[1;32m      2\u001b[0m \u001b[0mp_model\u001b[0m \u001b[0;34m=\u001b[0m \u001b[0mdataset\u001b[0m\u001b[0;34m[\u001b[0m\u001b[0;34m'aeronave_modelo'\u001b[0m\u001b[0;34m]\u001b[0m\u001b[0;34m.\u001b[0m\u001b[0mvalue_counts\u001b[0m\u001b[0;34m(\u001b[0m\u001b[0mnormalize\u001b[0m\u001b[0;34m=\u001b[0m\u001b[0;32mTrue\u001b[0m\u001b[0;34m)\u001b[0m\u001b[0;34m\u001b[0m\u001b[0;34m\u001b[0m\u001b[0m\n\u001b[1;32m      3\u001b[0m \u001b[0mgf5\u001b[0m \u001b[0;34m=\u001b[0m \u001b[0mpd\u001b[0m\u001b[0;34m.\u001b[0m\u001b[0mconcat\u001b[0m\u001b[0;34m(\u001b[0m\u001b[0;34m[\u001b[0m\u001b[0mmodel\u001b[0m\u001b[0;34m,\u001b[0m \u001b[0mp_model\u001b[0m\u001b[0;34m]\u001b[0m\u001b[0;34m,\u001b[0m \u001b[0maxis\u001b[0m\u001b[0;34m=\u001b[0m\u001b[0;36m1\u001b[0m\u001b[0;34m,\u001b[0m \u001b[0mkeys\u001b[0m\u001b[0;34m=\u001b[0m\u001b[0;34m[\u001b[0m\u001b[0;34m'Frequência Absoluta'\u001b[0m\u001b[0;34m,\u001b[0m \u001b[0;34m'Frequência Relativa %'\u001b[0m\u001b[0;34m]\u001b[0m\u001b[0;34m)\u001b[0m\u001b[0;34m\u001b[0m\u001b[0;34m\u001b[0m\u001b[0m\n\u001b[1;32m      4\u001b[0m \u001b[0mgf5\u001b[0m\u001b[0;34m.\u001b[0m\u001b[0mhead\u001b[0m\u001b[0;34m(\u001b[0m\u001b[0;34m)\u001b[0m\u001b[0;34m\u001b[0m\u001b[0;34m\u001b[0m\u001b[0m\n\u001b[1;32m      5\u001b[0m \u001b[0;31m#.head() para mostrar os 5 primeiros valores, caso deseje ver a lista completa delete-o (utilizado para facilitar vizualização)\u001b[0m\u001b[0;34m\u001b[0m\u001b[0;34m\u001b[0m\u001b[0;34m\u001b[0m\u001b[0m\n",
      "\u001b[0;31mNameError\u001b[0m: name 'dataset' is not defined"
     ]
    }
   ],
   "source": [
    "model = dataset['aeronave_modelo'].value_counts()\n",
    "p_model = dataset['aeronave_modelo'].value_counts(normalize=True)\n",
    "gf5 = pd.concat([model, p_model], axis=1, keys=['Frequência Absoluta', 'Frequência Relativa %'])\n",
    "gf5.head()\n",
    "#.head() para mostrar os 5 primeiros valores, caso deseje ver a lista completa delete-o (utilizado para facilitar vizualização)"
   ]
  },
  {
   "cell_type": "code",
   "execution_count": 13,
   "metadata": {
    "_uuid": "61eaf9332d438f4168b565aecc80b514c8edac15",
    "execution": {
     "iopub.execute_input": "2021-01-07T23:29:01.472800Z",
     "iopub.status.busy": "2021-01-07T23:29:01.471896Z",
     "iopub.status.idle": "2021-01-07T23:29:01.475902Z",
     "shell.execute_reply": "2021-01-07T23:29:01.476420Z"
    },
    "papermill": {
     "duration": 0.059274,
     "end_time": "2021-01-07T23:29:01.476656",
     "exception": false,
     "start_time": "2021-01-07T23:29:01.417382",
     "status": "completed"
    },
    "tags": []
   },
   "outputs": [
    {
     "ename": "NameError",
     "evalue": "name 'dataset' is not defined",
     "output_type": "error",
     "traceback": [
      "\u001b[0;31m---------------------------------------------------------------------------\u001b[0m",
      "\u001b[0;31mNameError\u001b[0m                                 Traceback (most recent call last)",
      "\u001b[0;32m<ipython-input-13-c9c63516ba1b>\u001b[0m in \u001b[0;36m<module>\u001b[0;34m\u001b[0m\n\u001b[0;32m----> 1\u001b[0;31m \u001b[0mengine_type\u001b[0m \u001b[0;34m=\u001b[0m \u001b[0mdataset\u001b[0m\u001b[0;34m[\u001b[0m\u001b[0;34m'aeronave_motor_tipo'\u001b[0m\u001b[0;34m]\u001b[0m\u001b[0;34m.\u001b[0m\u001b[0mvalue_counts\u001b[0m\u001b[0;34m(\u001b[0m\u001b[0;34m)\u001b[0m\u001b[0;34m\u001b[0m\u001b[0;34m\u001b[0m\u001b[0m\n\u001b[0m\u001b[1;32m      2\u001b[0m \u001b[0mp_engine_type\u001b[0m \u001b[0;34m=\u001b[0m \u001b[0mdataset\u001b[0m\u001b[0;34m[\u001b[0m\u001b[0;34m'aeronave_motor_tipo'\u001b[0m\u001b[0;34m]\u001b[0m\u001b[0;34m.\u001b[0m\u001b[0mvalue_counts\u001b[0m\u001b[0;34m(\u001b[0m\u001b[0mnormalize\u001b[0m\u001b[0;34m=\u001b[0m\u001b[0;32mTrue\u001b[0m\u001b[0;34m)\u001b[0m\u001b[0;34m\u001b[0m\u001b[0;34m\u001b[0m\u001b[0m\n\u001b[1;32m      3\u001b[0m \u001b[0mgf6\u001b[0m \u001b[0;34m=\u001b[0m \u001b[0mpd\u001b[0m\u001b[0;34m.\u001b[0m\u001b[0mconcat\u001b[0m\u001b[0;34m(\u001b[0m\u001b[0;34m[\u001b[0m\u001b[0mengine_type\u001b[0m\u001b[0;34m,\u001b[0m \u001b[0mp_engine_type\u001b[0m\u001b[0;34m]\u001b[0m\u001b[0;34m,\u001b[0m \u001b[0maxis\u001b[0m\u001b[0;34m=\u001b[0m\u001b[0;36m1\u001b[0m\u001b[0;34m,\u001b[0m \u001b[0mkeys\u001b[0m\u001b[0;34m=\u001b[0m\u001b[0;34m[\u001b[0m\u001b[0;34m'Frequência Absoluta'\u001b[0m\u001b[0;34m,\u001b[0m \u001b[0;34m'Frequência Relativa %'\u001b[0m\u001b[0;34m]\u001b[0m\u001b[0;34m)\u001b[0m\u001b[0;34m\u001b[0m\u001b[0;34m\u001b[0m\u001b[0m\n\u001b[1;32m      4\u001b[0m \u001b[0mgf6\u001b[0m\u001b[0;34m\u001b[0m\u001b[0;34m\u001b[0m\u001b[0m\n",
      "\u001b[0;31mNameError\u001b[0m: name 'dataset' is not defined"
     ]
    }
   ],
   "source": [
    "engine_type = dataset['aeronave_motor_tipo'].value_counts()\n",
    "p_engine_type = dataset['aeronave_motor_tipo'].value_counts(normalize=True)\n",
    "gf6 = pd.concat([engine_type, p_engine_type], axis=1, keys=['Frequência Absoluta', 'Frequência Relativa %'])\n",
    "gf6"
   ]
  },
  {
   "cell_type": "code",
   "execution_count": 14,
   "metadata": {
    "_uuid": "f81bdb10799c4c5995201d52f953f8511b35be31",
    "execution": {
     "iopub.execute_input": "2021-01-07T23:29:01.563633Z",
     "iopub.status.busy": "2021-01-07T23:29:01.562891Z",
     "iopub.status.idle": "2021-01-07T23:29:01.576744Z",
     "shell.execute_reply": "2021-01-07T23:29:01.577321Z"
    },
    "papermill": {
     "duration": 0.058862,
     "end_time": "2021-01-07T23:29:01.577460",
     "exception": false,
     "start_time": "2021-01-07T23:29:01.518598",
     "status": "completed"
    },
    "tags": []
   },
   "outputs": [
    {
     "ename": "NameError",
     "evalue": "name 'dataset' is not defined",
     "output_type": "error",
     "traceback": [
      "\u001b[0;31m---------------------------------------------------------------------------\u001b[0m",
      "\u001b[0;31mNameError\u001b[0m                                 Traceback (most recent call last)",
      "\u001b[0;32m<ipython-input-14-b19c326ad2a6>\u001b[0m in \u001b[0;36m<module>\u001b[0;34m\u001b[0m\n\u001b[0;32m----> 1\u001b[0;31m \u001b[0mengine_quantity\u001b[0m \u001b[0;34m=\u001b[0m \u001b[0mdataset\u001b[0m\u001b[0;34m[\u001b[0m\u001b[0;34m'aeronave_motor_quantidade'\u001b[0m\u001b[0;34m]\u001b[0m\u001b[0;34m.\u001b[0m\u001b[0mvalue_counts\u001b[0m\u001b[0;34m(\u001b[0m\u001b[0;34m)\u001b[0m\u001b[0;34m\u001b[0m\u001b[0;34m\u001b[0m\u001b[0m\n\u001b[0m\u001b[1;32m      2\u001b[0m \u001b[0mp_engine_quantity\u001b[0m \u001b[0;34m=\u001b[0m \u001b[0mdataset\u001b[0m\u001b[0;34m[\u001b[0m\u001b[0;34m'aeronave_motor_quantidade'\u001b[0m\u001b[0;34m]\u001b[0m\u001b[0;34m.\u001b[0m\u001b[0mvalue_counts\u001b[0m\u001b[0;34m(\u001b[0m\u001b[0mnormalize\u001b[0m\u001b[0;34m=\u001b[0m\u001b[0;32mTrue\u001b[0m\u001b[0;34m)\u001b[0m\u001b[0;34m\u001b[0m\u001b[0;34m\u001b[0m\u001b[0m\n\u001b[1;32m      3\u001b[0m \u001b[0mgf7\u001b[0m \u001b[0;34m=\u001b[0m \u001b[0mpd\u001b[0m\u001b[0;34m.\u001b[0m\u001b[0mconcat\u001b[0m\u001b[0;34m(\u001b[0m\u001b[0;34m[\u001b[0m\u001b[0mengine_quantity\u001b[0m\u001b[0;34m,\u001b[0m \u001b[0mp_engine_quantity\u001b[0m\u001b[0;34m]\u001b[0m\u001b[0;34m,\u001b[0m \u001b[0maxis\u001b[0m\u001b[0;34m=\u001b[0m\u001b[0;36m1\u001b[0m\u001b[0;34m,\u001b[0m \u001b[0mkeys\u001b[0m\u001b[0;34m=\u001b[0m\u001b[0;34m[\u001b[0m\u001b[0;34m'Frequência Absoluta'\u001b[0m\u001b[0;34m,\u001b[0m \u001b[0;34m'Frequência Relativa %'\u001b[0m\u001b[0;34m]\u001b[0m\u001b[0;34m)\u001b[0m\u001b[0;34m\u001b[0m\u001b[0;34m\u001b[0m\u001b[0m\n\u001b[1;32m      4\u001b[0m \u001b[0mgf7\u001b[0m\u001b[0;34m\u001b[0m\u001b[0;34m\u001b[0m\u001b[0m\n",
      "\u001b[0;31mNameError\u001b[0m: name 'dataset' is not defined"
     ]
    }
   ],
   "source": [
    "engine_quantity = dataset['aeronave_motor_quantidade'].value_counts()\n",
    "p_engine_quantity = dataset['aeronave_motor_quantidade'].value_counts(normalize=True)\n",
    "gf7 = pd.concat([engine_quantity, p_engine_quantity], axis=1, keys=['Frequência Absoluta', 'Frequência Relativa %'])\n",
    "gf7"
   ]
  },
  {
   "cell_type": "code",
   "execution_count": 15,
   "metadata": {
    "_uuid": "faa9c25b460c7a25e6f75274e173e8013f3632e3",
    "execution": {
     "iopub.execute_input": "2021-01-07T23:29:01.665929Z",
     "iopub.status.busy": "2021-01-07T23:29:01.665291Z",
     "iopub.status.idle": "2021-01-07T23:29:01.679214Z",
     "shell.execute_reply": "2021-01-07T23:29:01.679799Z"
    },
    "papermill": {
     "duration": 0.059729,
     "end_time": "2021-01-07T23:29:01.679931",
     "exception": false,
     "start_time": "2021-01-07T23:29:01.620202",
     "status": "completed"
    },
    "tags": []
   },
   "outputs": [
    {
     "ename": "NameError",
     "evalue": "name 'dataset' is not defined",
     "output_type": "error",
     "traceback": [
      "\u001b[0;31m---------------------------------------------------------------------------\u001b[0m",
      "\u001b[0;31mNameError\u001b[0m                                 Traceback (most recent call last)",
      "\u001b[0;32m<ipython-input-15-6f3150ee8f3c>\u001b[0m in \u001b[0;36m<module>\u001b[0;34m\u001b[0m\n\u001b[0;32m----> 1\u001b[0;31m \u001b[0mregistration_country\u001b[0m \u001b[0;34m=\u001b[0m \u001b[0mdataset\u001b[0m\u001b[0;34m[\u001b[0m\u001b[0;34m'aeronave_pais_registro'\u001b[0m\u001b[0;34m]\u001b[0m\u001b[0;34m.\u001b[0m\u001b[0mvalue_counts\u001b[0m\u001b[0;34m(\u001b[0m\u001b[0;34m)\u001b[0m\u001b[0;34m\u001b[0m\u001b[0;34m\u001b[0m\u001b[0m\n\u001b[0m\u001b[1;32m      2\u001b[0m \u001b[0mp_registration_country\u001b[0m \u001b[0;34m=\u001b[0m \u001b[0mdataset\u001b[0m\u001b[0;34m[\u001b[0m\u001b[0;34m'aeronave_pais_registro'\u001b[0m\u001b[0;34m]\u001b[0m\u001b[0;34m.\u001b[0m\u001b[0mvalue_counts\u001b[0m\u001b[0;34m(\u001b[0m\u001b[0mnormalize\u001b[0m\u001b[0;34m=\u001b[0m\u001b[0;32mTrue\u001b[0m\u001b[0;34m)\u001b[0m\u001b[0;34m\u001b[0m\u001b[0;34m\u001b[0m\u001b[0m\n\u001b[1;32m      3\u001b[0m \u001b[0mgf8\u001b[0m \u001b[0;34m=\u001b[0m \u001b[0mpd\u001b[0m\u001b[0;34m.\u001b[0m\u001b[0mconcat\u001b[0m\u001b[0;34m(\u001b[0m\u001b[0;34m[\u001b[0m\u001b[0mregistration_country\u001b[0m\u001b[0;34m,\u001b[0m \u001b[0mp_registration_country\u001b[0m\u001b[0;34m]\u001b[0m\u001b[0;34m,\u001b[0m \u001b[0maxis\u001b[0m\u001b[0;34m=\u001b[0m\u001b[0;36m1\u001b[0m\u001b[0;34m,\u001b[0m \u001b[0mkeys\u001b[0m\u001b[0;34m=\u001b[0m\u001b[0;34m[\u001b[0m\u001b[0;34m'Frequência Absoluta'\u001b[0m\u001b[0;34m,\u001b[0m \u001b[0;34m'Frequência Relativa %'\u001b[0m\u001b[0;34m]\u001b[0m\u001b[0;34m)\u001b[0m\u001b[0;34m\u001b[0m\u001b[0;34m\u001b[0m\u001b[0m\n\u001b[1;32m      4\u001b[0m \u001b[0mgf8\u001b[0m\u001b[0;34m.\u001b[0m\u001b[0mhead\u001b[0m\u001b[0;34m(\u001b[0m\u001b[0;34m)\u001b[0m\u001b[0;34m\u001b[0m\u001b[0;34m\u001b[0m\u001b[0m\n\u001b[1;32m      5\u001b[0m \u001b[0;31m#.head() para mostrar os 5 primeiros valores, caso deseje ver a lista completa delete-o (utilizado para facilitar vizualização)\u001b[0m\u001b[0;34m\u001b[0m\u001b[0;34m\u001b[0m\u001b[0;34m\u001b[0m\u001b[0m\n",
      "\u001b[0;31mNameError\u001b[0m: name 'dataset' is not defined"
     ]
    }
   ],
   "source": [
    "registration_country = dataset['aeronave_pais_registro'].value_counts()\n",
    "p_registration_country = dataset['aeronave_pais_registro'].value_counts(normalize=True)\n",
    "gf8 = pd.concat([registration_country, p_registration_country], axis=1, keys=['Frequência Absoluta', 'Frequência Relativa %'])\n",
    "gf8.head()\n",
    "#.head() para mostrar os 5 primeiros valores, caso deseje ver a lista completa delete-o (utilizado para facilitar vizualização)"
   ]
  },
  {
   "cell_type": "code",
   "execution_count": 16,
   "metadata": {
    "_uuid": "9d1a10a196d9b211ea138d1a40db926bb293cfca",
    "execution": {
     "iopub.execute_input": "2021-01-07T23:29:01.770638Z",
     "iopub.status.busy": "2021-01-07T23:29:01.769871Z",
     "iopub.status.idle": "2021-01-07T23:29:01.783975Z",
     "shell.execute_reply": "2021-01-07T23:29:01.784520Z"
    },
    "papermill": {
     "duration": 0.061491,
     "end_time": "2021-01-07T23:29:01.784741",
     "exception": false,
     "start_time": "2021-01-07T23:29:01.723250",
     "status": "completed"
    },
    "tags": []
   },
   "outputs": [
    {
     "ename": "NameError",
     "evalue": "name 'dataset' is not defined",
     "output_type": "error",
     "traceback": [
      "\u001b[0;31m---------------------------------------------------------------------------\u001b[0m",
      "\u001b[0;31mNameError\u001b[0m                                 Traceback (most recent call last)",
      "\u001b[0;32m<ipython-input-16-1ffeb7e5d473>\u001b[0m in \u001b[0;36m<module>\u001b[0;34m\u001b[0m\n\u001b[0;32m----> 1\u001b[0;31m \u001b[0mfatalities\u001b[0m \u001b[0;34m=\u001b[0m \u001b[0mdataset\u001b[0m\u001b[0;34m[\u001b[0m\u001b[0;34m'total_fatalidades'\u001b[0m\u001b[0;34m]\u001b[0m\u001b[0;34m.\u001b[0m\u001b[0mvalue_counts\u001b[0m\u001b[0;34m(\u001b[0m\u001b[0;34m)\u001b[0m\u001b[0;34m\u001b[0m\u001b[0;34m\u001b[0m\u001b[0m\n\u001b[0m\u001b[1;32m      2\u001b[0m \u001b[0mp_fatalities\u001b[0m \u001b[0;34m=\u001b[0m \u001b[0mdataset\u001b[0m\u001b[0;34m[\u001b[0m\u001b[0;34m'total_fatalidades'\u001b[0m\u001b[0;34m]\u001b[0m\u001b[0;34m.\u001b[0m\u001b[0mvalue_counts\u001b[0m\u001b[0;34m(\u001b[0m\u001b[0mnormalize\u001b[0m\u001b[0;34m=\u001b[0m\u001b[0;32mTrue\u001b[0m\u001b[0;34m)\u001b[0m\u001b[0;34m\u001b[0m\u001b[0;34m\u001b[0m\u001b[0m\n\u001b[1;32m      3\u001b[0m \u001b[0mgf9\u001b[0m \u001b[0;34m=\u001b[0m \u001b[0mpd\u001b[0m\u001b[0;34m.\u001b[0m\u001b[0mconcat\u001b[0m\u001b[0;34m(\u001b[0m\u001b[0;34m[\u001b[0m\u001b[0mfatalities\u001b[0m\u001b[0;34m,\u001b[0m \u001b[0mp_fatalities\u001b[0m\u001b[0;34m]\u001b[0m\u001b[0;34m,\u001b[0m \u001b[0maxis\u001b[0m\u001b[0;34m=\u001b[0m\u001b[0;36m1\u001b[0m\u001b[0;34m,\u001b[0m \u001b[0mkeys\u001b[0m\u001b[0;34m=\u001b[0m\u001b[0;34m[\u001b[0m\u001b[0;34m'Frequência Absoluta'\u001b[0m\u001b[0;34m,\u001b[0m \u001b[0;34m'Frequência Relativa %'\u001b[0m\u001b[0;34m]\u001b[0m\u001b[0;34m)\u001b[0m\u001b[0;34m\u001b[0m\u001b[0;34m\u001b[0m\u001b[0m\n\u001b[1;32m      4\u001b[0m \u001b[0mgf9\u001b[0m\u001b[0;34m\u001b[0m\u001b[0;34m\u001b[0m\u001b[0m\n",
      "\u001b[0;31mNameError\u001b[0m: name 'dataset' is not defined"
     ]
    }
   ],
   "source": [
    "fatalities = dataset['total_fatalidades'].value_counts()\n",
    "p_fatalities = dataset['total_fatalidades'].value_counts(normalize=True)\n",
    "gf9 = pd.concat([fatalities, p_fatalities], axis=1, keys=['Frequência Absoluta', 'Frequência Relativa %'])\n",
    "gf9"
   ]
  },
  {
   "cell_type": "markdown",
   "metadata": {
    "_uuid": "a5f5e8cdae432873ed7f4047fdef8c50c0d40523",
    "papermill": {
     "duration": 0.044938,
     "end_time": "2021-01-07T23:29:01.873496",
     "exception": false,
     "start_time": "2021-01-07T23:29:01.828558",
     "status": "completed"
    },
    "tags": []
   },
   "source": [
    "***"
   ]
  },
  {
   "cell_type": "markdown",
   "metadata": {
    "_uuid": "1b5d24977c7029ad6fe52b92be0716f43f1884ed",
    "papermill": {
     "duration": 0.04533,
     "end_time": "2021-01-07T23:29:01.964655",
     "exception": false,
     "start_time": "2021-01-07T23:29:01.919325",
     "status": "completed"
    },
    "tags": []
   },
   "source": [
    "#### Questão 1 - Item C - Representação Gráfica"
   ]
  },
  {
   "cell_type": "code",
   "execution_count": 17,
   "metadata": {
    "_uuid": "043bf14142644a76e1ad991d62846331465894a7",
    "execution": {
     "iopub.execute_input": "2021-01-07T23:29:02.056142Z",
     "iopub.status.busy": "2021-01-07T23:29:02.055507Z",
     "iopub.status.idle": "2021-01-07T23:29:02.074977Z",
     "shell.execute_reply": "2021-01-07T23:29:02.075617Z"
    },
    "papermill": {
     "duration": 0.066227,
     "end_time": "2021-01-07T23:29:02.075765",
     "exception": false,
     "start_time": "2021-01-07T23:29:02.009538",
     "status": "completed"
    },
    "tags": []
   },
   "outputs": [
    {
     "ename": "NameError",
     "evalue": "name 'manufacturer' is not defined",
     "output_type": "error",
     "traceback": [
      "\u001b[0;31m---------------------------------------------------------------------------\u001b[0m",
      "\u001b[0;31mNameError\u001b[0m                                 Traceback (most recent call last)",
      "\u001b[0;32m<ipython-input-17-cd8ade8053bc>\u001b[0m in \u001b[0;36m<module>\u001b[0;34m\u001b[0m\n\u001b[0;32m----> 1\u001b[0;31m \u001b[0max\u001b[0m \u001b[0;34m=\u001b[0m \u001b[0mmanufacturer\u001b[0m\u001b[0;34m.\u001b[0m\u001b[0mplot\u001b[0m\u001b[0;34m(\u001b[0m\u001b[0mkind\u001b[0m\u001b[0;34m=\u001b[0m\u001b[0;34m'barh'\u001b[0m\u001b[0;34m,\u001b[0m \u001b[0mfigsize\u001b[0m\u001b[0;34m=\u001b[0m\u001b[0;34m(\u001b[0m\u001b[0;36m10\u001b[0m\u001b[0;34m,\u001b[0m\u001b[0;36m200\u001b[0m\u001b[0;34m)\u001b[0m\u001b[0;34m,\u001b[0m\u001b[0mcolor\u001b[0m\u001b[0;34m=\u001b[0m\u001b[0;34m\"coral\"\u001b[0m\u001b[0;34m,\u001b[0m \u001b[0mfontsize\u001b[0m\u001b[0;34m=\u001b[0m\u001b[0;36m13\u001b[0m\u001b[0;34m)\u001b[0m\u001b[0;34m;\u001b[0m\u001b[0;34m\u001b[0m\u001b[0;34m\u001b[0m\u001b[0m\n\u001b[0m\u001b[1;32m      2\u001b[0m \u001b[0;34m\u001b[0m\u001b[0m\n\u001b[1;32m      3\u001b[0m \u001b[0max\u001b[0m\u001b[0;34m.\u001b[0m\u001b[0mset_alpha\u001b[0m\u001b[0;34m(\u001b[0m\u001b[0;36m0.8\u001b[0m\u001b[0;34m)\u001b[0m\u001b[0;34m\u001b[0m\u001b[0;34m\u001b[0m\u001b[0m\n\u001b[1;32m      4\u001b[0m \u001b[0max\u001b[0m\u001b[0;34m.\u001b[0m\u001b[0mset_title\u001b[0m\u001b[0;34m(\u001b[0m\u001b[0;34m\"Porcentagem de cada empresa em relação a quantidade de aeronaves no arquivo de estudo\"\u001b[0m\u001b[0;34m,\u001b[0m \u001b[0mfontsize\u001b[0m\u001b[0;34m=\u001b[0m\u001b[0;36m16\u001b[0m\u001b[0;34m)\u001b[0m\u001b[0;34m\u001b[0m\u001b[0;34m\u001b[0m\u001b[0m\n\u001b[1;32m      5\u001b[0m \u001b[0max\u001b[0m\u001b[0;34m.\u001b[0m\u001b[0mset_xlabel\u001b[0m\u001b[0;34m(\u001b[0m\u001b[0;34m\"Quantidade de Aeronaves por Empresas\"\u001b[0m\u001b[0;34m,\u001b[0m \u001b[0mfontsize\u001b[0m\u001b[0;34m=\u001b[0m\u001b[0;36m12\u001b[0m\u001b[0;34m)\u001b[0m\u001b[0;34m;\u001b[0m\u001b[0;34m\u001b[0m\u001b[0;34m\u001b[0m\u001b[0m\n",
      "\u001b[0;31mNameError\u001b[0m: name 'manufacturer' is not defined"
     ]
    }
   ],
   "source": [
    "ax = manufacturer.plot(kind='barh', figsize=(10,200),color=\"coral\", fontsize=13);\n",
    "\n",
    "ax.set_alpha(0.8)\n",
    "ax.set_title(\"Porcentagem de cada empresa em relação a quantidade de aeronaves no arquivo de estudo\", fontsize=16)\n",
    "ax.set_xlabel(\"Quantidade de Aeronaves por Empresas\", fontsize=12);\n",
    "ax.set_xticks([0, 100, 200, 300, 400, 500, 600, 700, 800])\n",
    "\n",
    "totals = []# cria uma lista para coletar os dados de plt.patches\n",
    "\n",
    "for i in ax.patches:# encontrar os valores e acrescentar à lista\n",
    "    totals.append(i.get_width())\n",
    "\n",
    "total = sum(totals)# definir barras individuais usando a lista acima\n",
    "\n",
    "for i in ax.patches:# get_width puxa para a esquerda ou para a direita; get_y empurra para cima ou para baixo\n",
    "    ax.text(i.get_width()+.3, i.get_y()+.38, \\\n",
    "            str(round((i.get_width()/total)*100, 2))+'%', fontsize=13,\n",
    "color='dimgrey')\n",
    "\n",
    "ax.invert_yaxis()# invertido para maior no topo"
   ]
  },
  {
   "cell_type": "code",
   "execution_count": 18,
   "metadata": {
    "_uuid": "b75d0fc608a77fc6046d93ed4687eb27136ef395",
    "execution": {
     "iopub.execute_input": "2021-01-07T23:29:02.167703Z",
     "iopub.status.busy": "2021-01-07T23:29:02.166982Z",
     "iopub.status.idle": "2021-01-07T23:29:02.186193Z",
     "shell.execute_reply": "2021-01-07T23:29:02.186844Z"
    },
    "papermill": {
     "duration": 0.066669,
     "end_time": "2021-01-07T23:29:02.186984",
     "exception": false,
     "start_time": "2021-01-07T23:29:02.120315",
     "status": "completed"
    },
    "tags": []
   },
   "outputs": [
    {
     "ename": "NameError",
     "evalue": "name 'registration' is not defined",
     "output_type": "error",
     "traceback": [
      "\u001b[0;31m---------------------------------------------------------------------------\u001b[0m",
      "\u001b[0;31mNameError\u001b[0m                                 Traceback (most recent call last)",
      "\u001b[0;32m<ipython-input-18-af5ec2008f1e>\u001b[0m in \u001b[0;36m<module>\u001b[0;34m\u001b[0m\n\u001b[0;32m----> 1\u001b[0;31m \u001b[0max\u001b[0m \u001b[0;34m=\u001b[0m \u001b[0mregistration\u001b[0m \u001b[0;34m.\u001b[0m\u001b[0mplot\u001b[0m\u001b[0;34m(\u001b[0m\u001b[0mkind\u001b[0m\u001b[0;34m=\u001b[0m\u001b[0;34m'barh'\u001b[0m\u001b[0;34m,\u001b[0m \u001b[0mfigsize\u001b[0m\u001b[0;34m=\u001b[0m\u001b[0;34m(\u001b[0m\u001b[0;36m10\u001b[0m\u001b[0;34m,\u001b[0m\u001b[0;36m900\u001b[0m\u001b[0;34m)\u001b[0m\u001b[0;34m,\u001b[0m\u001b[0mcolor\u001b[0m\u001b[0;34m=\u001b[0m\u001b[0;34m\"coral\"\u001b[0m\u001b[0;34m,\u001b[0m \u001b[0mfontsize\u001b[0m\u001b[0;34m=\u001b[0m\u001b[0;36m13\u001b[0m\u001b[0;34m)\u001b[0m\u001b[0;34m;\u001b[0m\u001b[0;34m\u001b[0m\u001b[0;34m\u001b[0m\u001b[0m\n\u001b[0m\u001b[1;32m      2\u001b[0m \u001b[0;34m\u001b[0m\u001b[0m\n\u001b[1;32m      3\u001b[0m \u001b[0max\u001b[0m\u001b[0;34m.\u001b[0m\u001b[0mset_alpha\u001b[0m\u001b[0;34m(\u001b[0m\u001b[0;36m0.8\u001b[0m\u001b[0;34m)\u001b[0m\u001b[0;34m\u001b[0m\u001b[0;34m\u001b[0m\u001b[0m\n\u001b[1;32m      4\u001b[0m \u001b[0max\u001b[0m\u001b[0;34m.\u001b[0m\u001b[0mset_title\u001b[0m\u001b[0;34m(\u001b[0m\u001b[0;34m\"Porcentagem de combinação de Marcas atribuidas por matrícula das Aeronaves\"\u001b[0m\u001b[0;34m,\u001b[0m \u001b[0mfontsize\u001b[0m\u001b[0;34m=\u001b[0m\u001b[0;36m16\u001b[0m\u001b[0;34m)\u001b[0m\u001b[0;34m\u001b[0m\u001b[0;34m\u001b[0m\u001b[0m\n\u001b[1;32m      5\u001b[0m \u001b[0max\u001b[0m\u001b[0;34m.\u001b[0m\u001b[0mset_xlabel\u001b[0m\u001b[0;34m(\u001b[0m\u001b[0;34m\"Número de Aeronaves\"\u001b[0m\u001b[0;34m,\u001b[0m \u001b[0mfontsize\u001b[0m\u001b[0;34m=\u001b[0m\u001b[0;36m12\u001b[0m\u001b[0;34m)\u001b[0m\u001b[0;34m;\u001b[0m\u001b[0;34m\u001b[0m\u001b[0;34m\u001b[0m\u001b[0m\n",
      "\u001b[0;31mNameError\u001b[0m: name 'registration' is not defined"
     ]
    }
   ],
   "source": [
    "ax = registration .plot(kind='barh', figsize=(10,900),color=\"coral\", fontsize=13);\n",
    "\n",
    "ax.set_alpha(0.8)\n",
    "ax.set_title(\"Porcentagem de combinação de Marcas atribuidas por matrícula das Aeronaves\", fontsize=16)\n",
    "ax.set_xlabel(\"Número de Aeronaves\", fontsize=12);\n",
    "ax.set_xticks([0, 1, 2, 3, 4, 5, 6, 7, 8, 9, 10 ,11, 12])\n",
    "\n",
    "totals = []# cria uma lista para coletar os dados de plt.patches\n",
    "\n",
    "for i in ax.patches:# encontrar os valores e acrescentar à lista\n",
    "    totals.append(i.get_width())\n",
    "\n",
    "total = sum(totals)# definir barras individuais usando a lista acima\n",
    "\n",
    "for i in ax.patches:# get_width puxa para a esquerda ou para a direita; get_y empurra para cima ou para baixo\n",
    "    ax.text(i.get_width()+.3, i.get_y()+.38, \\\n",
    "            str(round((i.get_width()/total)*100, 2))+'%', fontsize=13,\n",
    "color='dimgrey')\n",
    "\n",
    "ax.invert_yaxis()# invertido para maior no topo"
   ]
  },
  {
   "cell_type": "code",
   "execution_count": 19,
   "metadata": {
    "_uuid": "85a50eb6d12a4baa04e54a2029e9c8ddb9e80316",
    "execution": {
     "iopub.execute_input": "2021-01-07T23:29:02.296320Z",
     "iopub.status.busy": "2021-01-07T23:29:02.291006Z",
     "iopub.status.idle": "2021-01-07T23:29:02.300370Z",
     "shell.execute_reply": "2021-01-07T23:29:02.300940Z"
    },
    "papermill": {
     "duration": 0.069201,
     "end_time": "2021-01-07T23:29:02.301090",
     "exception": false,
     "start_time": "2021-01-07T23:29:02.231889",
     "status": "completed"
    },
    "tags": []
   },
   "outputs": [
    {
     "ename": "NameError",
     "evalue": "name 'operator_category' is not defined",
     "output_type": "error",
     "traceback": [
      "\u001b[0;31m---------------------------------------------------------------------------\u001b[0m",
      "\u001b[0;31mNameError\u001b[0m                                 Traceback (most recent call last)",
      "\u001b[0;32m<ipython-input-19-95d60d7b897f>\u001b[0m in \u001b[0;36m<module>\u001b[0;34m\u001b[0m\n\u001b[0;32m----> 1\u001b[0;31m \u001b[0max\u001b[0m \u001b[0;34m=\u001b[0m \u001b[0moperator_category\u001b[0m\u001b[0;34m.\u001b[0m\u001b[0mplot\u001b[0m\u001b[0;34m(\u001b[0m\u001b[0mkind\u001b[0m\u001b[0;34m=\u001b[0m\u001b[0;34m'barh'\u001b[0m\u001b[0;34m,\u001b[0m \u001b[0mfigsize\u001b[0m\u001b[0;34m=\u001b[0m\u001b[0;34m(\u001b[0m\u001b[0;36m10\u001b[0m\u001b[0;34m,\u001b[0m\u001b[0;36m7\u001b[0m\u001b[0;34m)\u001b[0m\u001b[0;34m,\u001b[0m\u001b[0mcolor\u001b[0m\u001b[0;34m=\u001b[0m\u001b[0;34m\"coral\"\u001b[0m\u001b[0;34m,\u001b[0m \u001b[0mfontsize\u001b[0m\u001b[0;34m=\u001b[0m\u001b[0;36m13\u001b[0m\u001b[0;34m)\u001b[0m\u001b[0;34m;\u001b[0m\u001b[0;34m\u001b[0m\u001b[0;34m\u001b[0m\u001b[0m\n\u001b[0m\u001b[1;32m      2\u001b[0m \u001b[0;34m\u001b[0m\u001b[0m\n\u001b[1;32m      3\u001b[0m \u001b[0max\u001b[0m\u001b[0;34m.\u001b[0m\u001b[0mset_alpha\u001b[0m\u001b[0;34m(\u001b[0m\u001b[0;36m0.8\u001b[0m\u001b[0;34m)\u001b[0m\u001b[0;34m\u001b[0m\u001b[0;34m\u001b[0m\u001b[0m\n\u001b[1;32m      4\u001b[0m \u001b[0max\u001b[0m\u001b[0;34m.\u001b[0m\u001b[0mset_title\u001b[0m\u001b[0;34m(\u001b[0m\u001b[0;34m\"Categoria de uma aeronave separada por uso\"\u001b[0m\u001b[0;34m,\u001b[0m \u001b[0mfontsize\u001b[0m\u001b[0;34m=\u001b[0m\u001b[0;36m16\u001b[0m\u001b[0;34m)\u001b[0m\u001b[0;34m\u001b[0m\u001b[0;34m\u001b[0m\u001b[0m\n\u001b[1;32m      5\u001b[0m \u001b[0max\u001b[0m\u001b[0;34m.\u001b[0m\u001b[0mset_xlabel\u001b[0m\u001b[0;34m(\u001b[0m\u001b[0;34m\"Quantidade de Aeronaves\"\u001b[0m\u001b[0;34m,\u001b[0m \u001b[0mfontsize\u001b[0m\u001b[0;34m=\u001b[0m\u001b[0;36m12\u001b[0m\u001b[0;34m)\u001b[0m\u001b[0;34m;\u001b[0m\u001b[0;34m\u001b[0m\u001b[0;34m\u001b[0m\u001b[0m\n",
      "\u001b[0;31mNameError\u001b[0m: name 'operator_category' is not defined"
     ]
    }
   ],
   "source": [
    "ax = operator_category.plot(kind='barh', figsize=(10,7),color=\"coral\", fontsize=13);\n",
    "\n",
    "ax.set_alpha(0.8)\n",
    "ax.set_title(\"Categoria de uma aeronave separada por uso\", fontsize=16)\n",
    "ax.set_xlabel(\"Quantidade de Aeronaves\", fontsize=12);\n",
    "ax.set_xticks([0, 500, 1000, 1500, 2000, 2500])\n",
    "\n",
    "totals = []# cria uma lista para coletar os dados de plt.patches\n",
    "\n",
    "for i in ax.patches:# encontrar os valores e acrescentar à lista\n",
    "    totals.append(i.get_width())\n",
    "\n",
    "total = sum(totals)# definir barras individuais usando a lista acima\n",
    "\n",
    "for i in ax.patches:# get_width puxa para a esquerda ou para a direita; get_y empurra para cima ou para baixo\n",
    "    ax.text(i.get_width()+.3, i.get_y()+.38, \\\n",
    "            str(round((i.get_width()/total)*100, 2))+'%', fontsize=13,\n",
    "color='dimgrey')\n",
    "\n",
    "ax.invert_yaxis()# invertido para maior no topo"
   ]
  },
  {
   "cell_type": "code",
   "execution_count": 20,
   "metadata": {
    "_uuid": "e6982b66b152cf91a35fc90f678967e319711fd8",
    "execution": {
     "iopub.execute_input": "2021-01-07T23:29:02.397363Z",
     "iopub.status.busy": "2021-01-07T23:29:02.396723Z",
     "iopub.status.idle": "2021-01-07T23:29:02.415760Z",
     "shell.execute_reply": "2021-01-07T23:29:02.416409Z"
    },
    "papermill": {
     "duration": 0.069997,
     "end_time": "2021-01-07T23:29:02.416552",
     "exception": false,
     "start_time": "2021-01-07T23:29:02.346555",
     "status": "completed"
    },
    "tags": []
   },
   "outputs": [
    {
     "ename": "NameError",
     "evalue": "name 'vehicle' is not defined",
     "output_type": "error",
     "traceback": [
      "\u001b[0;31m---------------------------------------------------------------------------\u001b[0m",
      "\u001b[0;31mNameError\u001b[0m                                 Traceback (most recent call last)",
      "\u001b[0;32m<ipython-input-20-61db524195d5>\u001b[0m in \u001b[0;36m<module>\u001b[0;34m\u001b[0m\n\u001b[0;32m----> 1\u001b[0;31m \u001b[0max\u001b[0m \u001b[0;34m=\u001b[0m \u001b[0mvehicle\u001b[0m\u001b[0;34m.\u001b[0m\u001b[0mplot\u001b[0m\u001b[0;34m(\u001b[0m\u001b[0mkind\u001b[0m\u001b[0;34m=\u001b[0m\u001b[0;34m'barh'\u001b[0m\u001b[0;34m,\u001b[0m \u001b[0mfigsize\u001b[0m\u001b[0;34m=\u001b[0m\u001b[0;34m(\u001b[0m\u001b[0;36m10\u001b[0m\u001b[0;34m,\u001b[0m\u001b[0;36m7\u001b[0m\u001b[0;34m)\u001b[0m\u001b[0;34m,\u001b[0m\u001b[0mcolor\u001b[0m\u001b[0;34m=\u001b[0m\u001b[0;34m\"coral\"\u001b[0m\u001b[0;34m,\u001b[0m \u001b[0mfontsize\u001b[0m\u001b[0;34m=\u001b[0m\u001b[0;36m13\u001b[0m\u001b[0;34m)\u001b[0m\u001b[0;34m;\u001b[0m\u001b[0;34m\u001b[0m\u001b[0;34m\u001b[0m\u001b[0m\n\u001b[0m\u001b[1;32m      2\u001b[0m \u001b[0;34m\u001b[0m\u001b[0m\n\u001b[1;32m      3\u001b[0m \u001b[0max\u001b[0m\u001b[0;34m.\u001b[0m\u001b[0mset_alpha\u001b[0m\u001b[0;34m(\u001b[0m\u001b[0;36m0.8\u001b[0m\u001b[0;34m)\u001b[0m\u001b[0;34m\u001b[0m\u001b[0;34m\u001b[0m\u001b[0m\n\u001b[1;32m      4\u001b[0m \u001b[0max\u001b[0m\u001b[0;34m.\u001b[0m\u001b[0mset_title\u001b[0m\u001b[0;34m(\u001b[0m\u001b[0;34m\"Porcentagem referente a Categoria das Aeronaves\"\u001b[0m\u001b[0;34m,\u001b[0m \u001b[0mfontsize\u001b[0m\u001b[0;34m=\u001b[0m\u001b[0;36m16\u001b[0m\u001b[0;34m)\u001b[0m\u001b[0;34m\u001b[0m\u001b[0;34m\u001b[0m\u001b[0m\n\u001b[1;32m      5\u001b[0m \u001b[0max\u001b[0m\u001b[0;34m.\u001b[0m\u001b[0mset_xlabel\u001b[0m\u001b[0;34m(\u001b[0m\u001b[0;34m\"Numero de Aeronaves\"\u001b[0m\u001b[0;34m,\u001b[0m \u001b[0mfontsize\u001b[0m\u001b[0;34m=\u001b[0m\u001b[0;36m12\u001b[0m\u001b[0;34m)\u001b[0m\u001b[0;34m;\u001b[0m\u001b[0;34m\u001b[0m\u001b[0;34m\u001b[0m\u001b[0m\n",
      "\u001b[0;31mNameError\u001b[0m: name 'vehicle' is not defined"
     ]
    }
   ],
   "source": [
    "ax = vehicle.plot(kind='barh', figsize=(10,7),color=\"coral\", fontsize=13);\n",
    "\n",
    "ax.set_alpha(0.8)\n",
    "ax.set_title(\"Porcentagem referente a Categoria das Aeronaves\", fontsize=16)\n",
    "ax.set_xlabel(\"Numero de Aeronaves\", fontsize=12);\n",
    "ax.set_xticks([0, 500, 1000, 1500, 2000, 2500, 3000, 3500, 4000, 4500])\n",
    "\n",
    "totals = []# cria uma lista para coletar os dados de plt.patches\n",
    "\n",
    "for i in ax.patches:# encontrar os valores e acrescentar à lista\n",
    "    totals.append(i.get_width())\n",
    "\n",
    "total = sum(totals)# definir barras individuais usando a lista acima\n",
    "\n",
    "for i in ax.patches:# get_width puxa para a esquerda ou para a direita; get_y empurra para cima ou para baixo\n",
    "    ax.text(i.get_width()+.3, i.get_y()+.38, \\\n",
    "            str(round((i.get_width()/total)*100, 2))+'%', fontsize=13,\n",
    "color='dimgrey')\n",
    "\n",
    "ax.invert_yaxis()# invertido para maior no topo"
   ]
  },
  {
   "cell_type": "code",
   "execution_count": 21,
   "metadata": {
    "_uuid": "d4af07866f75a87491e7c1bf4bb79bd1a83ef1fa",
    "execution": {
     "iopub.execute_input": "2021-01-07T23:29:02.512598Z",
     "iopub.status.busy": "2021-01-07T23:29:02.511552Z",
     "iopub.status.idle": "2021-01-07T23:29:02.530912Z",
     "shell.execute_reply": "2021-01-07T23:29:02.531512Z"
    },
    "papermill": {
     "duration": 0.069137,
     "end_time": "2021-01-07T23:29:02.531656",
     "exception": false,
     "start_time": "2021-01-07T23:29:02.462519",
     "status": "completed"
    },
    "tags": []
   },
   "outputs": [
    {
     "ename": "NameError",
     "evalue": "name 'model' is not defined",
     "output_type": "error",
     "traceback": [
      "\u001b[0;31m---------------------------------------------------------------------------\u001b[0m",
      "\u001b[0;31mNameError\u001b[0m                                 Traceback (most recent call last)",
      "\u001b[0;32m<ipython-input-21-34945c1e6a4e>\u001b[0m in \u001b[0;36m<module>\u001b[0;34m\u001b[0m\n\u001b[0;32m----> 1\u001b[0;31m \u001b[0max\u001b[0m \u001b[0;34m=\u001b[0m \u001b[0mmodel\u001b[0m\u001b[0;34m.\u001b[0m\u001b[0mplot\u001b[0m\u001b[0;34m(\u001b[0m\u001b[0mkind\u001b[0m\u001b[0;34m=\u001b[0m\u001b[0;34m'barh'\u001b[0m\u001b[0;34m,\u001b[0m \u001b[0mfigsize\u001b[0m\u001b[0;34m=\u001b[0m\u001b[0;34m(\u001b[0m\u001b[0;36m10\u001b[0m\u001b[0;34m,\u001b[0m\u001b[0;36m700\u001b[0m\u001b[0;34m)\u001b[0m\u001b[0;34m,\u001b[0m\u001b[0mcolor\u001b[0m\u001b[0;34m=\u001b[0m\u001b[0;34m\"coral\"\u001b[0m\u001b[0;34m,\u001b[0m \u001b[0mfontsize\u001b[0m\u001b[0;34m=\u001b[0m\u001b[0;36m13\u001b[0m\u001b[0;34m)\u001b[0m\u001b[0;34m;\u001b[0m\u001b[0;34m\u001b[0m\u001b[0;34m\u001b[0m\u001b[0m\n\u001b[0m\u001b[1;32m      2\u001b[0m \u001b[0;34m\u001b[0m\u001b[0m\n\u001b[1;32m      3\u001b[0m \u001b[0max\u001b[0m\u001b[0;34m.\u001b[0m\u001b[0mset_alpha\u001b[0m\u001b[0;34m(\u001b[0m\u001b[0;36m0.8\u001b[0m\u001b[0;34m)\u001b[0m\u001b[0;34m\u001b[0m\u001b[0;34m\u001b[0m\u001b[0m\n\u001b[1;32m      4\u001b[0m \u001b[0max\u001b[0m\u001b[0;34m.\u001b[0m\u001b[0mset_title\u001b[0m\u001b[0;34m(\u001b[0m\u001b[0;34m\"Porcentagem de modelos diferenes para a mesma categoria\"\u001b[0m\u001b[0;34m,\u001b[0m \u001b[0mfontsize\u001b[0m\u001b[0;34m=\u001b[0m\u001b[0;36m16\u001b[0m\u001b[0;34m)\u001b[0m\u001b[0;34m\u001b[0m\u001b[0;34m\u001b[0m\u001b[0m\n\u001b[1;32m      5\u001b[0m \u001b[0max\u001b[0m\u001b[0;34m.\u001b[0m\u001b[0mset_xlabel\u001b[0m\u001b[0;34m(\u001b[0m\u001b[0;34m\"Quantidade\"\u001b[0m\u001b[0;34m,\u001b[0m \u001b[0mfontsize\u001b[0m\u001b[0;34m=\u001b[0m\u001b[0;36m12\u001b[0m\u001b[0;34m)\u001b[0m\u001b[0;34m;\u001b[0m\u001b[0;34m\u001b[0m\u001b[0;34m\u001b[0m\u001b[0m\n",
      "\u001b[0;31mNameError\u001b[0m: name 'model' is not defined"
     ]
    }
   ],
   "source": [
    "ax = model.plot(kind='barh', figsize=(10,700),color=\"coral\", fontsize=13);\n",
    "\n",
    "ax.set_alpha(0.8)\n",
    "ax.set_title(\"Porcentagem de modelos diferenes para a mesma categoria\", fontsize=16)\n",
    "ax.set_xlabel(\"Quantidade\", fontsize=12);\n",
    "ax.set_xticks([0, 50, 100, 150, 200, 250])\n",
    "\n",
    "totals = []# cria uma lista para coletar os dados de plt.patches\n",
    "\n",
    "for i in ax.patches:# encontrar os valores e acrescentar à lista\n",
    "    totals.append(i.get_width())\n",
    "\n",
    "total = sum(totals)# definir barras individuais usando a lista acima\n",
    "\n",
    "for i in ax.patches:# get_width puxa para a esquerda ou para a direita; get_y empurra para cima ou para baixo\n",
    "    ax.text(i.get_width()+.3, i.get_y()+.38, \\\n",
    "            str(round((i.get_width()/total)*100, 2))+'%', fontsize=13,\n",
    "color='dimgrey')\n",
    "\n",
    "ax.invert_yaxis()# invertido para maior no topo"
   ]
  },
  {
   "cell_type": "code",
   "execution_count": 22,
   "metadata": {
    "_uuid": "f7120510df66ca8f846181d598e94762254932cd",
    "execution": {
     "iopub.execute_input": "2021-01-07T23:29:02.629611Z",
     "iopub.status.busy": "2021-01-07T23:29:02.628617Z",
     "iopub.status.idle": "2021-01-07T23:29:02.647890Z",
     "shell.execute_reply": "2021-01-07T23:29:02.648415Z"
    },
    "papermill": {
     "duration": 0.069447,
     "end_time": "2021-01-07T23:29:02.648560",
     "exception": false,
     "start_time": "2021-01-07T23:29:02.579113",
     "status": "completed"
    },
    "tags": []
   },
   "outputs": [
    {
     "ename": "NameError",
     "evalue": "name 'engine_type' is not defined",
     "output_type": "error",
     "traceback": [
      "\u001b[0;31m---------------------------------------------------------------------------\u001b[0m",
      "\u001b[0;31mNameError\u001b[0m                                 Traceback (most recent call last)",
      "\u001b[0;32m<ipython-input-22-4e9f8179d5b4>\u001b[0m in \u001b[0;36m<module>\u001b[0;34m\u001b[0m\n\u001b[0;32m----> 1\u001b[0;31m \u001b[0max\u001b[0m \u001b[0;34m=\u001b[0m \u001b[0mengine_type\u001b[0m\u001b[0;34m.\u001b[0m\u001b[0mplot\u001b[0m\u001b[0;34m(\u001b[0m\u001b[0mkind\u001b[0m\u001b[0;34m=\u001b[0m\u001b[0;34m'barh'\u001b[0m\u001b[0;34m,\u001b[0m \u001b[0mfigsize\u001b[0m\u001b[0;34m=\u001b[0m\u001b[0;34m(\u001b[0m\u001b[0;36m10\u001b[0m\u001b[0;34m,\u001b[0m\u001b[0;36m7\u001b[0m\u001b[0;34m)\u001b[0m\u001b[0;34m,\u001b[0m\u001b[0mcolor\u001b[0m\u001b[0;34m=\u001b[0m\u001b[0;34m\"coral\"\u001b[0m\u001b[0;34m,\u001b[0m \u001b[0mfontsize\u001b[0m\u001b[0;34m=\u001b[0m\u001b[0;36m13\u001b[0m\u001b[0;34m)\u001b[0m\u001b[0;34m;\u001b[0m\u001b[0;34m\u001b[0m\u001b[0;34m\u001b[0m\u001b[0m\n\u001b[0m\u001b[1;32m      2\u001b[0m \u001b[0;34m\u001b[0m\u001b[0m\n\u001b[1;32m      3\u001b[0m \u001b[0max\u001b[0m\u001b[0;34m.\u001b[0m\u001b[0mset_alpha\u001b[0m\u001b[0;34m(\u001b[0m\u001b[0;36m0.8\u001b[0m\u001b[0;34m)\u001b[0m\u001b[0;34m\u001b[0m\u001b[0;34m\u001b[0m\u001b[0m\n\u001b[1;32m      4\u001b[0m \u001b[0max\u001b[0m\u001b[0;34m.\u001b[0m\u001b[0mset_title\u001b[0m\u001b[0;34m(\u001b[0m\u001b[0;34m\"Porcentagem de Aeronaves por tipo de motor\"\u001b[0m\u001b[0;34m,\u001b[0m \u001b[0mfontsize\u001b[0m\u001b[0;34m=\u001b[0m\u001b[0;36m16\u001b[0m\u001b[0;34m)\u001b[0m\u001b[0;34m\u001b[0m\u001b[0;34m\u001b[0m\u001b[0m\n\u001b[1;32m      5\u001b[0m \u001b[0max\u001b[0m\u001b[0;34m.\u001b[0m\u001b[0mset_xlabel\u001b[0m\u001b[0;34m(\u001b[0m\u001b[0;34m\"Quantidade de Aeronaves\"\u001b[0m\u001b[0;34m,\u001b[0m \u001b[0mfontsize\u001b[0m\u001b[0;34m=\u001b[0m\u001b[0;36m12\u001b[0m\u001b[0;34m)\u001b[0m\u001b[0;34m;\u001b[0m\u001b[0;34m\u001b[0m\u001b[0;34m\u001b[0m\u001b[0m\n",
      "\u001b[0;31mNameError\u001b[0m: name 'engine_type' is not defined"
     ]
    }
   ],
   "source": [
    "ax = engine_type.plot(kind='barh', figsize=(10,7),color=\"coral\", fontsize=13);\n",
    "\n",
    "ax.set_alpha(0.8)\n",
    "ax.set_title(\"Porcentagem de Aeronaves por tipo de motor\", fontsize=16)\n",
    "ax.set_xlabel(\"Quantidade de Aeronaves\", fontsize=12);\n",
    "ax.set_xticks([0, 500, 1000, 1500, 2000, 2500, 3000, 3500])\n",
    "\n",
    "totals = []# cria uma lista para coletar os dados de plt.patches\n",
    "\n",
    "for i in ax.patches:# encontrar os valores e acrescentar à lista\n",
    "    totals.append(i.get_width())\n",
    "\n",
    "total = sum(totals)# definir barras individuais usando a lista acima\n",
    "\n",
    "for i in ax.patches:# get_width puxa para a esquerda ou para a direita; get_y empurra para cima ou para baixo\n",
    "    ax.text(i.get_width()+.3, i.get_y()+.38, \\\n",
    "            str(round((i.get_width()/total)*100, 2))+'%', fontsize=13,\n",
    "color='dimgrey')\n",
    "\n",
    "ax.invert_yaxis()# invertido para maior no topo"
   ]
  },
  {
   "cell_type": "code",
   "execution_count": 23,
   "metadata": {
    "_uuid": "5a7a794a0e0dcf1072cda6bbb2a58373f2ca76fe",
    "execution": {
     "iopub.execute_input": "2021-01-07T23:29:02.747335Z",
     "iopub.status.busy": "2021-01-07T23:29:02.746338Z",
     "iopub.status.idle": "2021-01-07T23:29:02.765924Z",
     "shell.execute_reply": "2021-01-07T23:29:02.766471Z"
    },
    "papermill": {
     "duration": 0.070848,
     "end_time": "2021-01-07T23:29:02.766617",
     "exception": false,
     "start_time": "2021-01-07T23:29:02.695769",
     "status": "completed"
    },
    "tags": []
   },
   "outputs": [
    {
     "ename": "NameError",
     "evalue": "name 'engine_quantity' is not defined",
     "output_type": "error",
     "traceback": [
      "\u001b[0;31m---------------------------------------------------------------------------\u001b[0m",
      "\u001b[0;31mNameError\u001b[0m                                 Traceback (most recent call last)",
      "\u001b[0;32m<ipython-input-23-bb82a40b7fd0>\u001b[0m in \u001b[0;36m<module>\u001b[0;34m\u001b[0m\n\u001b[0;32m----> 1\u001b[0;31m \u001b[0max\u001b[0m \u001b[0;34m=\u001b[0m \u001b[0mengine_quantity\u001b[0m\u001b[0;34m.\u001b[0m\u001b[0mplot\u001b[0m\u001b[0;34m(\u001b[0m\u001b[0mkind\u001b[0m\u001b[0;34m=\u001b[0m\u001b[0;34m'barh'\u001b[0m\u001b[0;34m,\u001b[0m \u001b[0mfigsize\u001b[0m\u001b[0;34m=\u001b[0m\u001b[0;34m(\u001b[0m\u001b[0;36m10\u001b[0m\u001b[0;34m,\u001b[0m\u001b[0;36m7\u001b[0m\u001b[0;34m)\u001b[0m\u001b[0;34m,\u001b[0m\u001b[0mcolor\u001b[0m\u001b[0;34m=\u001b[0m\u001b[0;34m\"coral\"\u001b[0m\u001b[0;34m,\u001b[0m \u001b[0mfontsize\u001b[0m\u001b[0;34m=\u001b[0m\u001b[0;36m13\u001b[0m\u001b[0;34m)\u001b[0m\u001b[0;34m;\u001b[0m\u001b[0;34m\u001b[0m\u001b[0;34m\u001b[0m\u001b[0m\n\u001b[0m\u001b[1;32m      2\u001b[0m \u001b[0;34m\u001b[0m\u001b[0m\n\u001b[1;32m      3\u001b[0m \u001b[0max\u001b[0m\u001b[0;34m.\u001b[0m\u001b[0mset_alpha\u001b[0m\u001b[0;34m(\u001b[0m\u001b[0;36m0.8\u001b[0m\u001b[0;34m)\u001b[0m\u001b[0;34m\u001b[0m\u001b[0;34m\u001b[0m\u001b[0m\n\u001b[1;32m      4\u001b[0m \u001b[0max\u001b[0m\u001b[0;34m.\u001b[0m\u001b[0mset_title\u001b[0m\u001b[0;34m(\u001b[0m\u001b[0;34m\"Modelo de motor por Aeronave\"\u001b[0m\u001b[0;34m,\u001b[0m \u001b[0mfontsize\u001b[0m\u001b[0;34m=\u001b[0m\u001b[0;36m16\u001b[0m\u001b[0;34m)\u001b[0m\u001b[0;34m\u001b[0m\u001b[0;34m\u001b[0m\u001b[0m\n\u001b[1;32m      5\u001b[0m \u001b[0max\u001b[0m\u001b[0;34m.\u001b[0m\u001b[0mset_xlabel\u001b[0m\u001b[0;34m(\u001b[0m\u001b[0;34m\"Quantidade\"\u001b[0m\u001b[0;34m,\u001b[0m \u001b[0mfontsize\u001b[0m\u001b[0;34m=\u001b[0m\u001b[0;36m12\u001b[0m\u001b[0;34m)\u001b[0m\u001b[0;34m;\u001b[0m\u001b[0;34m\u001b[0m\u001b[0;34m\u001b[0m\u001b[0m\n",
      "\u001b[0;31mNameError\u001b[0m: name 'engine_quantity' is not defined"
     ]
    }
   ],
   "source": [
    "ax = engine_quantity.plot(kind='barh', figsize=(10,7),color=\"coral\", fontsize=13);\n",
    "\n",
    "ax.set_alpha(0.8)\n",
    "ax.set_title(\"Modelo de motor por Aeronave\", fontsize=16)\n",
    "ax.set_xlabel(\"Quantidade\", fontsize=12);\n",
    "ax.set_xticks([0, 500, 1000, 1500, 2000, 2500, 3000])\n",
    "\n",
    "totals = []# cria uma lista para coletar os dados de plt.patches\n",
    "\n",
    "for i in ax.patches:# encontrar os valores e acrescentar à lista\n",
    "    totals.append(i.get_width())\n",
    "\n",
    "total = sum(totals)# definir barras individuais usando a lista acima\n",
    "\n",
    "for i in ax.patches:# get_width puxa para a esquerda ou para a direita; get_y empurra para cima ou para baixo\n",
    "    ax.text(i.get_width()+.3, i.get_y()+.38, \\\n",
    "            str(round((i.get_width()/total)*100, 2))+'%', fontsize=13,\n",
    "color='dimgrey')\n",
    "\n",
    "ax.invert_yaxis()# invertido para maior no topo"
   ]
  },
  {
   "cell_type": "code",
   "execution_count": 24,
   "metadata": {
    "_uuid": "fe1ed051c9545c3a6b3ac6efb5aef8d580936db2",
    "execution": {
     "iopub.execute_input": "2021-01-07T23:29:02.866245Z",
     "iopub.status.busy": "2021-01-07T23:29:02.865578Z",
     "iopub.status.idle": "2021-01-07T23:29:02.884842Z",
     "shell.execute_reply": "2021-01-07T23:29:02.885450Z"
    },
    "papermill": {
     "duration": 0.070871,
     "end_time": "2021-01-07T23:29:02.885616",
     "exception": false,
     "start_time": "2021-01-07T23:29:02.814745",
     "status": "completed"
    },
    "tags": []
   },
   "outputs": [
    {
     "ename": "NameError",
     "evalue": "name 'registration_country' is not defined",
     "output_type": "error",
     "traceback": [
      "\u001b[0;31m---------------------------------------------------------------------------\u001b[0m",
      "\u001b[0;31mNameError\u001b[0m                                 Traceback (most recent call last)",
      "\u001b[0;32m<ipython-input-24-45caab00ea72>\u001b[0m in \u001b[0;36m<module>\u001b[0;34m\u001b[0m\n\u001b[0;32m----> 1\u001b[0;31m \u001b[0max\u001b[0m \u001b[0;34m=\u001b[0m \u001b[0mregistration_country\u001b[0m\u001b[0;34m.\u001b[0m\u001b[0mplot\u001b[0m\u001b[0;34m(\u001b[0m\u001b[0mkind\u001b[0m\u001b[0;34m=\u001b[0m\u001b[0;34m'barh'\u001b[0m\u001b[0;34m,\u001b[0m \u001b[0mfigsize\u001b[0m\u001b[0;34m=\u001b[0m\u001b[0;34m(\u001b[0m\u001b[0;36m10\u001b[0m\u001b[0;34m,\u001b[0m\u001b[0;36m20\u001b[0m\u001b[0;34m)\u001b[0m\u001b[0;34m,\u001b[0m\u001b[0mcolor\u001b[0m\u001b[0;34m=\u001b[0m\u001b[0;34m\"coral\"\u001b[0m\u001b[0;34m,\u001b[0m \u001b[0mfontsize\u001b[0m\u001b[0;34m=\u001b[0m\u001b[0;36m13\u001b[0m\u001b[0;34m)\u001b[0m\u001b[0;34m;\u001b[0m\u001b[0;34m\u001b[0m\u001b[0;34m\u001b[0m\u001b[0m\n\u001b[0m\u001b[1;32m      2\u001b[0m \u001b[0;34m\u001b[0m\u001b[0m\n\u001b[1;32m      3\u001b[0m \u001b[0max\u001b[0m\u001b[0;34m.\u001b[0m\u001b[0mset_alpha\u001b[0m\u001b[0;34m(\u001b[0m\u001b[0;36m0.8\u001b[0m\u001b[0;34m)\u001b[0m\u001b[0;34m\u001b[0m\u001b[0;34m\u001b[0m\u001b[0m\n\u001b[1;32m      4\u001b[0m \u001b[0max\u001b[0m\u001b[0;34m.\u001b[0m\u001b[0mset_title\u001b[0m\u001b[0;34m(\u001b[0m\u001b[0;34m\"Porcentagem de Naves registradas por País\"\u001b[0m\u001b[0;34m,\u001b[0m \u001b[0mfontsize\u001b[0m\u001b[0;34m=\u001b[0m\u001b[0;36m16\u001b[0m\u001b[0;34m)\u001b[0m\u001b[0;34m\u001b[0m\u001b[0;34m\u001b[0m\u001b[0m\n\u001b[1;32m      5\u001b[0m \u001b[0max\u001b[0m\u001b[0;34m.\u001b[0m\u001b[0mset_xlabel\u001b[0m\u001b[0;34m(\u001b[0m\u001b[0;34m\"Quantidade\"\u001b[0m\u001b[0;34m,\u001b[0m \u001b[0mfontsize\u001b[0m\u001b[0;34m=\u001b[0m\u001b[0;36m12\u001b[0m\u001b[0;34m)\u001b[0m\u001b[0;34m;\u001b[0m\u001b[0;34m\u001b[0m\u001b[0;34m\u001b[0m\u001b[0m\n",
      "\u001b[0;31mNameError\u001b[0m: name 'registration_country' is not defined"
     ]
    }
   ],
   "source": [
    "ax = registration_country.plot(kind='barh', figsize=(10,20),color=\"coral\", fontsize=13);\n",
    "\n",
    "ax.set_alpha(0.8)\n",
    "ax.set_title(\"Porcentagem de Naves registradas por País\", fontsize=16)\n",
    "ax.set_xlabel(\"Quantidade\", fontsize=12);\n",
    "ax.set_xticks([0, 500, 1000, 1500, 2000, 2500, 3000, 3500, 4000, 4500, 5000, 5500])\n",
    "\n",
    "totals = []# cria uma lista para coletar os dados de plt.patches\n",
    "\n",
    "for i in ax.patches:# encontrar os valores e acrescentar à lista\n",
    "    totals.append(i.get_width())\n",
    "\n",
    "total = sum(totals)# definir barras individuais usando a lista acima\n",
    "\n",
    "for i in ax.patches:# get_width puxa para a esquerda ou para a direita; get_y empurra para cima ou para baixo\n",
    "    ax.text(i.get_width()+.3, i.get_y()+.38, \\\n",
    "            str(round((i.get_width()/total)*100, 2))+'%', fontsize=13,\n",
    "color='dimgrey')\n",
    "\n",
    "ax.invert_yaxis()# invertido para maior no topo"
   ]
  },
  {
   "cell_type": "code",
   "execution_count": 25,
   "metadata": {
    "_uuid": "29b212c661156b9e1f12308b5c7b8149168b96bd",
    "execution": {
     "iopub.execute_input": "2021-01-07T23:29:03.028199Z",
     "iopub.status.busy": "2021-01-07T23:29:03.025667Z",
     "iopub.status.idle": "2021-01-07T23:29:03.032786Z",
     "shell.execute_reply": "2021-01-07T23:29:03.033816Z"
    },
    "papermill": {
     "duration": 0.092419,
     "end_time": "2021-01-07T23:29:03.033987",
     "exception": false,
     "start_time": "2021-01-07T23:29:02.941568",
     "status": "completed"
    },
    "tags": []
   },
   "outputs": [
    {
     "ename": "NameError",
     "evalue": "name 'fatalities' is not defined",
     "output_type": "error",
     "traceback": [
      "\u001b[0;31m---------------------------------------------------------------------------\u001b[0m",
      "\u001b[0;31mNameError\u001b[0m                                 Traceback (most recent call last)",
      "\u001b[0;32m<ipython-input-25-f7ede29bf4ab>\u001b[0m in \u001b[0;36m<module>\u001b[0;34m\u001b[0m\n\u001b[0;32m----> 1\u001b[0;31m \u001b[0max\u001b[0m \u001b[0;34m=\u001b[0m \u001b[0mfatalities\u001b[0m\u001b[0;34m.\u001b[0m\u001b[0mplot\u001b[0m\u001b[0;34m(\u001b[0m\u001b[0mkind\u001b[0m\u001b[0;34m=\u001b[0m\u001b[0;34m'barh'\u001b[0m\u001b[0;34m,\u001b[0m \u001b[0mfigsize\u001b[0m\u001b[0;34m=\u001b[0m\u001b[0;34m(\u001b[0m\u001b[0;36m10\u001b[0m\u001b[0;34m,\u001b[0m\u001b[0;36m20\u001b[0m\u001b[0;34m)\u001b[0m\u001b[0;34m,\u001b[0m\u001b[0mcolor\u001b[0m\u001b[0;34m=\u001b[0m\u001b[0;34m\"coral\"\u001b[0m\u001b[0;34m,\u001b[0m \u001b[0mfontsize\u001b[0m\u001b[0;34m=\u001b[0m\u001b[0;36m13\u001b[0m\u001b[0;34m)\u001b[0m\u001b[0;34m;\u001b[0m\u001b[0;34m\u001b[0m\u001b[0;34m\u001b[0m\u001b[0m\n\u001b[0m\u001b[1;32m      2\u001b[0m \u001b[0;34m\u001b[0m\u001b[0m\n\u001b[1;32m      3\u001b[0m \u001b[0max\u001b[0m\u001b[0;34m.\u001b[0m\u001b[0mset_alpha\u001b[0m\u001b[0;34m(\u001b[0m\u001b[0;36m0.8\u001b[0m\u001b[0;34m)\u001b[0m\u001b[0;34m\u001b[0m\u001b[0;34m\u001b[0m\u001b[0m\n\u001b[1;32m      4\u001b[0m \u001b[0max\u001b[0m\u001b[0;34m.\u001b[0m\u001b[0mset_title\u001b[0m\u001b[0;34m(\u001b[0m\u001b[0;34m\"Fatalidades\"\u001b[0m\u001b[0;34m,\u001b[0m \u001b[0mfontsize\u001b[0m\u001b[0;34m=\u001b[0m\u001b[0;36m16\u001b[0m\u001b[0;34m)\u001b[0m\u001b[0;34m\u001b[0m\u001b[0;34m\u001b[0m\u001b[0m\n\u001b[1;32m      5\u001b[0m \u001b[0max\u001b[0m\u001b[0;34m.\u001b[0m\u001b[0mset_xlabel\u001b[0m\u001b[0;34m(\u001b[0m\u001b[0;34m\"Quantidade\"\u001b[0m\u001b[0;34m,\u001b[0m \u001b[0mfontsize\u001b[0m\u001b[0;34m=\u001b[0m\u001b[0;36m12\u001b[0m\u001b[0;34m)\u001b[0m\u001b[0;34m;\u001b[0m\u001b[0;34m\u001b[0m\u001b[0;34m\u001b[0m\u001b[0m\n",
      "\u001b[0;31mNameError\u001b[0m: name 'fatalities' is not defined"
     ]
    }
   ],
   "source": [
    "ax = fatalities.plot(kind='barh', figsize=(10,20),color=\"coral\", fontsize=13);\n",
    "\n",
    "ax.set_alpha(0.8)\n",
    "ax.set_title(\"Fatalidades\", fontsize=16)\n",
    "ax.set_xlabel(\"Quantidade\", fontsize=12);\n",
    "ax.set_xticks([0, 500, 1000, 1500, 2000, 2500, 3000, 3500, 4000, 4500, 5000])\n",
    "\n",
    "totals = []# cria uma lista para coletar os dados de plt.patches\n",
    "\n",
    "for i in ax.patches:# encontrar os valores e acrescentar à lista\n",
    "    totals.append(i.get_width())\n",
    "\n",
    "total = sum(totals)# definir barras individuais usando a lista acima\n",
    "\n",
    "for i in ax.patches:# get_width puxa para a esquerda ou para a direita; get_y empurra para cima ou para baixo\n",
    "    ax.text(i.get_width()+.3, i.get_y()+.38, \\\n",
    "            str(round((i.get_width()/total)*100, 2))+'%', fontsize=13,\n",
    "color='dimgrey')\n",
    "\n",
    "ax.invert_yaxis()# invertido para maior no topo"
   ]
  },
  {
   "cell_type": "markdown",
   "metadata": {
    "_uuid": "df54636b747892ff7804aeb2c257b2125cb29cf4",
    "papermill": {
     "duration": 0.049599,
     "end_time": "2021-01-07T23:29:03.144405",
     "exception": false,
     "start_time": "2021-01-07T23:29:03.094806",
     "status": "completed"
    },
    "tags": []
   },
   "source": [
    "***"
   ]
  },
  {
   "cell_type": "code",
   "execution_count": 26,
   "metadata": {
    "_uuid": "6b9a7197ccd49172977f10fec2f6c58262babae0",
    "execution": {
     "iopub.execute_input": "2021-01-07T23:29:03.263337Z",
     "iopub.status.busy": "2021-01-07T23:29:03.262652Z",
     "iopub.status.idle": "2021-01-07T23:29:03.266033Z",
     "shell.execute_reply": "2021-01-07T23:29:03.266606Z"
    },
    "papermill": {
     "duration": 0.072803,
     "end_time": "2021-01-07T23:29:03.266748",
     "exception": false,
     "start_time": "2021-01-07T23:29:03.193945",
     "status": "completed"
    },
    "tags": []
   },
   "outputs": [
    {
     "ename": "NameError",
     "evalue": "name 'dataset' is not defined",
     "output_type": "error",
     "traceback": [
      "\u001b[0;31m---------------------------------------------------------------------------\u001b[0m",
      "\u001b[0;31mNameError\u001b[0m                                 Traceback (most recent call last)",
      "\u001b[0;32m<ipython-input-26-0201584ee194>\u001b[0m in \u001b[0;36m<module>\u001b[0;34m\u001b[0m\n\u001b[0;32m----> 1\u001b[0;31m \u001b[0maf\u001b[0m \u001b[0;34m=\u001b[0m \u001b[0mdataset\u001b[0m\u001b[0;34m[\u001b[0m\u001b[0mdataset\u001b[0m\u001b[0;34m.\u001b[0m\u001b[0maeronave_tipo_veiculo\u001b[0m \u001b[0;34m!=\u001b[0m \u001b[0;34m'INDETERMINADA'\u001b[0m\u001b[0;34m]\u001b[0m\u001b[0;34m.\u001b[0m\u001b[0mgroupby\u001b[0m\u001b[0;34m(\u001b[0m\u001b[0;34m[\u001b[0m\u001b[0;34m'aeronave_tipo_veiculo'\u001b[0m\u001b[0;34m]\u001b[0m\u001b[0;34m)\u001b[0m\u001b[0;34m[\u001b[0m\u001b[0;34m'total_fatalidades'\u001b[0m\u001b[0;34m]\u001b[0m\u001b[0;34m.\u001b[0m\u001b[0msum\u001b[0m\u001b[0;34m(\u001b[0m\u001b[0;34m)\u001b[0m\u001b[0;34m\u001b[0m\u001b[0;34m\u001b[0m\u001b[0m\n\u001b[0m\u001b[1;32m      2\u001b[0m \u001b[0;34m\u001b[0m\u001b[0m\n\u001b[1;32m      3\u001b[0m \u001b[0max\u001b[0m \u001b[0;34m=\u001b[0m \u001b[0maf\u001b[0m\u001b[0;34m.\u001b[0m\u001b[0mplot\u001b[0m\u001b[0;34m(\u001b[0m\u001b[0mkind\u001b[0m\u001b[0;34m=\u001b[0m\u001b[0;34m'bar'\u001b[0m\u001b[0;34m,\u001b[0m\u001b[0mfigsize\u001b[0m\u001b[0;34m=\u001b[0m\u001b[0;34m(\u001b[0m\u001b[0;36m15\u001b[0m\u001b[0;34m,\u001b[0m\u001b[0;36m7\u001b[0m\u001b[0;34m)\u001b[0m\u001b[0;34m,\u001b[0m \u001b[0mcolor\u001b[0m\u001b[0;34m=\u001b[0m\u001b[0;34m[\u001b[0m\u001b[0;34m'dodgerblue'\u001b[0m\u001b[0;34m,\u001b[0m \u001b[0;34m'slategray'\u001b[0m\u001b[0;34m]\u001b[0m\u001b[0;34m,\u001b[0m \u001b[0mfontsize\u001b[0m\u001b[0;34m=\u001b[0m\u001b[0;36m13\u001b[0m\u001b[0;34m)\u001b[0m\u001b[0;34m;\u001b[0m\u001b[0;34m\u001b[0m\u001b[0;34m\u001b[0m\u001b[0m\n\u001b[1;32m      4\u001b[0m \u001b[0;34m\u001b[0m\u001b[0m\n\u001b[1;32m      5\u001b[0m \u001b[0max\u001b[0m\u001b[0;34m.\u001b[0m\u001b[0mset_alpha\u001b[0m\u001b[0;34m(\u001b[0m\u001b[0;36m0.8\u001b[0m\u001b[0;34m)\u001b[0m\u001b[0;34m\u001b[0m\u001b[0;34m\u001b[0m\u001b[0m\n",
      "\u001b[0;31mNameError\u001b[0m: name 'dataset' is not defined"
     ]
    }
   ],
   "source": [
    "af = dataset[dataset.aeronave_tipo_veiculo != 'INDETERMINADA'].groupby(['aeronave_tipo_veiculo'])['total_fatalidades'].sum()\n",
    "\n",
    "ax = af.plot(kind='bar',figsize=(15,7), color=['dodgerblue', 'slategray'], fontsize=13);\n",
    "\n",
    "ax.set_alpha(0.8)\n",
    "ax.set_title(\"Analise da quantidade de acidentes fatais por tipo de aeronave\",\n",
    "fontsize=18)\n",
    "ax.set_ylabel(\"Numero de Vitimas\", fontsize=18);\n",
    "ax.set_yticks([0, 200, 400, 600, 800, 1000])\n",
    "ax.set_xticklabels([\"ANFÍBIO\",\"AVIÃO\",\"BALÃO\",\"DIRIGÍVEL\",\"HELICOPTERO\",\n",
    "                    \"HIDROAVIÃO\",\"PLANADOR\",\"TRIKE\",\"ULTRALEVE\"], rotation=0, fontsize=11)\n",
    "\n",
    "for i in ax.patches:# definir barras individuais usando a lista acima \n",
    "    ax.text(i.get_x()+.04, i.get_height()+130, \\\n",
    "            str(round((i.get_height()), 2)), fontsize=11, color='dimgrey',\n",
    "                rotation=45)\n",
    "\n"
   ]
  },
  {
   "cell_type": "code",
   "execution_count": 27,
   "metadata": {
    "_uuid": "0772a7c25813d1177161116eb74b4ec4b0ef795f",
    "execution": {
     "iopub.execute_input": "2021-01-07T23:29:03.373562Z",
     "iopub.status.busy": "2021-01-07T23:29:03.372493Z",
     "iopub.status.idle": "2021-01-07T23:29:03.391796Z",
     "shell.execute_reply": "2021-01-07T23:29:03.392526Z"
    },
    "papermill": {
     "duration": 0.075355,
     "end_time": "2021-01-07T23:29:03.392677",
     "exception": false,
     "start_time": "2021-01-07T23:29:03.317322",
     "status": "completed"
    },
    "tags": []
   },
   "outputs": [
    {
     "ename": "NameError",
     "evalue": "name 'dataset' is not defined",
     "output_type": "error",
     "traceback": [
      "\u001b[0;31m---------------------------------------------------------------------------\u001b[0m",
      "\u001b[0;31mNameError\u001b[0m                                 Traceback (most recent call last)",
      "\u001b[0;32m<ipython-input-27-fc1b6561fee9>\u001b[0m in \u001b[0;36m<module>\u001b[0;34m\u001b[0m\n\u001b[0;32m----> 1\u001b[0;31m \u001b[0mag\u001b[0m \u001b[0;34m=\u001b[0m \u001b[0mdataset\u001b[0m\u001b[0;34m[\u001b[0m\u001b[0mdataset\u001b[0m\u001b[0;34m.\u001b[0m\u001b[0maeronave_motor_quantidade\u001b[0m \u001b[0;34m!=\u001b[0m \u001b[0;34m'***'\u001b[0m\u001b[0;34m]\u001b[0m\u001b[0;34m.\u001b[0m\u001b[0mgroupby\u001b[0m\u001b[0;34m(\u001b[0m\u001b[0;34m[\u001b[0m\u001b[0;34m'aeronave_motor_quantidade'\u001b[0m\u001b[0;34m]\u001b[0m\u001b[0;34m)\u001b[0m\u001b[0;34m[\u001b[0m\u001b[0;34m'aeronave_motor_quantidade'\u001b[0m\u001b[0;34m]\u001b[0m\u001b[0;34m.\u001b[0m\u001b[0mvalue_counts\u001b[0m\u001b[0;34m(\u001b[0m\u001b[0;34m)\u001b[0m\u001b[0;34m\u001b[0m\u001b[0;34m\u001b[0m\u001b[0m\n\u001b[0m\u001b[1;32m      2\u001b[0m \u001b[0max\u001b[0m \u001b[0;34m=\u001b[0m \u001b[0mag\u001b[0m\u001b[0;34m.\u001b[0m\u001b[0mplot\u001b[0m\u001b[0;34m(\u001b[0m\u001b[0mkind\u001b[0m\u001b[0;34m=\u001b[0m\u001b[0;34m'bar'\u001b[0m\u001b[0;34m,\u001b[0m\u001b[0mfigsize\u001b[0m\u001b[0;34m=\u001b[0m\u001b[0;34m(\u001b[0m\u001b[0;36m15\u001b[0m\u001b[0;34m,\u001b[0m\u001b[0;36m7\u001b[0m\u001b[0;34m)\u001b[0m\u001b[0;34m,\u001b[0m \u001b[0mcolor\u001b[0m\u001b[0;34m=\u001b[0m\u001b[0;34m[\u001b[0m\u001b[0;34m'dodgerblue'\u001b[0m\u001b[0;34m,\u001b[0m \u001b[0;34m'slategray'\u001b[0m\u001b[0;34m]\u001b[0m\u001b[0;34m,\u001b[0m \u001b[0mfontsize\u001b[0m\u001b[0;34m=\u001b[0m\u001b[0;36m13\u001b[0m\u001b[0;34m)\u001b[0m\u001b[0;34m;\u001b[0m\u001b[0;34m\u001b[0m\u001b[0;34m\u001b[0m\u001b[0m\n\u001b[1;32m      3\u001b[0m \u001b[0;34m\u001b[0m\u001b[0m\n\u001b[1;32m      4\u001b[0m \u001b[0max\u001b[0m\u001b[0;34m.\u001b[0m\u001b[0mset_alpha\u001b[0m\u001b[0;34m(\u001b[0m\u001b[0;36m0.8\u001b[0m\u001b[0;34m)\u001b[0m\u001b[0;34m\u001b[0m\u001b[0;34m\u001b[0m\u001b[0m\n\u001b[1;32m      5\u001b[0m ax.set_title(\"Analise para identificar os principais tipos de motores utilizados nas aeronaves\",\n",
      "\u001b[0;31mNameError\u001b[0m: name 'dataset' is not defined"
     ]
    }
   ],
   "source": [
    "ag = dataset[dataset.aeronave_motor_quantidade != '***'].groupby(['aeronave_motor_quantidade'])['aeronave_motor_quantidade'].value_counts()\n",
    "ax = ag.plot(kind='bar',figsize=(15,7), color=['dodgerblue', 'slategray'], fontsize=13);\n",
    "\n",
    "ax.set_alpha(0.8)\n",
    "ax.set_title(\"Analise para identificar os principais tipos de motores utilizados nas aeronaves\",\n",
    "fontsize=18)\n",
    "ax.set_ylabel(\"Quantidade\", fontsize=18);\n",
    "ax.set_yticks([0, 500, 1000, 1500, 2000, 2500, 3000])\n",
    "ax.set_xticklabels([\"BIMOTOR\",\"MONOMOTOR\",\"QUADRIMOTOR\",\"SEM TRAÇÃO\",\"TRIMOTOR\"], rotation=0, fontsize=11)\n",
    "\n",
    "for i in ax.patches:# definir barras individuais usando a lista acima \n",
    "    ax.text(i.get_x()+.04, i.get_height()+130, \\\n",
    "            str(round((i.get_height()), 2)), fontsize=11, color='dimgrey',\n",
    "                rotation=45)"
   ]
  },
  {
   "cell_type": "code",
   "execution_count": 28,
   "metadata": {
    "_uuid": "e168911abed61d2bd676c1429e42202cac19badc",
    "execution": {
     "iopub.execute_input": "2021-01-07T23:29:03.497398Z",
     "iopub.status.busy": "2021-01-07T23:29:03.496715Z",
     "iopub.status.idle": "2021-01-07T23:29:03.515923Z",
     "shell.execute_reply": "2021-01-07T23:29:03.516510Z"
    },
    "papermill": {
     "duration": 0.073388,
     "end_time": "2021-01-07T23:29:03.516665",
     "exception": false,
     "start_time": "2021-01-07T23:29:03.443277",
     "status": "completed"
    },
    "tags": []
   },
   "outputs": [
    {
     "ename": "NameError",
     "evalue": "name 'dataset' is not defined",
     "output_type": "error",
     "traceback": [
      "\u001b[0;31m---------------------------------------------------------------------------\u001b[0m",
      "\u001b[0;31mNameError\u001b[0m                                 Traceback (most recent call last)",
      "\u001b[0;32m<ipython-input-28-bc56d4b924cb>\u001b[0m in \u001b[0;36m<module>\u001b[0;34m\u001b[0m\n\u001b[0;32m----> 1\u001b[0;31m \u001b[0mar\u001b[0m \u001b[0;34m=\u001b[0m \u001b[0mdataset\u001b[0m\u001b[0;34m[\u001b[0m\u001b[0mdataset\u001b[0m\u001b[0;34m.\u001b[0m\u001b[0maeronave_motor_tipo\u001b[0m \u001b[0;34m!=\u001b[0m \u001b[0;34m'***'\u001b[0m\u001b[0;34m]\u001b[0m\u001b[0;34m.\u001b[0m\u001b[0mgroupby\u001b[0m\u001b[0;34m(\u001b[0m\u001b[0;34m[\u001b[0m\u001b[0;34m'aeronave_motor_tipo'\u001b[0m\u001b[0;34m]\u001b[0m\u001b[0;34m)\u001b[0m\u001b[0;34m[\u001b[0m\u001b[0;34m'aeronave_motor_tipo'\u001b[0m\u001b[0;34m]\u001b[0m\u001b[0;34m.\u001b[0m\u001b[0mvalue_counts\u001b[0m\u001b[0;34m(\u001b[0m\u001b[0;34m)\u001b[0m\u001b[0;34m\u001b[0m\u001b[0;34m\u001b[0m\u001b[0m\n\u001b[0m\u001b[1;32m      2\u001b[0m \u001b[0max\u001b[0m \u001b[0;34m=\u001b[0m \u001b[0mar\u001b[0m\u001b[0;34m.\u001b[0m\u001b[0mplot\u001b[0m\u001b[0;34m(\u001b[0m\u001b[0mkind\u001b[0m\u001b[0;34m=\u001b[0m\u001b[0;34m'bar'\u001b[0m\u001b[0;34m,\u001b[0m\u001b[0mfigsize\u001b[0m\u001b[0;34m=\u001b[0m\u001b[0;34m(\u001b[0m\u001b[0;36m15\u001b[0m\u001b[0;34m,\u001b[0m\u001b[0;36m7\u001b[0m\u001b[0;34m)\u001b[0m\u001b[0;34m,\u001b[0m \u001b[0mcolor\u001b[0m\u001b[0;34m=\u001b[0m\u001b[0;34m[\u001b[0m\u001b[0;34m'dodgerblue'\u001b[0m\u001b[0;34m,\u001b[0m \u001b[0;34m'slategray'\u001b[0m\u001b[0;34m]\u001b[0m\u001b[0;34m,\u001b[0m \u001b[0mfontsize\u001b[0m\u001b[0;34m=\u001b[0m\u001b[0;36m13\u001b[0m\u001b[0;34m)\u001b[0m\u001b[0;34m;\u001b[0m\u001b[0;34m\u001b[0m\u001b[0;34m\u001b[0m\u001b[0m\n\u001b[1;32m      3\u001b[0m \u001b[0;34m\u001b[0m\u001b[0m\n\u001b[1;32m      4\u001b[0m \u001b[0max\u001b[0m\u001b[0;34m.\u001b[0m\u001b[0mset_alpha\u001b[0m\u001b[0;34m(\u001b[0m\u001b[0;36m0.8\u001b[0m\u001b[0;34m)\u001b[0m\u001b[0;34m\u001b[0m\u001b[0;34m\u001b[0m\u001b[0m\n\u001b[1;32m      5\u001b[0m ax.set_title(\"ACIDENTES POR TIPO DE AERONAVE\",\n",
      "\u001b[0;31mNameError\u001b[0m: name 'dataset' is not defined"
     ]
    }
   ],
   "source": [
    "ar = dataset[dataset.aeronave_motor_tipo != '***'].groupby(['aeronave_motor_tipo'])['aeronave_motor_tipo'].value_counts()\n",
    "ax = ar.plot(kind='bar',figsize=(15,7), color=['dodgerblue', 'slategray'], fontsize=13);\n",
    "\n",
    "ax.set_alpha(0.8)\n",
    "ax.set_title(\"ACIDENTES POR TIPO DE AERONAVE\",\n",
    "fontsize=18)\n",
    "ax.set_ylabel(\"Quantidade\", fontsize=18);\n",
    "ax.set_yticks([0, 500, 1000, 1500, 2000, 2500, 3000])\n",
    "ax.set_xticklabels([\"JATO\",\"PISTÃO\",\"SEM TRAÇÃO\",\"TURBOELICE\",\"TURBOEIXO\"], rotation=0, fontsize=11)\n",
    "\n",
    "for i in ax.patches:# definir barras individuais usando a lista acima \n",
    "    ax.text(i.get_x()+.04, i.get_height()+130, \\\n",
    "            str(round((i.get_height()), 2)), fontsize=11, color='dimgrey',\n",
    "                rotation=45)\n"
   ]
  },
  {
   "cell_type": "markdown",
   "metadata": {
    "_uuid": "f03bc1f6be5a663051bf5df762a49bb8f4a95f15",
    "papermill": {
     "duration": 0.050394,
     "end_time": "2021-01-07T23:29:03.617878",
     "exception": false,
     "start_time": "2021-01-07T23:29:03.567484",
     "status": "completed"
    },
    "tags": []
   },
   "source": [
    "***"
   ]
  },
  {
   "cell_type": "markdown",
   "metadata": {
    "_uuid": "0ace247f8936a2b6f027512a4575d5e89e662ed2",
    "papermill": {
     "duration": 0.050722,
     "end_time": "2021-01-07T23:29:03.719472",
     "exception": false,
     "start_time": "2021-01-07T23:29:03.668750",
     "status": "completed"
    },
    "tags": []
   },
   "source": [
    "##### VERSÕES INSTALADAS"
   ]
  },
  {
   "cell_type": "code",
   "execution_count": 29,
   "metadata": {
    "_uuid": "c46bd8cc70a6e80311d15d172fba5af816daa7d3",
    "execution": {
     "iopub.execute_input": "2021-01-07T23:29:03.826407Z",
     "iopub.status.busy": "2021-01-07T23:29:03.825716Z",
     "iopub.status.idle": "2021-01-07T23:29:07.441568Z",
     "shell.execute_reply": "2021-01-07T23:29:07.442526Z"
    },
    "papermill": {
     "duration": 3.671413,
     "end_time": "2021-01-07T23:29:07.442718",
     "exception": false,
     "start_time": "2021-01-07T23:29:03.771305",
     "status": "completed"
    },
    "tags": []
   },
   "outputs": [
    {
     "name": "stdout",
     "output_type": "stream",
     "text": [
      "\n",
      "INSTALLED VERSIONS\n",
      "------------------\n",
      "commit           : b5958ee1999e9aead1938c0bba2b674378807b3d\n",
      "python           : 3.7.6.final.0\n",
      "python-bits      : 64\n",
      "OS               : Linux\n",
      "OS-release       : 5.4.49+\n",
      "Version          : #1 SMP Mon Nov 30 19:42:49 PST 2020\n",
      "machine          : x86_64\n",
      "processor        : x86_64\n",
      "byteorder        : little\n",
      "LC_ALL           : C.UTF-8\n",
      "LANG             : C.UTF-8\n",
      "LOCALE           : en_US.UTF-8\n",
      "\n",
      "pandas           : 1.1.5\n",
      "numpy            : 1.18.5\n",
      "pytz             : 2019.3\n",
      "dateutil         : 2.8.1\n",
      "pip              : 20.3.1\n",
      "setuptools       : 46.1.3.post20200325\n",
      "Cython           : 0.29.21\n",
      "pytest           : 5.4.1\n",
      "hypothesis       : 5.10.0\n",
      "sphinx           : 3.0.2\n",
      "blosc            : None\n",
      "feather          : 0.4.1\n",
      "xlsxwriter       : 1.2.8\n",
      "lxml.etree       : 4.5.0\n",
      "html5lib         : 1.0.1\n",
      "pymysql          : None\n",
      "psycopg2         : None\n",
      "jinja2           : 2.11.2\n",
      "IPython          : 7.13.0\n",
      "pandas_datareader: 0.9.0\n",
      "bs4              : 4.9.0\n",
      "bottleneck       : 1.3.2\n",
      "fsspec           : 0.8.4\n",
      "fastparquet      : None\n",
      "gcsfs            : 0.6.1\n",
      "matplotlib       : 3.2.1\n",
      "numexpr          : 2.7.1\n",
      "odfpy            : None\n",
      "openpyxl         : 3.0.3\n",
      "pandas_gbq       : None\n",
      "pyarrow          : 0.16.0\n",
      "pytables         : None\n",
      "pyxlsb           : None\n",
      "s3fs             : 0.5.1\n",
      "scipy            : 1.4.1\n",
      "sqlalchemy       : 1.3.16\n",
      "tables           : 3.6.1\n",
      "tabulate         : 0.8.7\n",
      "xarray           : 0.16.2\n",
      "xlrd             : 1.2.0\n",
      "xlwt             : 1.3.0\n",
      "numba            : 0.48.0\n"
     ]
    }
   ],
   "source": [
    "pd.show_versions ()"
   ]
  },
  {
   "cell_type": "markdown",
   "metadata": {
    "_uuid": "b11c4502d7031ba4477c4e48ef52cb882f8d79fd",
    "papermill": {
     "duration": 0.05057,
     "end_time": "2021-01-07T23:29:07.561305",
     "exception": false,
     "start_time": "2021-01-07T23:29:07.510735",
     "status": "completed"
    },
    "tags": []
   },
   "source": [
    "***"
   ]
  },
  {
   "cell_type": "markdown",
   "metadata": {
    "_uuid": "cf7dada4e689578df3f380c5cc8cddcea029dfca",
    "papermill": {
     "duration": 0.050861,
     "end_time": "2021-01-07T23:29:07.663247",
     "exception": false,
     "start_time": "2021-01-07T23:29:07.612386",
     "status": "completed"
    },
    "tags": []
   },
   "source": [
    "# Testes de Gráficos"
   ]
  },
  {
   "cell_type": "code",
   "execution_count": 30,
   "metadata": {
    "_uuid": "99ebaaceb90aa9eff3efd97a3f190ae7a9687797",
    "execution": {
     "iopub.execute_input": "2021-01-07T23:29:07.768943Z",
     "iopub.status.busy": "2021-01-07T23:29:07.767922Z",
     "iopub.status.idle": "2021-01-07T23:29:07.902677Z",
     "shell.execute_reply": "2021-01-07T23:29:07.902136Z"
    },
    "papermill": {
     "duration": 0.18879,
     "end_time": "2021-01-07T23:29:07.902791",
     "exception": false,
     "start_time": "2021-01-07T23:29:07.714001",
     "status": "completed"
    },
    "tags": []
   },
   "outputs": [
    {
     "ename": "NameError",
     "evalue": "name 'engine_type' is not defined",
     "output_type": "error",
     "traceback": [
      "\u001b[0;31m---------------------------------------------------------------------------\u001b[0m",
      "\u001b[0;31mNameError\u001b[0m                                 Traceback (most recent call last)",
      "\u001b[0;32m<ipython-input-30-a6596f89d267>\u001b[0m in \u001b[0;36m<module>\u001b[0;34m\u001b[0m\n\u001b[0;32m----> 1\u001b[0;31m \u001b[0mgs1\u001b[0m \u001b[0;34m=\u001b[0m \u001b[0mengine_type\u001b[0m\u001b[0;34m.\u001b[0m\u001b[0mplot\u001b[0m\u001b[0;34m.\u001b[0m\u001b[0mbar\u001b[0m\u001b[0;34m(\u001b[0m\u001b[0mtitle\u001b[0m\u001b[0;34m=\u001b[0m\u001b[0;34m'ACIDENTES POR TIPO DE AERONAVE'\u001b[0m\u001b[0;34m)\u001b[0m\u001b[0;34m\u001b[0m\u001b[0;34m\u001b[0m\u001b[0m\n\u001b[0m\u001b[1;32m      2\u001b[0m \u001b[0mgs1\u001b[0m\u001b[0;34m.\u001b[0m\u001b[0mset_xlabel\u001b[0m\u001b[0;34m(\u001b[0m\u001b[0;34m'Tipo de Aeronave'\u001b[0m\u001b[0;34m)\u001b[0m\u001b[0;34m\u001b[0m\u001b[0;34m\u001b[0m\u001b[0m\n\u001b[1;32m      3\u001b[0m \u001b[0mgs1\u001b[0m\u001b[0;34m.\u001b[0m\u001b[0mset_ylabel\u001b[0m\u001b[0;34m(\u001b[0m\u001b[0;34m'Quantidade Acidentes'\u001b[0m\u001b[0;34m)\u001b[0m\u001b[0;34m\u001b[0m\u001b[0;34m\u001b[0m\u001b[0m\n\u001b[1;32m      4\u001b[0m \u001b[0mgs1\u001b[0m\u001b[0;34m.\u001b[0m\u001b[0mplot\u001b[0m\u001b[0;34m(\u001b[0m\u001b[0;34m)\u001b[0m\u001b[0;34m\u001b[0m\u001b[0;34m\u001b[0m\u001b[0m\n",
      "\u001b[0;31mNameError\u001b[0m: name 'engine_type' is not defined"
     ]
    }
   ],
   "source": [
    "gs1 = engine_type.plot.bar(title='ACIDENTES POR TIPO DE AERONAVE')\n",
    "gs1.set_xlabel('Tipo de Aeronave')\n",
    "gs1.set_ylabel('Quantidade Acidentes')\n",
    "gs1.plot()"
   ]
  },
  {
   "cell_type": "code",
   "execution_count": 31,
   "metadata": {
    "_uuid": "01f04cb790c19740df17a9c5f0c0e9516ddabb69",
    "execution": {
     "iopub.execute_input": "2021-01-07T23:29:08.025867Z",
     "iopub.status.busy": "2021-01-07T23:29:08.013788Z",
     "iopub.status.idle": "2021-01-07T23:29:08.031418Z",
     "shell.execute_reply": "2021-01-07T23:29:08.031977Z"
    },
    "papermill": {
     "duration": 0.077193,
     "end_time": "2021-01-07T23:29:08.032111",
     "exception": false,
     "start_time": "2021-01-07T23:29:07.954918",
     "status": "completed"
    },
    "tags": []
   },
   "outputs": [
    {
     "ename": "NameError",
     "evalue": "name 'dataset' is not defined",
     "output_type": "error",
     "traceback": [
      "\u001b[0;31m---------------------------------------------------------------------------\u001b[0m",
      "\u001b[0;31mNameError\u001b[0m                                 Traceback (most recent call last)",
      "\u001b[0;32m<ipython-input-31-a355d4168e57>\u001b[0m in \u001b[0;36m<module>\u001b[0;34m\u001b[0m\n\u001b[0;32m----> 1\u001b[0;31m dataset.groupby(['aeronave_motor_quantidade','aeronave_tipo_veiculo'])['aeronave_tipo_veiculo'].size().unstack().plot(kind='bar',\n\u001b[0m\u001b[1;32m      2\u001b[0m                                                                                                                     stacked=True)\n\u001b[1;32m      3\u001b[0m \u001b[0mplt\u001b[0m\u001b[0;34m.\u001b[0m\u001b[0mshow\u001b[0m\u001b[0;34m(\u001b[0m\u001b[0;34m)\u001b[0m\u001b[0;34m\u001b[0m\u001b[0;34m\u001b[0m\u001b[0m\n",
      "\u001b[0;31mNameError\u001b[0m: name 'dataset' is not defined"
     ]
    }
   ],
   "source": [
    "dataset.groupby(['aeronave_motor_quantidade','aeronave_tipo_veiculo'])['aeronave_tipo_veiculo'].size().unstack().plot(kind='bar',\n",
    "                                                                                                                    stacked=True)\n",
    "plt.show()"
   ]
  },
  {
   "cell_type": "code",
   "execution_count": 32,
   "metadata": {
    "_uuid": "c397c8ab755c6308c14ba634e907ef7c2a706769",
    "execution": {
     "iopub.execute_input": "2021-01-07T23:29:08.141637Z",
     "iopub.status.busy": "2021-01-07T23:29:08.140628Z",
     "iopub.status.idle": "2021-01-07T23:29:08.161089Z",
     "shell.execute_reply": "2021-01-07T23:29:08.161784Z"
    },
    "papermill": {
     "duration": 0.076872,
     "end_time": "2021-01-07T23:29:08.161951",
     "exception": false,
     "start_time": "2021-01-07T23:29:08.085079",
     "status": "completed"
    },
    "tags": []
   },
   "outputs": [
    {
     "ename": "NameError",
     "evalue": "name 'p_vehicle' is not defined",
     "output_type": "error",
     "traceback": [
      "\u001b[0;31m---------------------------------------------------------------------------\u001b[0m",
      "\u001b[0;31mNameError\u001b[0m                                 Traceback (most recent call last)",
      "\u001b[0;32m<ipython-input-32-1921ed6f805a>\u001b[0m in \u001b[0;36m<module>\u001b[0;34m\u001b[0m\n\u001b[0;32m----> 1\u001b[0;31m \u001b[0my_axis\u001b[0m \u001b[0;34m=\u001b[0m \u001b[0mp_vehicle\u001b[0m\u001b[0;34m\u001b[0m\u001b[0;34m\u001b[0m\u001b[0m\n\u001b[0m\u001b[1;32m      2\u001b[0m \u001b[0mx_axis\u001b[0m \u001b[0;34m=\u001b[0m \u001b[0mrange\u001b[0m\u001b[0;34m(\u001b[0m\u001b[0mlen\u001b[0m\u001b[0;34m(\u001b[0m\u001b[0my_axis\u001b[0m\u001b[0;34m)\u001b[0m\u001b[0;34m)\u001b[0m\u001b[0;34m\u001b[0m\u001b[0;34m\u001b[0m\u001b[0m\n\u001b[1;32m      3\u001b[0m \u001b[0mwidth_n\u001b[0m \u001b[0;34m=\u001b[0m \u001b[0;36m0.5\u001b[0m\u001b[0;34m\u001b[0m\u001b[0;34m\u001b[0m\u001b[0m\n\u001b[1;32m      4\u001b[0m \u001b[0mbar_color\u001b[0m \u001b[0;34m=\u001b[0m \u001b[0;34m'yellow'\u001b[0m\u001b[0;34m\u001b[0m\u001b[0;34m\u001b[0m\u001b[0m\n\u001b[1;32m      5\u001b[0m \u001b[0;34m\u001b[0m\u001b[0m\n",
      "\u001b[0;31mNameError\u001b[0m: name 'p_vehicle' is not defined"
     ]
    }
   ],
   "source": [
    "y_axis = p_vehicle\n",
    "x_axis = range(len(y_axis))\n",
    "width_n = 0.5\n",
    "bar_color = 'yellow'\n",
    "\n",
    "plt.bar(x_axis, y_axis, width=width_n, color=bar_color)\n",
    "plt.show()"
   ]
  },
  {
   "cell_type": "code",
   "execution_count": 33,
   "metadata": {
    "_uuid": "e922f97554c8e396af142b8c488db3a077fa5eaa",
    "execution": {
     "iopub.execute_input": "2021-01-07T23:29:08.272044Z",
     "iopub.status.busy": "2021-01-07T23:29:08.271037Z",
     "iopub.status.idle": "2021-01-07T23:29:08.290245Z",
     "shell.execute_reply": "2021-01-07T23:29:08.290797Z"
    },
    "papermill": {
     "duration": 0.07637,
     "end_time": "2021-01-07T23:29:08.290947",
     "exception": false,
     "start_time": "2021-01-07T23:29:08.214577",
     "status": "completed"
    },
    "tags": []
   },
   "outputs": [
    {
     "ename": "NameError",
     "evalue": "name 'dataset' is not defined",
     "output_type": "error",
     "traceback": [
      "\u001b[0;31m---------------------------------------------------------------------------\u001b[0m",
      "\u001b[0;31mNameError\u001b[0m                                 Traceback (most recent call last)",
      "\u001b[0;32m<ipython-input-33-21fa4b91a140>\u001b[0m in \u001b[0;36m<module>\u001b[0;34m\u001b[0m\n\u001b[0;32m----> 1\u001b[0;31m \u001b[0mtest\u001b[0m \u001b[0;34m=\u001b[0m \u001b[0mdataset\u001b[0m\u001b[0;34m[\u001b[0m\u001b[0;34m'aeronave_pais_registro'\u001b[0m\u001b[0;34m]\u001b[0m\u001b[0;34m.\u001b[0m\u001b[0mvalue_counts\u001b[0m\u001b[0;34m(\u001b[0m\u001b[0;34m)\u001b[0m\u001b[0;34m\u001b[0m\u001b[0;34m\u001b[0m\u001b[0m\n\u001b[0m\u001b[1;32m      2\u001b[0m \u001b[0mtest\u001b[0m\u001b[0;34m.\u001b[0m\u001b[0mplot\u001b[0m\u001b[0;34m.\u001b[0m\u001b[0mhist\u001b[0m\u001b[0;34m(\u001b[0m\u001b[0mx\u001b[0m\u001b[0;34m=\u001b[0m\u001b[0;34m'Tipo de Aeronave'\u001b[0m\u001b[0;34m,\u001b[0m \u001b[0my\u001b[0m\u001b[0;34m=\u001b[0m\u001b[0;34m'Quantidade Acidentes'\u001b[0m\u001b[0;34m)\u001b[0m\u001b[0;34m\u001b[0m\u001b[0;34m\u001b[0m\u001b[0m\n",
      "\u001b[0;31mNameError\u001b[0m: name 'dataset' is not defined"
     ]
    }
   ],
   "source": [
    "test = dataset['aeronave_pais_registro'].value_counts()\n",
    "test.plot.hist(x='Tipo de Aeronave', y='Quantidade Acidentes')"
   ]
  },
  {
   "cell_type": "code",
   "execution_count": 34,
   "metadata": {
    "_uuid": "31548483fe38ef3edcf8eb8dbb2e47937a05ca9f",
    "execution": {
     "iopub.execute_input": "2021-01-07T23:29:08.404013Z",
     "iopub.status.busy": "2021-01-07T23:29:08.402999Z",
     "iopub.status.idle": "2021-01-07T23:29:08.422976Z",
     "shell.execute_reply": "2021-01-07T23:29:08.423488Z"
    },
    "papermill": {
     "duration": 0.078608,
     "end_time": "2021-01-07T23:29:08.423642",
     "exception": false,
     "start_time": "2021-01-07T23:29:08.345034",
     "status": "completed"
    },
    "tags": []
   },
   "outputs": [
    {
     "ename": "NameError",
     "evalue": "name 'p_engine_type' is not defined",
     "output_type": "error",
     "traceback": [
      "\u001b[0;31m---------------------------------------------------------------------------\u001b[0m",
      "\u001b[0;31mNameError\u001b[0m                                 Traceback (most recent call last)",
      "\u001b[0;32m<ipython-input-34-dacc0b7f1b98>\u001b[0m in \u001b[0;36m<module>\u001b[0;34m\u001b[0m\n\u001b[0;32m----> 1\u001b[0;31m \u001b[0mplt\u001b[0m\u001b[0;34m.\u001b[0m\u001b[0mplot\u001b[0m\u001b[0;34m(\u001b[0m\u001b[0mp_engine_type\u001b[0m\u001b[0;34m)\u001b[0m\u001b[0;31m# Criando um gráfico\u001b[0m\u001b[0;34m\u001b[0m\u001b[0;34m\u001b[0m\u001b[0m\n\u001b[0m\u001b[1;32m      2\u001b[0m \u001b[0;34m\u001b[0m\u001b[0m\n\u001b[1;32m      3\u001b[0m \u001b[0mplt\u001b[0m\u001b[0;34m.\u001b[0m\u001b[0mtitle\u001b[0m\u001b[0;34m(\u001b[0m\u001b[0;34m'Exemplo utilizando Plot'\u001b[0m\u001b[0;34m)\u001b[0m\u001b[0;31m# Atribuindo um título ao gráfico\u001b[0m\u001b[0;34m\u001b[0m\u001b[0;34m\u001b[0m\u001b[0m\n\u001b[1;32m      4\u001b[0m \u001b[0mplt\u001b[0m\u001b[0;34m.\u001b[0m\u001b[0mxlabel\u001b[0m\u001b[0;34m(\u001b[0m\u001b[0;34m'Variavel 1'\u001b[0m\u001b[0;34m)\u001b[0m\u001b[0;34m\u001b[0m\u001b[0;34m\u001b[0m\u001b[0m\n\u001b[1;32m      5\u001b[0m \u001b[0mplt\u001b[0m\u001b[0;34m.\u001b[0m\u001b[0mylabel\u001b[0m\u001b[0;34m(\u001b[0m\u001b[0;34m'Variavel 2'\u001b[0m\u001b[0;34m)\u001b[0m\u001b[0;34m\u001b[0m\u001b[0;34m\u001b[0m\u001b[0m\n",
      "\u001b[0;31mNameError\u001b[0m: name 'p_engine_type' is not defined"
     ]
    }
   ],
   "source": [
    "plt.plot(p_engine_type)# Criando um gráfico\n",
    " \n",
    "plt.title('Exemplo utilizando Plot')# Atribuindo um título ao gráfico\n",
    "plt.xlabel('Variavel 1')\n",
    "plt.ylabel('Variavel 2')\n",
    " \n",
    "plt.plot(p_engine_type, label = 'Uma legenda')# Atribuindo uma legenda\n",
    "plt.legend()\n",
    "\n",
    "plt.show()# Exibindo o gráfico gerado"
   ]
  },
  {
   "cell_type": "code",
   "execution_count": 35,
   "metadata": {
    "_uuid": "1c5d081dbc4c799b500a9f48ea54ddff92cfe62c",
    "execution": {
     "iopub.execute_input": "2021-01-07T23:29:08.535997Z",
     "iopub.status.busy": "2021-01-07T23:29:08.534987Z",
     "iopub.status.idle": "2021-01-07T23:29:08.553829Z",
     "shell.execute_reply": "2021-01-07T23:29:08.554348Z"
    },
    "papermill": {
     "duration": 0.076734,
     "end_time": "2021-01-07T23:29:08.554499",
     "exception": false,
     "start_time": "2021-01-07T23:29:08.477765",
     "status": "completed"
    },
    "tags": []
   },
   "outputs": [
    {
     "ename": "NameError",
     "evalue": "name 'p_engine_type' is not defined",
     "output_type": "error",
     "traceback": [
      "\u001b[0;31m---------------------------------------------------------------------------\u001b[0m",
      "\u001b[0;31mNameError\u001b[0m                                 Traceback (most recent call last)",
      "\u001b[0;32m<ipython-input-35-dc6b47b2eb0a>\u001b[0m in \u001b[0;36m<module>\u001b[0;34m\u001b[0m\n\u001b[0;32m----> 1\u001b[0;31m \u001b[0mplt\u001b[0m\u001b[0;34m.\u001b[0m\u001b[0mplot\u001b[0m\u001b[0;34m(\u001b[0m\u001b[0mp_engine_type\u001b[0m\u001b[0;34m)\u001b[0m\u001b[0;34m\u001b[0m\u001b[0;34m\u001b[0m\u001b[0m\n\u001b[0m\u001b[1;32m      2\u001b[0m \u001b[0mplt\u001b[0m\u001b[0;34m.\u001b[0m\u001b[0mtitle\u001b[0m\u001b[0;34m(\u001b[0m\u001b[0;34m\"Muito Fácil\"\u001b[0m\u001b[0;34m)\u001b[0m\u001b[0;34m\u001b[0m\u001b[0;34m\u001b[0m\u001b[0m\n\u001b[1;32m      3\u001b[0m \u001b[0mplt\u001b[0m\u001b[0;34m.\u001b[0m\u001b[0mshow\u001b[0m\u001b[0;34m(\u001b[0m\u001b[0;34m)\u001b[0m\u001b[0;34m\u001b[0m\u001b[0;34m\u001b[0m\u001b[0m\n",
      "\u001b[0;31mNameError\u001b[0m: name 'p_engine_type' is not defined"
     ]
    }
   ],
   "source": [
    "plt.plot(p_engine_type)\n",
    "plt.title(\"Muito Fácil\")\n",
    "plt.show()"
   ]
  },
  {
   "cell_type": "code",
   "execution_count": 36,
   "metadata": {
    "_uuid": "f973b62dad148d22913774dcc0e87d0d72cca97d",
    "execution": {
     "iopub.execute_input": "2021-01-07T23:29:08.667521Z",
     "iopub.status.busy": "2021-01-07T23:29:08.666529Z",
     "iopub.status.idle": "2021-01-07T23:29:08.685870Z",
     "shell.execute_reply": "2021-01-07T23:29:08.686414Z"
    },
    "papermill": {
     "duration": 0.077632,
     "end_time": "2021-01-07T23:29:08.686553",
     "exception": false,
     "start_time": "2021-01-07T23:29:08.608921",
     "status": "completed"
    },
    "tags": []
   },
   "outputs": [
    {
     "ename": "NameError",
     "evalue": "name 'dataset' is not defined",
     "output_type": "error",
     "traceback": [
      "\u001b[0;31m---------------------------------------------------------------------------\u001b[0m",
      "\u001b[0;31mNameError\u001b[0m                                 Traceback (most recent call last)",
      "\u001b[0;32m<ipython-input-36-e17e663bca6e>\u001b[0m in \u001b[0;36m<module>\u001b[0;34m\u001b[0m\n\u001b[0;32m----> 1\u001b[0;31m dataset.groupby(['aeronave_motor_tipo','aeronave_motor_quantidade'])['aeronave_modelo'].size().unstack().plot(kind='bar',\n\u001b[0m\u001b[1;32m      2\u001b[0m                                                                                                               stacked=True)\n\u001b[1;32m      3\u001b[0m \u001b[0mplt\u001b[0m\u001b[0;34m.\u001b[0m\u001b[0mshow\u001b[0m\u001b[0;34m(\u001b[0m\u001b[0;34m)\u001b[0m\u001b[0;34m\u001b[0m\u001b[0;34m\u001b[0m\u001b[0m\n",
      "\u001b[0;31mNameError\u001b[0m: name 'dataset' is not defined"
     ]
    }
   ],
   "source": [
    "dataset.groupby(['aeronave_motor_tipo','aeronave_motor_quantidade'])['aeronave_modelo'].size().unstack().plot(kind='bar',\n",
    "                                                                                                              stacked=True)\n",
    "plt.show()"
   ]
  },
  {
   "cell_type": "code",
   "execution_count": 37,
   "metadata": {
    "_uuid": "ea9ed7c4e41f40de35d44745c77322bcc1922339",
    "execution": {
     "iopub.execute_input": "2021-01-07T23:29:08.802523Z",
     "iopub.status.busy": "2021-01-07T23:29:08.801475Z",
     "iopub.status.idle": "2021-01-07T23:29:08.820966Z",
     "shell.execute_reply": "2021-01-07T23:29:08.820415Z"
    },
    "papermill": {
     "duration": 0.078446,
     "end_time": "2021-01-07T23:29:08.821081",
     "exception": false,
     "start_time": "2021-01-07T23:29:08.742635",
     "status": "completed"
    },
    "tags": []
   },
   "outputs": [
    {
     "ename": "NameError",
     "evalue": "name 'p_model' is not defined",
     "output_type": "error",
     "traceback": [
      "\u001b[0;31m---------------------------------------------------------------------------\u001b[0m",
      "\u001b[0;31mNameError\u001b[0m                                 Traceback (most recent call last)",
      "\u001b[0;32m<ipython-input-37-123ef8036ef0>\u001b[0m in \u001b[0;36m<module>\u001b[0;34m\u001b[0m\n\u001b[0;32m----> 1\u001b[0;31m \u001b[0mp_model\u001b[0m\u001b[0;34m[\u001b[0m\u001b[0;34m:\u001b[0m\u001b[0;36m20\u001b[0m\u001b[0;34m]\u001b[0m\u001b[0;34m.\u001b[0m\u001b[0mplot\u001b[0m\u001b[0;34m(\u001b[0m\u001b[0mkind\u001b[0m\u001b[0;34m=\u001b[0m\u001b[0;34m'barh'\u001b[0m\u001b[0;34m)\u001b[0m\u001b[0;34m\u001b[0m\u001b[0;34m\u001b[0m\u001b[0m\n\u001b[0m",
      "\u001b[0;31mNameError\u001b[0m: name 'p_model' is not defined"
     ]
    }
   ],
   "source": [
    "p_model[:20].plot(kind='barh')"
   ]
  },
  {
   "cell_type": "code",
   "execution_count": 38,
   "metadata": {
    "_uuid": "5d693f88adec058d1afe4c60f58794a12aa15e66",
    "execution": {
     "iopub.execute_input": "2021-01-07T23:29:08.952841Z",
     "iopub.status.busy": "2021-01-07T23:29:08.952103Z",
     "iopub.status.idle": "2021-01-07T23:29:08.959739Z",
     "shell.execute_reply": "2021-01-07T23:29:08.959145Z"
    },
    "papermill": {
     "duration": 0.083031,
     "end_time": "2021-01-07T23:29:08.959849",
     "exception": false,
     "start_time": "2021-01-07T23:29:08.876818",
     "status": "completed"
    },
    "tags": []
   },
   "outputs": [
    {
     "ename": "NameError",
     "evalue": "name 'dataset' is not defined",
     "output_type": "error",
     "traceback": [
      "\u001b[0;31m---------------------------------------------------------------------------\u001b[0m",
      "\u001b[0;31mNameError\u001b[0m                                 Traceback (most recent call last)",
      "\u001b[0;32m<ipython-input-38-bc8a607ae2e5>\u001b[0m in \u001b[0;36m<module>\u001b[0;34m\u001b[0m\n\u001b[0;32m----> 1\u001b[0;31m \u001b[0mtest\u001b[0m \u001b[0;34m=\u001b[0m \u001b[0mdataset\u001b[0m\u001b[0;34m[\u001b[0m\u001b[0;34m'aeronave_pais_registro'\u001b[0m\u001b[0;34m]\u001b[0m\u001b[0;34m.\u001b[0m\u001b[0mvalue_counts\u001b[0m\u001b[0;34m(\u001b[0m\u001b[0mnormalize\u001b[0m\u001b[0;34m=\u001b[0m\u001b[0;32mTrue\u001b[0m\u001b[0;34m)\u001b[0m\u001b[0;34m\u001b[0m\u001b[0;34m\u001b[0m\u001b[0m\n\u001b[0m\u001b[1;32m      2\u001b[0m \u001b[0mtest\u001b[0m\u001b[0;34m.\u001b[0m\u001b[0mplot\u001b[0m\u001b[0;34m.\u001b[0m\u001b[0mline\u001b[0m\u001b[0;34m(\u001b[0m\u001b[0mx\u001b[0m\u001b[0;34m=\u001b[0m\u001b[0;34m'Tipo de Aeronave'\u001b[0m\u001b[0;34m,\u001b[0m \u001b[0my\u001b[0m\u001b[0;34m=\u001b[0m\u001b[0;34m'Quantidade Acidentes'\u001b[0m\u001b[0;34m)\u001b[0m\u001b[0;34m\u001b[0m\u001b[0;34m\u001b[0m\u001b[0m\n",
      "\u001b[0;31mNameError\u001b[0m: name 'dataset' is not defined"
     ]
    }
   ],
   "source": [
    "test = dataset['aeronave_pais_registro'].value_counts(normalize=True)\n",
    "test.plot.line(x='Tipo de Aeronave', y='Quantidade Acidentes')"
   ]
  },
  {
   "cell_type": "code",
   "execution_count": 39,
   "metadata": {
    "_uuid": "1caa886e13887f11cbbf781c4fb3792e2f0344a1",
    "execution": {
     "iopub.execute_input": "2021-01-07T23:29:09.092934Z",
     "iopub.status.busy": "2021-01-07T23:29:09.091570Z",
     "iopub.status.idle": "2021-01-07T23:29:09.097202Z",
     "shell.execute_reply": "2021-01-07T23:29:09.096586Z"
    },
    "papermill": {
     "duration": 0.079467,
     "end_time": "2021-01-07T23:29:09.097330",
     "exception": false,
     "start_time": "2021-01-07T23:29:09.017863",
     "status": "completed"
    },
    "tags": []
   },
   "outputs": [
    {
     "ename": "NameError",
     "evalue": "name 'dataset' is not defined",
     "output_type": "error",
     "traceback": [
      "\u001b[0;31m---------------------------------------------------------------------------\u001b[0m",
      "\u001b[0;31mNameError\u001b[0m                                 Traceback (most recent call last)",
      "\u001b[0;32m<ipython-input-39-a8ab0233ac5e>\u001b[0m in \u001b[0;36m<module>\u001b[0;34m\u001b[0m\n\u001b[0;32m----> 1\u001b[0;31m \u001b[0mtest\u001b[0m \u001b[0;34m=\u001b[0m \u001b[0mdataset\u001b[0m\u001b[0;34m[\u001b[0m\u001b[0;34m'aeronave_pais_registro'\u001b[0m\u001b[0;34m]\u001b[0m\u001b[0;34m.\u001b[0m\u001b[0mvalue_counts\u001b[0m\u001b[0;34m(\u001b[0m\u001b[0;34m)\u001b[0m\u001b[0;34m\u001b[0m\u001b[0;34m\u001b[0m\u001b[0m\n\u001b[0m\u001b[1;32m      2\u001b[0m \u001b[0mtest\u001b[0m\u001b[0;34m.\u001b[0m\u001b[0mplot\u001b[0m\u001b[0;34m.\u001b[0m\u001b[0mpie\u001b[0m\u001b[0;34m(\u001b[0m\u001b[0mx\u001b[0m\u001b[0;34m=\u001b[0m\u001b[0;34m'Tipo de Aeronave'\u001b[0m\u001b[0;34m,\u001b[0m \u001b[0my\u001b[0m\u001b[0;34m=\u001b[0m\u001b[0;34m'Quantidade Acidentes'\u001b[0m\u001b[0;34m)\u001b[0m\u001b[0;34m\u001b[0m\u001b[0;34m\u001b[0m\u001b[0m\n",
      "\u001b[0;31mNameError\u001b[0m: name 'dataset' is not defined"
     ]
    }
   ],
   "source": [
    "test = dataset['aeronave_pais_registro'].value_counts()\n",
    "test.plot.pie(x='Tipo de Aeronave', y='Quantidade Acidentes')"
   ]
  },
  {
   "cell_type": "code",
   "execution_count": 40,
   "metadata": {
    "_uuid": "581313fb07c2e30cf082904d43d43620a80c6bb2",
    "execution": {
     "iopub.execute_input": "2021-01-07T23:29:09.227964Z",
     "iopub.status.busy": "2021-01-07T23:29:09.227285Z",
     "iopub.status.idle": "2021-01-07T23:29:09.233144Z",
     "shell.execute_reply": "2021-01-07T23:29:09.232575Z"
    },
    "papermill": {
     "duration": 0.079366,
     "end_time": "2021-01-07T23:29:09.233272",
     "exception": false,
     "start_time": "2021-01-07T23:29:09.153906",
     "status": "completed"
    },
    "tags": []
   },
   "outputs": [
    {
     "ename": "NameError",
     "evalue": "name 'model' is not defined",
     "output_type": "error",
     "traceback": [
      "\u001b[0;31m---------------------------------------------------------------------------\u001b[0m",
      "\u001b[0;31mNameError\u001b[0m                                 Traceback (most recent call last)",
      "\u001b[0;32m<ipython-input-40-47c18814648a>\u001b[0m in \u001b[0;36m<module>\u001b[0;34m\u001b[0m\n\u001b[0;32m----> 1\u001b[0;31m \u001b[0mmodel\u001b[0m\u001b[0;34m.\u001b[0m\u001b[0mplot\u001b[0m\u001b[0;34m.\u001b[0m\u001b[0mbar\u001b[0m\u001b[0;34m(\u001b[0m\u001b[0;34m)\u001b[0m\u001b[0;34m\u001b[0m\u001b[0;34m\u001b[0m\u001b[0m\n\u001b[0m",
      "\u001b[0;31mNameError\u001b[0m: name 'model' is not defined"
     ]
    }
   ],
   "source": [
    "model.plot.bar()"
   ]
  },
  {
   "cell_type": "markdown",
   "metadata": {
    "_uuid": "88e9695bfa6ff10109171e9fa67149fe573fbb89",
    "papermill": {
     "duration": 0.056959,
     "end_time": "2021-01-07T23:29:09.347666",
     "exception": false,
     "start_time": "2021-01-07T23:29:09.290707",
     "status": "completed"
    },
    "tags": []
   },
   "source": [
    "***"
   ]
  }
 ],
 "metadata": {
  "kernelspec": {
   "display_name": "Python 3",
   "language": "python",
   "name": "python3"
  },
  "language_info": {
   "codemirror_mode": {
    "name": "ipython",
    "version": 3
   },
   "file_extension": ".py",
   "mimetype": "text/x-python",
   "name": "python",
   "nbconvert_exporter": "python",
   "pygments_lexer": "ipython3",
   "version": "3.7.6"
  },
  "papermill": {
   "duration": 15.260971,
   "end_time": "2021-01-07T23:29:09.511931",
   "environment_variables": {},
   "exception": null,
   "input_path": "__notebook__.ipynb",
   "output_path": "__notebook__.ipynb",
   "parameters": {},
   "start_time": "2021-01-07T23:28:54.250960",
   "version": "2.1.0"
  }
 },
 "nbformat": 4,
 "nbformat_minor": 4
}
